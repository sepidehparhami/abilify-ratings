{
 "cells": [
  {
   "cell_type": "markdown",
   "id": "2661d672",
   "metadata": {
    "papermill": {
     "duration": 0.01935,
     "end_time": "2024-05-22T02:16:56.797146",
     "exception": false,
     "start_time": "2024-05-22T02:16:56.777796",
     "status": "completed"
    },
    "tags": []
   },
   "source": [
    "# Classifying WebMD Drug Reviews"
   ]
  },
  {
   "cell_type": "markdown",
   "id": "80f38b47",
   "metadata": {
    "papermill": {
     "duration": 0.018854,
     "end_time": "2024-05-22T02:16:56.834901",
     "exception": false,
     "start_time": "2024-05-22T02:16:56.816047",
     "status": "completed"
    },
    "tags": []
   },
   "source": [
    "## Introduction\n",
    "In this notebook, I build a number of different classifiers that predict ratings from WebMD drug reviews using natural language processing (NLP) methods. I start with the classical ways of representing documents such as bag-of-words (BOW) and term frequency-inverse document frequency (TF-IDF) and progress to newer techniques that pass word embeddings (Word2Vec and GloVe) into neural network architectures including convolutional neural network (CNN), recurrent neural network (RNN), long short-term memory (LSTM) and transfer learning with large language models (LLMs) such as BERT and GPT. The intuition behind all methods other than the LLMs and examples of how to use them in Python come from the book Natural Language Processing in Action [1]. The book is available for free to those with a .edu email address from select institutions that have partnered with O'Reilly Media at https://learning.oreilly.com/library/view/natural-language-processing/9781617294631/."
   ]
  },
  {
   "cell_type": "markdown",
   "id": "6853c5ad",
   "metadata": {
    "papermill": {
     "duration": 0.0191,
     "end_time": "2024-05-22T02:16:56.872890",
     "exception": false,
     "start_time": "2024-05-22T02:16:56.853790",
     "status": "completed"
    },
    "tags": []
   },
   "source": [
    "## Setup"
   ]
  },
  {
   "cell_type": "code",
   "execution_count": 1,
   "id": "f832562a",
   "metadata": {
    "_cell_guid": "b1076dfc-b9ad-4769-8c92-a6c4dae69d19",
    "_uuid": "8f2839f25d086af736a60e9eeb907d3b93b6e0e5",
    "execution": {
     "iopub.execute_input": "2024-05-22T02:16:56.913960Z",
     "iopub.status.busy": "2024-05-22T02:16:56.913272Z",
     "iopub.status.idle": "2024-05-22T02:17:18.926586Z",
     "shell.execute_reply": "2024-05-22T02:17:18.925630Z"
    },
    "papermill": {
     "duration": 22.037305,
     "end_time": "2024-05-22T02:17:18.929343",
     "exception": false,
     "start_time": "2024-05-22T02:16:56.892038",
     "status": "completed"
    },
    "tags": []
   },
   "outputs": [
    {
     "name": "stderr",
     "output_type": "stream",
     "text": [
      "/opt/conda/lib/python3.10/site-packages/scipy/__init__.py:146: UserWarning: A NumPy version >=1.16.5 and <1.23.0 is required for this version of SciPy (detected version 1.23.5\n",
      "  warnings.warn(f\"A NumPy version >={np_minversion} and <{np_maxversion}\"\n"
     ]
    }
   ],
   "source": [
    "# imports\n",
    "import requests\n",
    "import numpy as np\n",
    "import pandas as pd\n",
    "import matplotlib.pyplot as plt\n",
    "import seaborn as sns\n",
    "import nltk\n",
    "import tensorflow as tf\n",
    "import smart_open\n",
    "import gensim\n",
    "from tqdm import tqdm # progress bar"
   ]
  },
  {
   "cell_type": "code",
   "execution_count": 2,
   "id": "b44d8ffe",
   "metadata": {
    "execution": {
     "iopub.execute_input": "2024-05-22T02:17:18.969321Z",
     "iopub.status.busy": "2024-05-22T02:17:18.968731Z",
     "iopub.status.idle": "2024-05-22T02:17:18.973411Z",
     "shell.execute_reply": "2024-05-22T02:17:18.972529Z"
    },
    "papermill": {
     "duration": 0.026753,
     "end_time": "2024-05-22T02:17:18.975288",
     "exception": false,
     "start_time": "2024-05-22T02:17:18.948535",
     "status": "completed"
    },
    "tags": []
   },
   "outputs": [],
   "source": [
    "# set random seeds\n",
    "np.random.seed(0)\n",
    "tf.random.set_seed(0)"
   ]
  },
  {
   "cell_type": "code",
   "execution_count": 3,
   "id": "1302c0e5",
   "metadata": {
    "execution": {
     "iopub.execute_input": "2024-05-22T02:17:19.013606Z",
     "iopub.status.busy": "2024-05-22T02:17:19.013308Z",
     "iopub.status.idle": "2024-05-22T02:17:19.017052Z",
     "shell.execute_reply": "2024-05-22T02:17:19.016226Z"
    },
    "papermill": {
     "duration": 0.02515,
     "end_time": "2024-05-22T02:17:19.018870",
     "exception": false,
     "start_time": "2024-05-22T02:17:18.993720",
     "status": "completed"
    },
    "tags": []
   },
   "outputs": [],
   "source": [
    "# # indicate whether dataset has already been spellchecked (True) or whether spellchecking is needed (False)\n",
    "# spellchecked = False"
   ]
  },
  {
   "cell_type": "code",
   "execution_count": 4,
   "id": "4959aa86",
   "metadata": {
    "execution": {
     "iopub.execute_input": "2024-05-22T02:17:19.056842Z",
     "iopub.status.busy": "2024-05-22T02:17:19.056571Z",
     "iopub.status.idle": "2024-05-22T02:17:20.469745Z",
     "shell.execute_reply": "2024-05-22T02:17:20.468012Z"
    },
    "papermill": {
     "duration": 1.435058,
     "end_time": "2024-05-22T02:17:20.472266",
     "exception": false,
     "start_time": "2024-05-22T02:17:19.037208",
     "status": "completed"
    },
    "tags": []
   },
   "outputs": [
    {
     "name": "stdout",
     "output_type": "stream",
     "text": [
      "[nltk_data] Downloading package wordnet to /usr/share/nltk_data...\n",
      "[nltk_data]   Package wordnet is already up-to-date!\n",
      "Archive:  /usr/share/nltk_data/corpora/wordnet.zip\r\n",
      "   creating: /usr/share/nltk_data/corpora/wordnet/\r\n",
      "  inflating: /usr/share/nltk_data/corpora/wordnet/lexnames  \r\n",
      "  inflating: /usr/share/nltk_data/corpora/wordnet/data.verb  \r\n",
      "  inflating: /usr/share/nltk_data/corpora/wordnet/index.adv  \r\n",
      "  inflating: /usr/share/nltk_data/corpora/wordnet/adv.exc  \r\n",
      "  inflating: /usr/share/nltk_data/corpora/wordnet/index.verb  \r\n",
      "  inflating: /usr/share/nltk_data/corpora/wordnet/cntlist.rev  \r\n",
      "  inflating: /usr/share/nltk_data/corpora/wordnet/data.adj  \r\n",
      "  inflating: /usr/share/nltk_data/corpora/wordnet/index.adj  \r\n",
      "  inflating: /usr/share/nltk_data/corpora/wordnet/LICENSE  \r\n",
      "  inflating: /usr/share/nltk_data/corpora/wordnet/citation.bib  \r\n",
      "  inflating: /usr/share/nltk_data/corpora/wordnet/noun.exc  \r\n",
      "  inflating: /usr/share/nltk_data/corpora/wordnet/verb.exc  \r\n",
      "  inflating: /usr/share/nltk_data/corpora/wordnet/README  \r\n",
      "  inflating: /usr/share/nltk_data/corpora/wordnet/index.sense  \r\n",
      "  inflating: /usr/share/nltk_data/corpora/wordnet/data.noun  \r\n",
      "  inflating: /usr/share/nltk_data/corpora/wordnet/data.adv  \r\n",
      "  inflating: /usr/share/nltk_data/corpora/wordnet/index.noun  \r\n",
      "  inflating: /usr/share/nltk_data/corpora/wordnet/adj.exc  \r\n"
     ]
    }
   ],
   "source": [
    "# download WordNet model for lemmatization\n",
    "nltk.download('wordnet')\n",
    "!unzip /usr/share/nltk_data/corpora/wordnet.zip -d /usr/share/nltk_data/corpora/"
   ]
  },
  {
   "cell_type": "code",
   "execution_count": 5,
   "id": "833315bd",
   "metadata": {
    "execution": {
     "iopub.execute_input": "2024-05-22T02:17:20.568520Z",
     "iopub.status.busy": "2024-05-22T02:17:20.568118Z",
     "iopub.status.idle": "2024-05-22T02:17:21.999876Z",
     "shell.execute_reply": "2024-05-22T02:17:21.998806Z"
    },
    "papermill": {
     "duration": 1.502945,
     "end_time": "2024-05-22T02:17:22.002481",
     "exception": false,
     "start_time": "2024-05-22T02:17:20.499536",
     "status": "completed"
    },
    "tags": []
   },
   "outputs": [
    {
     "name": "stdout",
     "output_type": "stream",
     "text": [
      "Before dropping records with NAs for overall rating or review text: 81666\n",
      "After dropping NAs: 71046\n"
     ]
    },
    {
     "data": {
      "text/html": [
       "<div>\n",
       "<style scoped>\n",
       "    .dataframe tbody tr th:only-of-type {\n",
       "        vertical-align: middle;\n",
       "    }\n",
       "\n",
       "    .dataframe tbody tr th {\n",
       "        vertical-align: top;\n",
       "    }\n",
       "\n",
       "    .dataframe thead th {\n",
       "        text-align: right;\n",
       "    }\n",
       "</style>\n",
       "<table border=\"1\" class=\"dataframe\">\n",
       "  <thead>\n",
       "    <tr style=\"text-align: right;\">\n",
       "      <th></th>\n",
       "      <th>drug_name</th>\n",
       "      <th>date</th>\n",
       "      <th>age</th>\n",
       "      <th>gender</th>\n",
       "      <th>time_on_drug</th>\n",
       "      <th>reviewer_type</th>\n",
       "      <th>condition</th>\n",
       "      <th>rating_overall</th>\n",
       "      <th>rating_effectiveness</th>\n",
       "      <th>rating_ease_of_use</th>\n",
       "      <th>rating_satisfaction</th>\n",
       "      <th>text</th>\n",
       "    </tr>\n",
       "  </thead>\n",
       "  <tbody>\n",
       "    <tr>\n",
       "      <th>0</th>\n",
       "      <td>Sertraline Oral</td>\n",
       "      <td>5/12/2024</td>\n",
       "      <td>45-54</td>\n",
       "      <td>Female</td>\n",
       "      <td>1 to less than 2 years</td>\n",
       "      <td>Patient</td>\n",
       "      <td>Posttraumatic Stress Syndrome</td>\n",
       "      <td>5.0</td>\n",
       "      <td>5</td>\n",
       "      <td>5</td>\n",
       "      <td>5</td>\n",
       "      <td>It's almost two years now and it has been so e...</td>\n",
       "    </tr>\n",
       "    <tr>\n",
       "      <th>1</th>\n",
       "      <td>Sertraline Oral</td>\n",
       "      <td>4/21/2024</td>\n",
       "      <td>35-44</td>\n",
       "      <td>Female</td>\n",
       "      <td>less than 1 month</td>\n",
       "      <td>Patient</td>\n",
       "      <td>Depression</td>\n",
       "      <td>1.0</td>\n",
       "      <td>1</td>\n",
       "      <td>1</td>\n",
       "      <td>1</td>\n",
       "      <td>Iv been on this 4 weeks and iv never felt so a...</td>\n",
       "    </tr>\n",
       "    <tr>\n",
       "      <th>2</th>\n",
       "      <td>Sertraline Oral</td>\n",
       "      <td>4/16/2024</td>\n",
       "      <td>25-34</td>\n",
       "      <td>Female</td>\n",
       "      <td>2 to less than 5 years</td>\n",
       "      <td>Patient</td>\n",
       "      <td>Repeated Episodes of Anxiety</td>\n",
       "      <td>4.3</td>\n",
       "      <td>4</td>\n",
       "      <td>4</td>\n",
       "      <td>5</td>\n",
       "      <td>Been taking sertraline for past 3 years. Had n...</td>\n",
       "    </tr>\n",
       "    <tr>\n",
       "      <th>3</th>\n",
       "      <td>Sertraline Oral</td>\n",
       "      <td>4/11/2024</td>\n",
       "      <td>45-54</td>\n",
       "      <td>Male</td>\n",
       "      <td>less than 1 month</td>\n",
       "      <td>Patient</td>\n",
       "      <td>Panic Disorder</td>\n",
       "      <td>1.7</td>\n",
       "      <td>1</td>\n",
       "      <td>3</td>\n",
       "      <td>1</td>\n",
       "      <td>Of course, take this with a pinch of salt beca...</td>\n",
       "    </tr>\n",
       "    <tr>\n",
       "      <th>4</th>\n",
       "      <td>Sertraline Oral</td>\n",
       "      <td>4/8/2024</td>\n",
       "      <td>13-18</td>\n",
       "      <td>Female</td>\n",
       "      <td>NaN</td>\n",
       "      <td>Patient</td>\n",
       "      <td>Major Depressive Disorder</td>\n",
       "      <td>3.0</td>\n",
       "      <td>2</td>\n",
       "      <td>4</td>\n",
       "      <td>3</td>\n",
       "      <td>used for a while saw no effects.</td>\n",
       "    </tr>\n",
       "  </tbody>\n",
       "</table>\n",
       "</div>"
      ],
      "text/plain": [
       "         drug_name       date    age  gender            time_on_drug  \\\n",
       "0  Sertraline Oral  5/12/2024  45-54  Female  1 to less than 2 years   \n",
       "1  Sertraline Oral  4/21/2024  35-44  Female       less than 1 month   \n",
       "2  Sertraline Oral  4/16/2024  25-34  Female  2 to less than 5 years   \n",
       "3  Sertraline Oral  4/11/2024  45-54    Male       less than 1 month   \n",
       "4  Sertraline Oral   4/8/2024  13-18  Female                     NaN   \n",
       "\n",
       "  reviewer_type                      condition  rating_overall  \\\n",
       "0       Patient  Posttraumatic Stress Syndrome             5.0   \n",
       "1       Patient                     Depression             1.0   \n",
       "2       Patient   Repeated Episodes of Anxiety             4.3   \n",
       "3       Patient                 Panic Disorder             1.7   \n",
       "4       Patient      Major Depressive Disorder             3.0   \n",
       "\n",
       "   rating_effectiveness  rating_ease_of_use  rating_satisfaction  \\\n",
       "0                     5                   5                    5   \n",
       "1                     1                   1                    1   \n",
       "2                     4                   4                    5   \n",
       "3                     1                   3                    1   \n",
       "4                     2                   4                    3   \n",
       "\n",
       "                                                text  \n",
       "0  It's almost two years now and it has been so e...  \n",
       "1  Iv been on this 4 weeks and iv never felt so a...  \n",
       "2  Been taking sertraline for past 3 years. Had n...  \n",
       "3  Of course, take this with a pinch of salt beca...  \n",
       "4                   used for a while saw no effects.  "
      ]
     },
     "execution_count": 5,
     "metadata": {},
     "output_type": "execute_result"
    }
   ],
   "source": [
    "# load datasets from scraping reviews from drugs on WebMD depression drugs list\n",
    "corpus_psych = pd.read_csv('/kaggle/input/psychiatric-drug-webmd-reviews/psychiatric_drug_webmd_reviews.csv',\n",
    "                     encoding_errors='replace', # use replacement character for characters not in UTF-8\n",
    "                     index_col=0)\n",
    "\n",
    "corpus_diabetes = pd.read_csv('/kaggle/input/webmd-reviews-for-diabetes-drugs/diabetes_drug_webmd_reviews.csv',\n",
    "                     encoding_errors='replace', # use replacement character for characters not in UTF-8\n",
    "                     index_col=0)\n",
    "\n",
    "corpus_hypertension = pd.read_csv('/kaggle/input/webmd-reviews-for-hypertension-drugs/hypertension_drug_webmd_reviews.csv',\n",
    "                     encoding_errors='replace', # use replacement character for characters not in UTF-8\n",
    "                     index_col=0)\n",
    "\n",
    "\n",
    "# consolidate datasets into a single corpus\n",
    "corpus = pd.concat([corpus_psych, corpus_diabetes, corpus_hypertension], ignore_index=True).drop_duplicates(ignore_index=True)\n",
    "\n",
    "# drop NAs\n",
    "print(f'Before dropping records with NAs for overall rating or review text: {len(corpus)}')\n",
    "corpus = corpus.dropna(subset=['rating_overall', 'text'], axis=0)\n",
    "corpus = corpus.reset_index(drop=True)\n",
    "print(f'After dropping NAs: {len(corpus)}')\n",
    "\n",
    "corpus.head(5)"
   ]
  },
  {
   "cell_type": "code",
   "execution_count": 6,
   "id": "a0dcfa95",
   "metadata": {
    "execution": {
     "iopub.execute_input": "2024-05-22T02:17:22.055546Z",
     "iopub.status.busy": "2024-05-22T02:17:22.055147Z",
     "iopub.status.idle": "2024-05-22T02:17:22.063428Z",
     "shell.execute_reply": "2024-05-22T02:17:22.062496Z"
    },
    "papermill": {
     "duration": 0.03387,
     "end_time": "2024-05-22T02:17:22.065388",
     "exception": false,
     "start_time": "2024-05-22T02:17:22.031518",
     "status": "completed"
    },
    "tags": []
   },
   "outputs": [],
   "source": [
    "# for this analysis, disregard the other available info about each review\n",
    "corpus = corpus[['rating_overall', 'text']]"
   ]
  },
  {
   "cell_type": "markdown",
   "id": "9d649b14",
   "metadata": {
    "papermill": {
     "duration": 0.027738,
     "end_time": "2024-05-22T02:17:22.117254",
     "exception": false,
     "start_time": "2024-05-22T02:17:22.089516",
     "status": "completed"
    },
    "tags": []
   },
   "source": [
    "## Exploratory Data Analysis"
   ]
  },
  {
   "cell_type": "code",
   "execution_count": 7,
   "id": "616771f1",
   "metadata": {
    "execution": {
     "iopub.execute_input": "2024-05-22T02:17:22.169624Z",
     "iopub.status.busy": "2024-05-22T02:17:22.169276Z",
     "iopub.status.idle": "2024-05-22T02:17:22.619111Z",
     "shell.execute_reply": "2024-05-22T02:17:22.618017Z"
    },
    "papermill": {
     "duration": 0.477342,
     "end_time": "2024-05-22T02:17:22.621987",
     "exception": false,
     "start_time": "2024-05-22T02:17:22.144645",
     "status": "completed"
    },
    "tags": []
   },
   "outputs": [
    {
     "name": "stderr",
     "output_type": "stream",
     "text": [
      "/opt/conda/lib/python3.10/site-packages/seaborn/axisgrid.py:118: UserWarning: The figure layout has changed to tight\n",
      "  self._figure.tight_layout(*args, **kwargs)\n"
     ]
    },
    {
     "data": {
      "image/png": "[encoded data removed]",
      "text/plain": [
       "<Figure size 500x500 with 1 Axes>"
      ]
     },
     "metadata": {},
     "output_type": "display_data"
    }
   ],
   "source": [
    "# plot distribution of ratings\n",
    "bins = 10\n",
    "bin_width = (5-1)/bins\n",
    "ax = sns.displot(corpus, x='rating_overall', bins=bins)\n",
    "plt.xticks(np.arange(1, 5+bin_width, bin_width))\n",
    "\n",
    "plt.show()"
   ]
  },
  {
   "cell_type": "code",
   "execution_count": 8,
   "id": "383ffdc3",
   "metadata": {
    "execution": {
     "iopub.execute_input": "2024-05-22T02:17:22.663677Z",
     "iopub.status.busy": "2024-05-22T02:17:22.663363Z",
     "iopub.status.idle": "2024-05-22T02:17:22.903084Z",
     "shell.execute_reply": "2024-05-22T02:17:22.902232Z"
    },
    "papermill": {
     "duration": 0.2628,
     "end_time": "2024-05-22T02:17:22.905109",
     "exception": false,
     "start_time": "2024-05-22T02:17:22.642309",
     "status": "completed"
    },
    "tags": []
   },
   "outputs": [
    {
     "data": {
      "text/plain": [
       "<Axes: xlabel='rating_rounded', ylabel='count'>"
      ]
     },
     "execution_count": 8,
     "metadata": {},
     "output_type": "execute_result"
    },
    {
     "data": {
      "image/png": "[encoded data removed]",
      "text/plain": [
       "<Figure size 640x480 with 1 Axes>"
      ]
     },
     "metadata": {},
     "output_type": "display_data"
    }
   ],
   "source": [
    "# round ratings and plot distribution\n",
    "corpus['rating_rounded'] = corpus['rating_overall'].round().astype(int)\n",
    "sns.countplot(corpus, x='rating_rounded')"
   ]
  },
  {
   "cell_type": "markdown",
   "id": "03e83411",
   "metadata": {
    "papermill": {
     "duration": 0.020681,
     "end_time": "2024-05-22T02:17:22.947279",
     "exception": false,
     "start_time": "2024-05-22T02:17:22.926598",
     "status": "completed"
    },
    "tags": []
   },
   "source": [
    "## Text Preprocessing\n",
    "Before performing classification, it is necessary to apply some preprocessing steps to the textual data to reduce noise. Here, I perform spellchecking, tokenization, lemmatization, and removal of punctuation. NLPiA actually recommends leaving in stop words to retain information about phrases that contain stop words, so I do not remove stop words in this analysis."
   ]
  },
  {
   "cell_type": "code",
   "execution_count": 9,
   "id": "9769180b",
   "metadata": {
    "execution": {
     "iopub.execute_input": "2024-05-22T02:17:22.989883Z",
     "iopub.status.busy": "2024-05-22T02:17:22.989354Z",
     "iopub.status.idle": "2024-05-22T02:17:22.994786Z",
     "shell.execute_reply": "2024-05-22T02:17:22.993897Z"
    },
    "papermill": {
     "duration": 0.028409,
     "end_time": "2024-05-22T02:17:22.996755",
     "exception": false,
     "start_time": "2024-05-22T02:17:22.968346",
     "status": "completed"
    },
    "tags": []
   },
   "outputs": [],
   "source": [
    "# !pip install pyspellchecker"
   ]
  },
  {
   "cell_type": "code",
   "execution_count": 10,
   "id": "83dfed2b",
   "metadata": {
    "execution": {
     "iopub.execute_input": "2024-05-22T02:17:23.037900Z",
     "iopub.status.busy": "2024-05-22T02:17:23.037631Z",
     "iopub.status.idle": "2024-05-22T02:17:23.042630Z",
     "shell.execute_reply": "2024-05-22T02:17:23.041715Z"
    },
    "papermill": {
     "duration": 0.027816,
     "end_time": "2024-05-22T02:17:23.044616",
     "exception": false,
     "start_time": "2024-05-22T02:17:23.016800",
     "status": "completed"
    },
    "tags": []
   },
   "outputs": [],
   "source": [
    "# # correct spellings\n",
    "# # a time consuming process - skip for now\n",
    "# from spellchecker import SpellChecker\n",
    "# from tqdm import tqdm\n",
    "\n",
    "# if not spellchecked:\n",
    "\n",
    "#     corpus['text_spellchecked'] = corpus['text'].copy()\n",
    "\n",
    "#     speller = SpellChecker()\n",
    "#     speller.distance = 2\n",
    "#     speller.word_frequency.load_words(['Abilify', 'Lexapro', 'SSRI', 'Lamictal', 'Klonopin', 'Latuda', 'escitalopram', 'aripiprazole', 'risperdal'])\n",
    "\n",
    "#     for i, sentence in enumerate(tqdm(corpus['text'])):\n",
    "#         words = sentence.split(' ')\n",
    "#         corpus.loc[i, 'text_spellchecked'] = ' '.join([speller.correction(word) if speller.correction(word) is not None else word for word in words])\n",
    "\n",
    "#     # print the words unrecognized by the spellchecker\n",
    "\n",
    "#     from itertools import chain\n",
    "#     words = np.unique(list(chain(*[sentence.split(' ') for sentence in corpus['text_spellchecked']])))\n",
    "#     speller.unknown(words)\n",
    "\n",
    "#     # save and inspect result of spell checking\n",
    "\n",
    "#     corpus.to_csv('webmd_drug_reviews_spellchecked.csv')\n",
    "#     corpus.head(10)\n",
    "    \n",
    "# # load already spellchecked corpus\n",
    "# else:\n",
    "#     corpus = pd.read_csv('/kaggle/input/webmd-drug-reviews-spellchecked/webmd_drug_reviews_spellchecked.csv')"
   ]
  },
  {
   "cell_type": "code",
   "execution_count": 11,
   "id": "063233c9",
   "metadata": {
    "execution": {
     "iopub.execute_input": "2024-05-22T02:17:23.087442Z",
     "iopub.status.busy": "2024-05-22T02:17:23.087191Z",
     "iopub.status.idle": "2024-05-22T02:17:23.093368Z",
     "shell.execute_reply": "2024-05-22T02:17:23.092529Z"
    },
    "papermill": {
     "duration": 0.030679,
     "end_time": "2024-05-22T02:17:23.095257",
     "exception": false,
     "start_time": "2024-05-22T02:17:23.064578",
     "status": "completed"
    },
    "tags": []
   },
   "outputs": [],
   "source": [
    "# apply preprocessing steps - tokenization, lowercase, remove punctuation, lemmatization\n",
    "# Natural Language Processing in Action book recommends leaving in stop words\n",
    "from nltk.tokenize import word_tokenize\n",
    "from nltk.stem import WordNetLemmatizer\n",
    "import string\n",
    "\n",
    "# skip removing stop words\n",
    "# stopwords = nltk.corpus.stopwords.words('english')\n",
    "\n",
    "lemmatizer = WordNetLemmatizer()\n",
    "\n",
    "def preprocess_text(text):\n",
    "    tokens = word_tokenize(text)\n",
    "    tokens_lower = [token.lower() for token in tokens]\n",
    "    tokens_no_punct = [token for token in tokens_lower if token not in string.punctuation]\n",
    "    # tokens_no_stopwords = [token for token in tokens_no_punct if token not in stopwords]\n",
    "    tokens_lemmatized = [lemmatizer.lemmatize(token) for token in tokens_no_punct]\n",
    "    sentence = ' '.join(tokens_lemmatized)\n",
    "    return sentence"
   ]
  },
  {
   "cell_type": "code",
   "execution_count": 12,
   "id": "a61349fc",
   "metadata": {
    "execution": {
     "iopub.execute_input": "2024-05-22T02:17:23.136689Z",
     "iopub.status.busy": "2024-05-22T02:17:23.136387Z",
     "iopub.status.idle": "2024-05-22T02:18:53.038087Z",
     "shell.execute_reply": "2024-05-22T02:18:53.037203Z"
    },
    "papermill": {
     "duration": 89.945202,
     "end_time": "2024-05-22T02:18:53.060782",
     "exception": false,
     "start_time": "2024-05-22T02:17:23.115580",
     "status": "completed"
    },
    "tags": []
   },
   "outputs": [
    {
     "data": {
      "text/plain": [
       "0    it 's almost two year now and it ha been so ef...\n",
       "1    iv been on this 4 week and iv never felt so an...\n",
       "2    been taking sertraline for past 3 year had no ...\n",
       "3    of course take this with a pinch of salt becau...\n",
       "4                       used for a while saw no effect\n",
       "Name: text_preprocessed, dtype: object"
      ]
     },
     "execution_count": 12,
     "metadata": {},
     "output_type": "execute_result"
    }
   ],
   "source": [
    "# corpus['text_preprocessed'] = corpus['text_spellchecked'].apply(preprocess_text)\n",
    "corpus['text_preprocessed'] = corpus['text'].apply(preprocess_text)\n",
    "\n",
    "# drop any entries that are now empty\n",
    "corpus = corpus[corpus['text_preprocessed'] != '']\n",
    "corpus['text_preprocessed'].head(5)"
   ]
  },
  {
   "cell_type": "code",
   "execution_count": 13,
   "id": "feb7b16b",
   "metadata": {
    "execution": {
     "iopub.execute_input": "2024-05-22T02:18:53.103282Z",
     "iopub.status.busy": "2024-05-22T02:18:53.102935Z",
     "iopub.status.idle": "2024-05-22T02:19:01.947356Z",
     "shell.execute_reply": "2024-05-22T02:19:01.946526Z"
    },
    "papermill": {
     "duration": 8.868332,
     "end_time": "2024-05-22T02:19:01.949702",
     "exception": false,
     "start_time": "2024-05-22T02:18:53.081370",
     "status": "completed"
    },
    "tags": []
   },
   "outputs": [],
   "source": [
    "# generate sequences (encode tokens using numeric values) that are padded to the same length\n",
    "# make equal length sequences in order to use as neural network input\n",
    "from tensorflow.keras.preprocessing.text import Tokenizer\n",
    "from tensorflow.keras.preprocessing.sequence import pad_sequences\n",
    "\n",
    "VOCAB_SIZE = 3000\n",
    "MAX_SEQUENCE_LENGTH = 150\n",
    "\n",
    "tokenizer = Tokenizer(oov_token='<OOV>', num_words=VOCAB_SIZE)\n",
    "\n",
    "sentences = corpus['text_preprocessed']\n",
    "\n",
    "# generate word indexes\n",
    "tokenizer.fit_on_texts(sentences)\n",
    "\n",
    "# generate sequences and apply padding\n",
    "sequences = tokenizer.texts_to_sequences(sentences)\n",
    "sequences_padded = pad_sequences(sequences, maxlen=MAX_SEQUENCE_LENGTH, padding='post')\n",
    "\n",
    "# instead of a list of documents, make each entry in the list a sublist of tokens in a document\n",
    "tokens_sentences = [x.split() for x in sentences]"
   ]
  },
  {
   "cell_type": "markdown",
   "id": "84cd5295",
   "metadata": {
    "papermill": {
     "duration": 0.021618,
     "end_time": "2024-05-22T02:19:01.993183",
     "exception": false,
     "start_time": "2024-05-22T02:19:01.971565",
     "status": "completed"
    },
    "tags": []
   },
   "source": [
    "## Helper Functions\n"
   ]
  },
  {
   "cell_type": "code",
   "execution_count": 14,
   "id": "fbff76e8",
   "metadata": {
    "execution": {
     "iopub.execute_input": "2024-05-22T02:19:02.038938Z",
     "iopub.status.busy": "2024-05-22T02:19:02.038570Z",
     "iopub.status.idle": "2024-05-22T02:19:02.044511Z",
     "shell.execute_reply": "2024-05-22T02:19:02.043646Z"
    },
    "papermill": {
     "duration": 0.031045,
     "end_time": "2024-05-22T02:19:02.046448",
     "exception": false,
     "start_time": "2024-05-22T02:19:02.015403",
     "status": "completed"
    },
    "tags": []
   },
   "outputs": [],
   "source": [
    "# get 1 and 5 star ratings only\n",
    "# perform after train-test split to have same division of samples when classifying all reviews\n",
    "def generate_subsets(X, y):\n",
    "    # subset of 1 and 5 star ratings\n",
    "    keep = (y == 0) | (y == 4)\n",
    "\n",
    "    X_subset = X[keep]\n",
    "    y_subset = y[keep]\n",
    "    y_subset = np.array([y if y==0 else 1 for y in y_subset])\n",
    "    \n",
    "    return X_subset, y_subset"
   ]
  },
  {
   "cell_type": "code",
   "execution_count": 15,
   "id": "f78a581e",
   "metadata": {
    "execution": {
     "iopub.execute_input": "2024-05-22T02:19:02.092612Z",
     "iopub.status.busy": "2024-05-22T02:19:02.092298Z",
     "iopub.status.idle": "2024-05-22T02:19:02.099622Z",
     "shell.execute_reply": "2024-05-22T02:19:02.098771Z"
    },
    "papermill": {
     "duration": 0.032879,
     "end_time": "2024-05-22T02:19:02.101659",
     "exception": false,
     "start_time": "2024-05-22T02:19:02.068780",
     "status": "completed"
    },
    "tags": []
   },
   "outputs": [],
   "source": [
    "# evaluation metrics\n",
    "# compute accuracy and balanced accuracy and plot confusion matrix\n",
    "# balanced accuracy: average of recall obtained for each class\n",
    "from sklearn.metrics import accuracy_score, balanced_accuracy_score, ConfusionMatrixDisplay, confusion_matrix\n",
    "\n",
    "def evaluation(y_test, y_pred):\n",
    "    print(f'accuracy: {accuracy_score(y_test, y_pred):.4f}')\n",
    "    print(f'balanced accuracy: {balanced_accuracy_score(y_test, y_pred):.4f}')\n",
    "\n",
    "    fig, ax = plt.subplots(1, 1, figsize=(6, 6))\n",
    "    cm = confusion_matrix(y_test, y_pred)\n",
    "    classes = np.unique(y_test) + 1  # sorted in ascending order\n",
    "    cm_plot = ConfusionMatrixDisplay(cm, display_labels=classes)\n",
    "    cm_plot.plot(cmap='Blues', ax=ax)\n",
    "    im = cm_plot.im_\n",
    "    im.colorbar.remove()\n",
    "    plt.colorbar(im, orientation='horizontal', pad=0.2, label='Number of samples')\n",
    "\n",
    "    plt.title('');"
   ]
  },
  {
   "cell_type": "markdown",
   "id": "eea64f0a",
   "metadata": {
    "papermill": {
     "duration": 0.024005,
     "end_time": "2024-05-22T02:19:02.147692",
     "exception": false,
     "start_time": "2024-05-22T02:19:02.123687",
     "status": "completed"
    },
    "tags": []
   },
   "source": [
    "## Classical NLP"
   ]
  },
  {
   "cell_type": "markdown",
   "id": "e2b481b4",
   "metadata": {
    "papermill": {
     "duration": 0.021677,
     "end_time": "2024-05-22T02:19:02.191054",
     "exception": false,
     "start_time": "2024-05-22T02:19:02.169377",
     "status": "completed"
    },
    "tags": []
   },
   "source": [
    "### Bag of Words and Naive Bayes"
   ]
  },
  {
   "cell_type": "code",
   "execution_count": 16,
   "id": "302baedc",
   "metadata": {
    "execution": {
     "iopub.execute_input": "2024-05-22T02:19:02.234915Z",
     "iopub.status.busy": "2024-05-22T02:19:02.234634Z",
     "iopub.status.idle": "2024-05-22T02:19:02.239126Z",
     "shell.execute_reply": "2024-05-22T02:19:02.238363Z"
    },
    "papermill": {
     "duration": 0.028556,
     "end_time": "2024-05-22T02:19:02.241019",
     "exception": false,
     "start_time": "2024-05-22T02:19:02.212463",
     "status": "completed"
    },
    "tags": []
   },
   "outputs": [],
   "source": [
    "# define y\n",
    "y = corpus['rating_rounded'] - 1  # get labels 0-4 instead of 1-5"
   ]
  },
  {
   "cell_type": "code",
   "execution_count": 17,
   "id": "b68a0f90",
   "metadata": {
    "execution": {
     "iopub.execute_input": "2024-05-22T02:19:02.284205Z",
     "iopub.status.busy": "2024-05-22T02:19:02.283934Z",
     "iopub.status.idle": "2024-05-22T02:19:02.288974Z",
     "shell.execute_reply": "2024-05-22T02:19:02.288302Z"
    },
    "papermill": {
     "duration": 0.028489,
     "end_time": "2024-05-22T02:19:02.290850",
     "exception": false,
     "start_time": "2024-05-22T02:19:02.262361",
     "status": "completed"
    },
    "tags": []
   },
   "outputs": [],
   "source": [
    "# use only 1 and 5 star ratings to generate BOW because full dataset does not fit in RAM\n",
    "keep = (y == 0) | (y == 4)"
   ]
  },
  {
   "cell_type": "code",
   "execution_count": 18,
   "id": "fdf85036",
   "metadata": {
    "execution": {
     "iopub.execute_input": "2024-05-22T02:19:02.334498Z",
     "iopub.status.busy": "2024-05-22T02:19:02.334204Z",
     "iopub.status.idle": "2024-05-22T02:23:14.357818Z",
     "shell.execute_reply": "2024-05-22T02:23:14.356921Z"
    },
    "papermill": {
     "duration": 252.048321,
     "end_time": "2024-05-22T02:23:14.360320",
     "exception": false,
     "start_time": "2024-05-22T02:19:02.311999",
     "status": "completed"
    },
    "tags": []
   },
   "outputs": [],
   "source": [
    "# produce BOW\n",
    "from collections import Counter\n",
    "\n",
    "tokens_sentences_keep = np.array(tokens_sentences, dtype=object)[keep]\n",
    "bags_of_words = [Counter(sentence) for sentence in tokens_sentences_keep]\n",
    "df_bows = pd.DataFrame.from_records(bags_of_words)\n",
    "df_bows = df_bows.fillna(0).astype(int)"
   ]
  },
  {
   "cell_type": "code",
   "execution_count": 19,
   "id": "50c3a321",
   "metadata": {
    "execution": {
     "iopub.execute_input": "2024-05-22T02:23:14.403036Z",
     "iopub.status.busy": "2024-05-22T02:23:14.402736Z",
     "iopub.status.idle": "2024-05-22T02:23:20.716289Z",
     "shell.execute_reply": "2024-05-22T02:23:20.715405Z"
    },
    "papermill": {
     "duration": 6.337416,
     "end_time": "2024-05-22T02:23:20.718917",
     "exception": false,
     "start_time": "2024-05-22T02:23:14.381501",
     "status": "completed"
    },
    "tags": []
   },
   "outputs": [],
   "source": [
    "from sklearn.model_selection import train_test_split\n",
    "\n",
    "test_fraction = 0.2\n",
    "X_train, X_test, y_train, y_test = train_test_split(df_bows,\n",
    "                                                    y[keep],\n",
    "                                                    test_size=test_fraction,\n",
    "                                                    shuffle=True,\n",
    "                                                    random_state=0\n",
    "                                                    )"
   ]
  },
  {
   "cell_type": "code",
   "execution_count": 20,
   "id": "75d5f7c0",
   "metadata": {
    "execution": {
     "iopub.execute_input": "2024-05-22T02:23:20.772257Z",
     "iopub.status.busy": "2024-05-22T02:23:20.771881Z",
     "iopub.status.idle": "2024-05-22T02:23:25.506402Z",
     "shell.execute_reply": "2024-05-22T02:23:25.505443Z"
    },
    "papermill": {
     "duration": 4.760909,
     "end_time": "2024-05-22T02:23:25.508537",
     "exception": false,
     "start_time": "2024-05-22T02:23:20.747628",
     "status": "completed"
    },
    "tags": []
   },
   "outputs": [
    {
     "name": "stdout",
     "output_type": "stream",
     "text": [
      "accuracy: 0.8790\n",
      "balanced accuracy: 0.7816\n"
     ]
    },
    {
     "data": {
      "image/png": "[encoded data removed]",
      "text/plain": [
       "<Figure size 600x600 with 2 Axes>"
      ]
     },
     "metadata": {},
     "output_type": "display_data"
    }
   ],
   "source": [
    "# fit naive Bayes, predict, and evaluate performance\n",
    "from sklearn.naive_bayes import MultinomialNB\n",
    "\n",
    "model = MultinomialNB()\n",
    "model.fit(X_train, y_train)\n",
    "\n",
    "y_pred = model.predict(X_test)\n",
    "\n",
    "evaluation(y_test, y_pred)"
   ]
  },
  {
   "cell_type": "markdown",
   "id": "67488a60",
   "metadata": {
    "papermill": {
     "duration": 0.021628,
     "end_time": "2024-05-22T02:23:25.551945",
     "exception": false,
     "start_time": "2024-05-22T02:23:25.530317",
     "status": "completed"
    },
    "tags": []
   },
   "source": [
    "### TF-IDF and Latent Semantic Analysis (LSA)"
   ]
  },
  {
   "cell_type": "code",
   "execution_count": 21,
   "id": "80ab38ae",
   "metadata": {
    "execution": {
     "iopub.execute_input": "2024-05-22T02:23:25.596078Z",
     "iopub.status.busy": "2024-05-22T02:23:25.595376Z",
     "iopub.status.idle": "2024-05-22T02:23:25.613552Z",
     "shell.execute_reply": "2024-05-22T02:23:25.612604Z"
    },
    "papermill": {
     "duration": 0.042756,
     "end_time": "2024-05-22T02:23:25.615664",
     "exception": false,
     "start_time": "2024-05-22T02:23:25.572908",
     "status": "completed"
    },
    "tags": []
   },
   "outputs": [],
   "source": [
    "# subset of 1 and 5 star ratings\n",
    "X_subset, y_subset = generate_subsets(sentences, y)"
   ]
  },
  {
   "cell_type": "code",
   "execution_count": 22,
   "id": "8aec7a14",
   "metadata": {
    "execution": {
     "iopub.execute_input": "2024-05-22T02:23:25.660219Z",
     "iopub.status.busy": "2024-05-22T02:23:25.659375Z",
     "iopub.status.idle": "2024-05-22T02:23:44.170369Z",
     "shell.execute_reply": "2024-05-22T02:23:44.169401Z"
    },
    "papermill": {
     "duration": 18.535721,
     "end_time": "2024-05-22T02:23:44.172810",
     "exception": false,
     "start_time": "2024-05-22T02:23:25.637089",
     "status": "completed"
    },
    "tags": []
   },
   "outputs": [],
   "source": [
    "# produce TF-IDF matrix\n",
    "from sklearn.feature_extraction.text import TfidfVectorizer\n",
    "\n",
    "tfidf_model = TfidfVectorizer()\n",
    "tfidf_matrix = tfidf_model.fit_transform(X_subset).toarray()\n",
    "tfidf_matrix = tfidf_matrix - tfidf_matrix.mean(axis=0) # center data\n",
    "tfidf_matrix = (tfidf_matrix.T / np.linalg.norm(tfidf_matrix, axis=1)).T  # normalize with L2 norm (vector length)"
   ]
  },
  {
   "cell_type": "code",
   "execution_count": 23,
   "id": "7d780ed4",
   "metadata": {
    "execution": {
     "iopub.execute_input": "2024-05-22T02:23:44.217468Z",
     "iopub.status.busy": "2024-05-22T02:23:44.217161Z",
     "iopub.status.idle": "2024-05-22T02:29:43.940585Z",
     "shell.execute_reply": "2024-05-22T02:29:43.939708Z"
    },
    "papermill": {
     "duration": 359.747666,
     "end_time": "2024-05-22T02:29:43.943059",
     "exception": false,
     "start_time": "2024-05-22T02:23:44.195393",
     "status": "completed"
    },
    "tags": []
   },
   "outputs": [],
   "source": [
    "# perform truncated SVD\n",
    "from sklearn.decomposition import TruncatedSVD\n",
    " \n",
    "svd = TruncatedSVD(n_components=16, n_iter=100)\n",
    "svd_topic_vectors = svd.fit_transform(tfidf_matrix)"
   ]
  },
  {
   "cell_type": "code",
   "execution_count": 24,
   "id": "696882fe",
   "metadata": {
    "execution": {
     "iopub.execute_input": "2024-05-22T02:29:43.986540Z",
     "iopub.status.busy": "2024-05-22T02:29:43.986147Z",
     "iopub.status.idle": "2024-05-22T02:29:45.821965Z",
     "shell.execute_reply": "2024-05-22T02:29:45.821010Z"
    },
    "papermill": {
     "duration": 1.860571,
     "end_time": "2024-05-22T02:29:45.824899",
     "exception": false,
     "start_time": "2024-05-22T02:29:43.964328",
     "status": "completed"
    },
    "tags": []
   },
   "outputs": [
    {
     "data": {
      "image/png": "[encoded data removed]",
      "text/plain": [
       "<Figure size 640x480 with 1 Axes>"
      ]
     },
     "metadata": {},
     "output_type": "display_data"
    }
   ],
   "source": [
    "# plot first 2 PCs and color by 1 vs 5 star reviews\n",
    "x_coord = np.array([doc[0] for doc in svd_topic_vectors])\n",
    "y_coord = np.array([doc[1] for doc in svd_topic_vectors])\n",
    "\n",
    "sns.scatterplot(x=x_coord, y=y_coord, hue=y_subset, alpha=0.4) # add 1 to change labels from 0 and 4 to 1 and 5\n",
    "plt.xlabel('PC1')\n",
    "plt.ylabel('PC2')\n",
    "plt.title('First 2 Dimensions of Topic Vectors');"
   ]
  },
  {
   "cell_type": "code",
   "execution_count": 25,
   "id": "b844d746",
   "metadata": {
    "execution": {
     "iopub.execute_input": "2024-05-22T02:29:45.872049Z",
     "iopub.status.busy": "2024-05-22T02:29:45.871741Z",
     "iopub.status.idle": "2024-05-22T02:29:46.358662Z",
     "shell.execute_reply": "2024-05-22T02:29:46.357686Z"
    },
    "papermill": {
     "duration": 0.512841,
     "end_time": "2024-05-22T02:29:46.360839",
     "exception": false,
     "start_time": "2024-05-22T02:29:45.847998",
     "status": "completed"
    },
    "tags": []
   },
   "outputs": [
    {
     "name": "stdout",
     "output_type": "stream",
     "text": [
      "accuracy: 0.8160\n",
      "balanced accuracy: 0.6343\n"
     ]
    },
    {
     "data": {
      "image/png": "[encoded data removed]",
      "text/plain": [
       "<Figure size 600x600 with 2 Axes>"
      ]
     },
     "metadata": {},
     "output_type": "display_data"
    }
   ],
   "source": [
    "from sklearn.discriminant_analysis import LinearDiscriminantAnalysis\n",
    "\n",
    "X_train, X_test, y_train, y_test = train_test_split(svd_topic_vectors, y_subset, test_size=0.2, random_state=0)\n",
    "model = LinearDiscriminantAnalysis(n_components=1)\n",
    "model.fit(X_train, y_train)\n",
    "y_pred = model.predict(X_test)\n",
    "\n",
    "evaluation(y_test, y_pred)"
   ]
  },
  {
   "cell_type": "markdown",
   "id": "e7026b60",
   "metadata": {
    "papermill": {
     "duration": 0.022588,
     "end_time": "2024-05-22T02:29:46.406953",
     "exception": false,
     "start_time": "2024-05-22T02:29:46.384365",
     "status": "completed"
    },
    "tags": []
   },
   "source": [
    "## Deep Learning with Word Embeddings"
   ]
  },
  {
   "cell_type": "markdown",
   "id": "fe354dbf",
   "metadata": {
    "papermill": {
     "duration": 0.022429,
     "end_time": "2024-05-22T02:29:46.451767",
     "exception": false,
     "start_time": "2024-05-22T02:29:46.429338",
     "status": "completed"
    },
    "tags": []
   },
   "source": [
    "### Convolutional Neural Network (CNN)\n",
    "[2] contains a tutorial on how to create an embedding layer."
   ]
  },
  {
   "cell_type": "code",
   "execution_count": 26,
   "id": "986f1069",
   "metadata": {
    "execution": {
     "iopub.execute_input": "2024-05-22T02:29:46.498975Z",
     "iopub.status.busy": "2024-05-22T02:29:46.498671Z",
     "iopub.status.idle": "2024-05-22T02:30:52.567267Z",
     "shell.execute_reply": "2024-05-22T02:30:52.566415Z"
    },
    "papermill": {
     "duration": 66.095485,
     "end_time": "2024-05-22T02:30:52.569794",
     "exception": false,
     "start_time": "2024-05-22T02:29:46.474309",
     "status": "completed"
    },
    "tags": []
   },
   "outputs": [],
   "source": [
    "EMBEDDING_DIM = 300\n",
    "\n",
    "w2v_file = '/kaggle/input/googlenewsvectorsnegative300/GoogleNews-vectors-negative300.bin'\n",
    "w2v_model = gensim.models.KeyedVectors.load_word2vec_format(w2v_file, binary=True)"
   ]
  },
  {
   "cell_type": "code",
   "execution_count": 27,
   "id": "65b17365",
   "metadata": {
    "execution": {
     "iopub.execute_input": "2024-05-22T02:30:52.618631Z",
     "iopub.status.busy": "2024-05-22T02:30:52.618267Z",
     "iopub.status.idle": "2024-05-22T02:30:52.968849Z",
     "shell.execute_reply": "2024-05-22T02:30:52.967853Z"
    },
    "papermill": {
     "duration": 0.37709,
     "end_time": "2024-05-22T02:30:52.971247",
     "exception": false,
     "start_time": "2024-05-22T02:30:52.594157",
     "status": "completed"
    },
    "tags": []
   },
   "outputs": [],
   "source": [
    "# https://blog.keras.io/using-pre-trained-word-embeddings-in-a-keras-model.html\n",
    "word_index = tokenizer.word_index\n",
    "word_list = sorted(word_index.items(), key=lambda x:x[1])\n",
    "word_list = [x[0] for x in word_list]\n",
    "\n",
    "embedding_values = [w2v_model[word] if word in w2v_model else np.zeros(EMBEDDING_DIM) for word in word_list]\n",
    "embedding_matrix = np.vstack([np.zeros([1, EMBEDDING_DIM]),\n",
    "                             np.array(embedding_values)])"
   ]
  },
  {
   "cell_type": "code",
   "execution_count": 28,
   "id": "cdb81a43",
   "metadata": {
    "execution": {
     "iopub.execute_input": "2024-05-22T02:30:53.019585Z",
     "iopub.status.busy": "2024-05-22T02:30:53.019216Z",
     "iopub.status.idle": "2024-05-22T02:30:53.041110Z",
     "shell.execute_reply": "2024-05-22T02:30:53.040266Z"
    },
    "papermill": {
     "duration": 0.048557,
     "end_time": "2024-05-22T02:30:53.043329",
     "exception": false,
     "start_time": "2024-05-22T02:30:52.994772",
     "status": "completed"
    },
    "tags": []
   },
   "outputs": [],
   "source": [
    "from tensorflow.keras.layers import Embedding\n",
    "\n",
    "embedding_layer_w2v = Embedding(len(word_index)+1,\n",
    "                            EMBEDDING_DIM,\n",
    "                            weights=[embedding_matrix],\n",
    "                            input_length=MAX_SEQUENCE_LENGTH,\n",
    "                            trainable=False)"
   ]
  },
  {
   "cell_type": "code",
   "execution_count": 29,
   "id": "2db4025c",
   "metadata": {
    "execution": {
     "iopub.execute_input": "2024-05-22T02:30:53.092056Z",
     "iopub.status.busy": "2024-05-22T02:30:53.091315Z",
     "iopub.status.idle": "2024-05-22T02:30:54.403296Z",
     "shell.execute_reply": "2024-05-22T02:30:54.402457Z"
    },
    "papermill": {
     "duration": 1.338777,
     "end_time": "2024-05-22T02:30:54.405723",
     "exception": false,
     "start_time": "2024-05-22T02:30:53.066946",
     "status": "completed"
    },
    "tags": []
   },
   "outputs": [],
   "source": [
    "from tensorflow.keras.layers import Input, Conv1D, MaxPooling1D, Flatten, Dense, Dropout, GlobalMaxPooling1D\n",
    "from tensorflow.keras import Model\n",
    "\n",
    "# CNN using Word2Vec embeddings - 1 and 5 star ratings only\n",
    "sequence_input = Input(shape=(MAX_SEQUENCE_LENGTH,), dtype='int32')\n",
    "embedded_sequences = embedding_layer_w2v(sequence_input)\n",
    "x = Conv1D(128, 3, activation='relu')(embedded_sequences)\n",
    "x = MaxPooling1D(3)(x)\n",
    "x = Dropout(0.2)(x)\n",
    "x = Conv1D(128, 3, activation='relu')(x)\n",
    "x = MaxPooling1D(3)(x)\n",
    "x = Dropout(0.2)(x)\n",
    "x = GlobalMaxPooling1D()(x)\n",
    "x = Dropout(0.1)(x)\n",
    "x = Flatten()(x)\n",
    "x = Dense(32, activation='relu')(x)\n",
    "preds = Dense(2, activation='softmax')(x)\n",
    "\n",
    "model = Model(sequence_input, preds)\n",
    "opt = tf.keras.optimizers.Adam(learning_rate=1e-3)\n",
    "model.compile(loss='sparse_categorical_crossentropy',\n",
    "              optimizer=opt,\n",
    "              metrics=['accuracy'])"
   ]
  },
  {
   "cell_type": "code",
   "execution_count": 30,
   "id": "763b8331",
   "metadata": {
    "execution": {
     "iopub.execute_input": "2024-05-22T02:30:54.454132Z",
     "iopub.status.busy": "2024-05-22T02:30:54.453757Z",
     "iopub.status.idle": "2024-05-22T02:30:54.503048Z",
     "shell.execute_reply": "2024-05-22T02:30:54.502171Z"
    },
    "papermill": {
     "duration": 0.07624,
     "end_time": "2024-05-22T02:30:54.505409",
     "exception": false,
     "start_time": "2024-05-22T02:30:54.429169",
     "status": "completed"
    },
    "tags": []
   },
   "outputs": [],
   "source": [
    "# perform split, and then take 1 and 5 star ratings in order to have same division of samples when classifying all reviews\n",
    "test_fraction = 0.2\n",
    "X_train, X_test, y_train, y_test = train_test_split(sequences_padded,\n",
    "                                                    y,\n",
    "                                                    test_size=test_fraction,\n",
    "                                                    shuffle=True,\n",
    "                                                    random_state=0\n",
    "                                                    )\n",
    "\n",
    "# subset of 1 and 5 star ratings\n",
    "X_train_subset, y_train_subset = generate_subsets(X_train, y_train)\n",
    "X_test_subset, y_test_subset = generate_subsets(X_test, y_test)"
   ]
  },
  {
   "cell_type": "code",
   "execution_count": 31,
   "id": "aa68542d",
   "metadata": {
    "execution": {
     "iopub.execute_input": "2024-05-22T02:30:54.554617Z",
     "iopub.status.busy": "2024-05-22T02:30:54.553892Z",
     "iopub.status.idle": "2024-05-22T02:30:54.565197Z",
     "shell.execute_reply": "2024-05-22T02:30:54.564210Z"
    },
    "papermill": {
     "duration": 0.037811,
     "end_time": "2024-05-22T02:30:54.567252",
     "exception": false,
     "start_time": "2024-05-22T02:30:54.529441",
     "status": "completed"
    },
    "tags": []
   },
   "outputs": [],
   "source": [
    "from sklearn.utils import class_weight\n",
    "\n",
    "classes_subset = [0, 1] # labels were transformed in generate_subsets function\n",
    "class_weights_subset = class_weight.compute_class_weight('balanced', classes=classes_subset, y=y_train_subset)\n",
    "class_weights_subset = dict(enumerate(class_weights_subset))"
   ]
  },
  {
   "cell_type": "code",
   "execution_count": 32,
   "id": "082d682f",
   "metadata": {
    "execution": {
     "iopub.execute_input": "2024-05-22T02:30:54.615770Z",
     "iopub.status.busy": "2024-05-22T02:30:54.615429Z",
     "iopub.status.idle": "2024-05-22T02:30:54.620091Z",
     "shell.execute_reply": "2024-05-22T02:30:54.619139Z"
    },
    "papermill": {
     "duration": 0.030614,
     "end_time": "2024-05-22T02:30:54.622088",
     "exception": false,
     "start_time": "2024-05-22T02:30:54.591474",
     "status": "completed"
    },
    "tags": []
   },
   "outputs": [],
   "source": [
    "early_stop_callback = tf.keras.callbacks.EarlyStopping(monitor='val_loss', \n",
    "                                                       mode='min',\n",
    "                                                       verbose=1,\n",
    "                                                       patience=3)"
   ]
  },
  {
   "cell_type": "code",
   "execution_count": 33,
   "id": "245de507",
   "metadata": {
    "execution": {
     "iopub.execute_input": "2024-05-22T02:30:54.670700Z",
     "iopub.status.busy": "2024-05-22T02:30:54.670145Z",
     "iopub.status.idle": "2024-05-22T02:31:25.236952Z",
     "shell.execute_reply": "2024-05-22T02:31:25.236057Z"
    },
    "papermill": {
     "duration": 30.592956,
     "end_time": "2024-05-22T02:31:25.238995",
     "exception": false,
     "start_time": "2024-05-22T02:30:54.646039",
     "status": "completed"
    },
    "tags": []
   },
   "outputs": [
    {
     "name": "stdout",
     "output_type": "stream",
     "text": [
      "Epoch 1/20\n",
      "638/638 [==============================] - 7s 5ms/step - loss: 0.4647 - accuracy: 0.7763 - val_loss: 0.3560 - val_accuracy: 0.8413\n",
      "Epoch 2/20\n",
      "638/638 [==============================] - 3s 4ms/step - loss: 0.3401 - accuracy: 0.8448 - val_loss: 0.3282 - val_accuracy: 0.8514\n",
      "Epoch 3/20\n",
      "638/638 [==============================] - 3s 4ms/step - loss: 0.2811 - accuracy: 0.8750 - val_loss: 0.2874 - val_accuracy: 0.8717\n",
      "Epoch 4/20\n",
      "638/638 [==============================] - 3s 5ms/step - loss: 0.2362 - accuracy: 0.8963 - val_loss: 0.2980 - val_accuracy: 0.8713\n",
      "Epoch 5/20\n",
      "638/638 [==============================] - 3s 4ms/step - loss: 0.2037 - accuracy: 0.9097 - val_loss: 0.2677 - val_accuracy: 0.8814\n",
      "Epoch 6/20\n",
      "638/638 [==============================] - 3s 4ms/step - loss: 0.1806 - accuracy: 0.9211 - val_loss: 0.2369 - val_accuracy: 0.9008\n",
      "Epoch 7/20\n",
      "638/638 [==============================] - 3s 4ms/step - loss: 0.1589 - accuracy: 0.9300 - val_loss: 0.3154 - val_accuracy: 0.8713\n",
      "Epoch 8/20\n",
      "638/638 [==============================] - 3s 4ms/step - loss: 0.1433 - accuracy: 0.9378 - val_loss: 0.2555 - val_accuracy: 0.8995\n",
      "Epoch 9/20\n",
      "638/638 [==============================] - 3s 4ms/step - loss: 0.1256 - accuracy: 0.9462 - val_loss: 0.2737 - val_accuracy: 0.8911\n",
      "Epoch 9: early stopping\n",
      "180/180 [==============================] - 0s 2ms/step\n"
     ]
    }
   ],
   "source": [
    "model.fit(X_train_subset,\n",
    "          y_train_subset,\n",
    "          epochs=20,\n",
    "          batch_size=32,\n",
    "          validation_split=0.1,\n",
    "          class_weight=class_weights_subset,\n",
    "          callbacks=early_stop_callback)\n",
    "\n",
    "y_pred = model.predict(X_test_subset)\n",
    "y_pred_label = [np.argmax(y) for y in y_pred]"
   ]
  },
  {
   "cell_type": "code",
   "execution_count": 34,
   "id": "449e2afc",
   "metadata": {
    "execution": {
     "iopub.execute_input": "2024-05-22T02:31:25.363879Z",
     "iopub.status.busy": "2024-05-22T02:31:25.363572Z",
     "iopub.status.idle": "2024-05-22T02:31:25.640837Z",
     "shell.execute_reply": "2024-05-22T02:31:25.639964Z"
    },
    "papermill": {
     "duration": 0.342095,
     "end_time": "2024-05-22T02:31:25.642803",
     "exception": false,
     "start_time": "2024-05-22T02:31:25.300708",
     "status": "completed"
    },
    "tags": []
   },
   "outputs": [
    {
     "name": "stdout",
     "output_type": "stream",
     "text": [
      "accuracy: 0.8831\n",
      "balanced accuracy: 0.8672\n"
     ]
    },
    {
     "data": {
      "image/png": "[encoded data removed]",
      "text/plain": [
       "<Figure size 600x600 with 2 Axes>"
      ]
     },
     "metadata": {},
     "output_type": "display_data"
    }
   ],
   "source": [
    "# CNN using Word2Vec embeddings\n",
    "evaluation(y_test_subset, y_pred_label)"
   ]
  },
  {
   "cell_type": "code",
   "execution_count": 35,
   "id": "2f26244b",
   "metadata": {
    "execution": {
     "iopub.execute_input": "2024-05-22T02:31:25.769380Z",
     "iopub.status.busy": "2024-05-22T02:31:25.768604Z",
     "iopub.status.idle": "2024-05-22T02:33:20.806670Z",
     "shell.execute_reply": "2024-05-22T02:33:20.805829Z"
    },
    "papermill": {
     "duration": 115.103408,
     "end_time": "2024-05-22T02:33:20.809170",
     "exception": false,
     "start_time": "2024-05-22T02:31:25.705762",
     "status": "completed"
    },
    "tags": []
   },
   "outputs": [],
   "source": [
    "glove_file = '/kaggle/input/glove-embeddings/glove.6B.300d.txt'\n",
    "glove_model = gensim.models.KeyedVectors.load_word2vec_format(\n",
    "                glove_file,\n",
    "                binary=False,\n",
    "                no_header=True)"
   ]
  },
  {
   "cell_type": "code",
   "execution_count": 36,
   "id": "e4ca0797",
   "metadata": {
    "execution": {
     "iopub.execute_input": "2024-05-22T02:33:20.932850Z",
     "iopub.status.busy": "2024-05-22T02:33:20.932428Z",
     "iopub.status.idle": "2024-05-22T02:33:21.187374Z",
     "shell.execute_reply": "2024-05-22T02:33:21.186532Z"
    },
    "papermill": {
     "duration": 0.318686,
     "end_time": "2024-05-22T02:33:21.189676",
     "exception": false,
     "start_time": "2024-05-22T02:33:20.870990",
     "status": "completed"
    },
    "tags": []
   },
   "outputs": [],
   "source": [
    "embedding_values = [glove_model[word] if word in glove_model else np.zeros(EMBEDDING_DIM) for word in word_list]\n",
    "embedding_matrix = np.vstack([np.zeros([1, EMBEDDING_DIM]),\n",
    "                             np.array(embedding_values)])\n",
    "                             \n",
    "embedding_layer_glove = Embedding(len(word_index)+1,\n",
    "                            EMBEDDING_DIM,\n",
    "                            weights=[embedding_matrix],\n",
    "                            input_length=MAX_SEQUENCE_LENGTH,\n",
    "                            trainable=False)"
   ]
  },
  {
   "cell_type": "code",
   "execution_count": 37,
   "id": "a607c774",
   "metadata": {
    "execution": {
     "iopub.execute_input": "2024-05-22T02:33:21.310563Z",
     "iopub.status.busy": "2024-05-22T02:33:21.310197Z",
     "iopub.status.idle": "2024-05-22T02:33:21.501140Z",
     "shell.execute_reply": "2024-05-22T02:33:21.500322Z"
    },
    "papermill": {
     "duration": 0.253132,
     "end_time": "2024-05-22T02:33:21.503530",
     "exception": false,
     "start_time": "2024-05-22T02:33:21.250398",
     "status": "completed"
    },
    "tags": []
   },
   "outputs": [],
   "source": [
    "from tensorflow.keras.layers import Input, Conv1D, MaxPooling1D, Flatten, Dense, Dropout, GlobalMaxPooling1D\n",
    "from tensorflow.keras import Model\n",
    "\n",
    "# CNN using GloVe embeddings - 1 and 5 star ratings only\n",
    "sequence_input = Input(shape=(MAX_SEQUENCE_LENGTH,), dtype='int32')\n",
    "embedded_sequences = embedding_layer_glove(sequence_input)\n",
    "x = Conv1D(128, 3, activation='relu')(embedded_sequences)\n",
    "x = MaxPooling1D(3)(x)\n",
    "x = Dropout(0.2)(x)\n",
    "x = Conv1D(64, 3, activation='relu')(x)\n",
    "x = MaxPooling1D(3)(x)\n",
    "x = Dropout(0.2)(x)\n",
    "x = GlobalMaxPooling1D()(x)\n",
    "x = Dropout(0.1)(x)\n",
    "x = Flatten()(x)\n",
    "x = Dense(32, activation='relu')(x)\n",
    "preds = Dense(2, activation='softmax')(x)\n",
    "\n",
    "model = Model(sequence_input, preds)\n",
    "opt = tf.keras.optimizers.Adam(learning_rate=1e-3)\n",
    "model.compile(loss='sparse_categorical_crossentropy',\n",
    "              optimizer=opt,\n",
    "              metrics=['accuracy'])"
   ]
  },
  {
   "cell_type": "code",
   "execution_count": 38,
   "id": "d360471f",
   "metadata": {
    "execution": {
     "iopub.execute_input": "2024-05-22T02:33:21.625260Z",
     "iopub.status.busy": "2024-05-22T02:33:21.624900Z",
     "iopub.status.idle": "2024-05-22T02:33:52.801891Z",
     "shell.execute_reply": "2024-05-22T02:33:52.800774Z"
    },
    "papermill": {
     "duration": 31.240188,
     "end_time": "2024-05-22T02:33:52.804425",
     "exception": false,
     "start_time": "2024-05-22T02:33:21.564237",
     "status": "completed"
    },
    "tags": []
   },
   "outputs": [
    {
     "name": "stdout",
     "output_type": "stream",
     "text": [
      "Epoch 1/20\n",
      "638/638 [==============================] - 5s 5ms/step - loss: 0.5135 - accuracy: 0.7396 - val_loss: 0.3567 - val_accuracy: 0.8439\n",
      "Epoch 2/20\n",
      "638/638 [==============================] - 3s 4ms/step - loss: 0.3839 - accuracy: 0.8195 - val_loss: 0.3161 - val_accuracy: 0.8717\n",
      "Epoch 3/20\n",
      "638/638 [==============================] - 3s 4ms/step - loss: 0.3202 - accuracy: 0.8550 - val_loss: 0.3399 - val_accuracy: 0.8439\n",
      "Epoch 4/20\n",
      "638/638 [==============================] - 3s 4ms/step - loss: 0.2849 - accuracy: 0.8741 - val_loss: 0.3075 - val_accuracy: 0.8598\n",
      "Epoch 5/20\n",
      "638/638 [==============================] - 3s 4ms/step - loss: 0.2455 - accuracy: 0.8915 - val_loss: 0.2426 - val_accuracy: 0.8977\n",
      "Epoch 6/20\n",
      "638/638 [==============================] - 3s 4ms/step - loss: 0.2251 - accuracy: 0.9006 - val_loss: 0.2661 - val_accuracy: 0.8836\n",
      "Epoch 7/20\n",
      "638/638 [==============================] - 3s 4ms/step - loss: 0.2003 - accuracy: 0.9116 - val_loss: 0.2397 - val_accuracy: 0.8946\n",
      "Epoch 8/20\n",
      "638/638 [==============================] - 3s 5ms/step - loss: 0.1810 - accuracy: 0.9187 - val_loss: 0.2585 - val_accuracy: 0.8937\n",
      "Epoch 9/20\n",
      "638/638 [==============================] - 3s 5ms/step - loss: 0.1693 - accuracy: 0.9272 - val_loss: 0.2933 - val_accuracy: 0.8761\n",
      "Epoch 10/20\n",
      "638/638 [==============================] - 3s 5ms/step - loss: 0.1443 - accuracy: 0.9379 - val_loss: 0.2672 - val_accuracy: 0.9004\n",
      "Epoch 10: early stopping\n",
      "180/180 [==============================] - 0s 2ms/step\n"
     ]
    }
   ],
   "source": [
    "model.fit(X_train_subset,\n",
    "          y_train_subset,\n",
    "          epochs=20,\n",
    "          batch_size=32,\n",
    "          validation_split=0.1,\n",
    "          class_weight=class_weights_subset,\n",
    "          callbacks=early_stop_callback)\n",
    "\n",
    "y_pred = model.predict(X_test_subset)\n",
    "y_pred_label = [np.argmax(y) for y in y_pred]"
   ]
  },
  {
   "cell_type": "code",
   "execution_count": 39,
   "id": "6f1f04cd",
   "metadata": {
    "execution": {
     "iopub.execute_input": "2024-05-22T02:33:53.017540Z",
     "iopub.status.busy": "2024-05-22T02:33:53.016761Z",
     "iopub.status.idle": "2024-05-22T02:33:53.286160Z",
     "shell.execute_reply": "2024-05-22T02:33:53.285195Z"
    },
    "papermill": {
     "duration": 0.377152,
     "end_time": "2024-05-22T02:33:53.288286",
     "exception": false,
     "start_time": "2024-05-22T02:33:52.911134",
     "status": "completed"
    },
    "tags": []
   },
   "outputs": [
    {
     "name": "stdout",
     "output_type": "stream",
     "text": [
      "accuracy: 0.8954\n",
      "balanced accuracy: 0.8510\n"
     ]
    },
    {
     "data": {
      "image/png": "[encoded data removed]",
      "text/plain": [
       "<Figure size 600x600 with 2 Axes>"
      ]
     },
     "metadata": {},
     "output_type": "display_data"
    }
   ],
   "source": [
    "# CNN using GloVe embeddings\n",
    "evaluation(y_test_subset, y_pred_label)"
   ]
  },
  {
   "cell_type": "markdown",
   "id": "e4f82984",
   "metadata": {
    "papermill": {
     "duration": 0.107761,
     "end_time": "2024-05-22T02:33:53.503320",
     "exception": false,
     "start_time": "2024-05-22T02:33:53.395559",
     "status": "completed"
    },
    "tags": []
   },
   "source": [
    "### Bidirectional Recurrent Neural Network (RNN)"
   ]
  },
  {
   "cell_type": "code",
   "execution_count": 40,
   "id": "cd20ca79",
   "metadata": {
    "execution": {
     "iopub.execute_input": "2024-05-22T02:33:53.717089Z",
     "iopub.status.busy": "2024-05-22T02:33:53.716209Z",
     "iopub.status.idle": "2024-05-22T02:41:51.905153Z",
     "shell.execute_reply": "2024-05-22T02:41:51.904128Z"
    },
    "papermill": {
     "duration": 478.298312,
     "end_time": "2024-05-22T02:41:51.907374",
     "exception": false,
     "start_time": "2024-05-22T02:33:53.609062",
     "status": "completed"
    },
    "tags": []
   },
   "outputs": [
    {
     "name": "stdout",
     "output_type": "stream",
     "text": [
      "Epoch 1/20\n",
      "638/638 [==============================] - 121s 186ms/step - loss: 0.6620 - accuracy: 0.6322 - val_loss: 0.4146 - val_accuracy: 0.8170\n",
      "Epoch 2/20\n",
      "638/638 [==============================] - 118s 185ms/step - loss: 0.5632 - accuracy: 0.7242 - val_loss: 0.4446 - val_accuracy: 0.7901\n",
      "Epoch 3/20\n",
      "638/638 [==============================] - 118s 185ms/step - loss: 0.5322 - accuracy: 0.7414 - val_loss: 0.7907 - val_accuracy: 0.4506\n",
      "Epoch 4/20\n",
      "638/638 [==============================] - 116s 182ms/step - loss: 0.5430 - accuracy: 0.7344 - val_loss: 0.5714 - val_accuracy: 0.7116\n",
      "Epoch 4: early stopping\n",
      "180/180 [==============================] - 4s 23ms/step\n"
     ]
    }
   ],
   "source": [
    "from tensorflow.keras import Sequential\n",
    "from tensorflow.keras.layers import SimpleRNN\n",
    "from tensorflow.keras.layers import Bidirectional\n",
    "\n",
    "# bidirectional RNN using Word2Vec embeddings - 1 and 5 star ratings only\n",
    "model = Sequential()\n",
    "model.add(Input(shape=(MAX_SEQUENCE_LENGTH,), dtype='int32'))\n",
    "model.add(embedding_layer_w2v)\n",
    "model.add(Bidirectional(SimpleRNN(\n",
    "            128,\n",
    "            return_sequences=False,\n",
    "            input_shape=(MAX_SEQUENCE_LENGTH, EMBEDDING_DIM))))\n",
    "model.add(Dropout(0.4))\n",
    "model.add(Flatten())\n",
    "model.add(Dense(2, activation='softmax'))\n",
    "\n",
    "model.compile('rmsprop', 'sparse_categorical_crossentropy',  metrics=['accuracy'])\n",
    "\n",
    "with tf.device('/gpu:0'):\n",
    "    model.fit(X_train_subset,\n",
    "              y_train_subset,\n",
    "              epochs=20,\n",
    "              batch_size=32,\n",
    "              validation_split=0.1,\n",
    "              class_weight=class_weights_subset,\n",
    "              callbacks=early_stop_callback)\n",
    "    \n",
    "y_pred = model.predict(X_test_subset)\n",
    "y_pred_label = [np.argmax(y) for y in y_pred]"
   ]
  },
  {
   "cell_type": "code",
   "execution_count": 41,
   "id": "6cbc8ea9",
   "metadata": {
    "execution": {
     "iopub.execute_input": "2024-05-22T02:41:52.509617Z",
     "iopub.status.busy": "2024-05-22T02:41:52.509188Z",
     "iopub.status.idle": "2024-05-22T02:41:52.765145Z",
     "shell.execute_reply": "2024-05-22T02:41:52.764130Z"
    },
    "papermill": {
     "duration": 0.559464,
     "end_time": "2024-05-22T02:41:52.767174",
     "exception": false,
     "start_time": "2024-05-22T02:41:52.207710",
     "status": "completed"
    },
    "tags": []
   },
   "outputs": [
    {
     "name": "stdout",
     "output_type": "stream",
     "text": [
      "accuracy: 0.7052\n",
      "balanced accuracy: 0.7230\n"
     ]
    },
    {
     "data": {
      "image/png": "[encoded data removed]",
      "text/plain": [
       "<Figure size 600x600 with 2 Axes>"
      ]
     },
     "metadata": {},
     "output_type": "display_data"
    }
   ],
   "source": [
    "# bidirectional RNN using Word2Vec embeddings\n",
    "evaluation(y_test_subset, y_pred_label)"
   ]
  },
  {
   "cell_type": "code",
   "execution_count": 42,
   "id": "67956bc5",
   "metadata": {
    "execution": {
     "iopub.execute_input": "2024-05-22T02:41:53.425916Z",
     "iopub.status.busy": "2024-05-22T02:41:53.425168Z",
     "iopub.status.idle": "2024-05-22T02:50:03.020852Z",
     "shell.execute_reply": "2024-05-22T02:50:03.020060Z"
    },
    "papermill": {
     "duration": 489.903092,
     "end_time": "2024-05-22T02:50:03.022826",
     "exception": false,
     "start_time": "2024-05-22T02:41:53.119734",
     "status": "completed"
    },
    "tags": []
   },
   "outputs": [
    {
     "name": "stdout",
     "output_type": "stream",
     "text": [
      "Epoch 1/20\n",
      "638/638 [==============================] - 124s 191ms/step - loss: 0.6764 - accuracy: 0.6318 - val_loss: 0.5087 - val_accuracy: 0.7460\n",
      "Epoch 2/20\n",
      "638/638 [==============================] - 121s 190ms/step - loss: 0.5860 - accuracy: 0.6974 - val_loss: 0.5703 - val_accuracy: 0.7231\n",
      "Epoch 3/20\n",
      "638/638 [==============================] - 121s 189ms/step - loss: 0.5563 - accuracy: 0.7192 - val_loss: 0.5105 - val_accuracy: 0.7593\n",
      "Epoch 4/20\n",
      "638/638 [==============================] - 119s 187ms/step - loss: 0.5363 - accuracy: 0.7343 - val_loss: 0.5605 - val_accuracy: 0.7183\n",
      "Epoch 4: early stopping\n",
      "180/180 [==============================] - 4s 22ms/step\n"
     ]
    }
   ],
   "source": [
    "# bidirectional RNN using GloVe embeddings - 1 and 5 star ratings only\n",
    "model = Sequential()\n",
    "model.add(Input(shape=(MAX_SEQUENCE_LENGTH,), dtype='int32'))\n",
    "model.add(embedding_layer_glove)\n",
    "model.add(Bidirectional(SimpleRNN(\n",
    "            128,\n",
    "            return_sequences=False,\n",
    "            input_shape=(MAX_SEQUENCE_LENGTH, EMBEDDING_DIM))))\n",
    "model.add(Dropout(0.4))\n",
    "model.add(Flatten())\n",
    "model.add(Dense(2, activation='softmax'))\n",
    "\n",
    "model.compile('rmsprop', 'sparse_categorical_crossentropy',  metrics=['accuracy'])\n",
    "\n",
    "with tf.device('/gpu:0'):\n",
    "    model.fit(X_train_subset,\n",
    "              y_train_subset,\n",
    "              epochs=20,\n",
    "              batch_size=32,\n",
    "              validation_split=0.1,\n",
    "              class_weight=class_weights_subset,\n",
    "              callbacks=early_stop_callback)\n",
    "    \n",
    "y_pred = model.predict(X_test_subset)\n",
    "y_pred_label = [np.argmax(y) for y in y_pred]"
   ]
  },
  {
   "cell_type": "code",
   "execution_count": 43,
   "id": "035634a1",
   "metadata": {
    "execution": {
     "iopub.execute_input": "2024-05-22T02:50:04.080366Z",
     "iopub.status.busy": "2024-05-22T02:50:04.079463Z",
     "iopub.status.idle": "2024-05-22T02:50:04.386890Z",
     "shell.execute_reply": "2024-05-22T02:50:04.385980Z"
    },
    "papermill": {
     "duration": 0.860703,
     "end_time": "2024-05-22T02:50:04.388838",
     "exception": false,
     "start_time": "2024-05-22T02:50:03.528135",
     "status": "completed"
    },
    "tags": []
   },
   "outputs": [
    {
     "name": "stdout",
     "output_type": "stream",
     "text": [
      "accuracy: 0.7204\n",
      "balanced accuracy: 0.7513\n"
     ]
    },
    {
     "data": {
      "image/png": "[encoded data removed]",
      "text/plain": [
       "<Figure size 600x600 with 2 Axes>"
      ]
     },
     "metadata": {},
     "output_type": "display_data"
    }
   ],
   "source": [
    "# bidirectional RNN using GloVe embeddings\n",
    "evaluation(y_test_subset, y_pred_label)"
   ]
  },
  {
   "cell_type": "markdown",
   "id": "c1f18910",
   "metadata": {
    "papermill": {
     "duration": 0.497263,
     "end_time": "2024-05-22T02:50:05.388117",
     "exception": false,
     "start_time": "2024-05-22T02:50:04.890854",
     "status": "completed"
    },
    "tags": []
   },
   "source": [
    "### Long Short-Term Memory (LSTM) Network"
   ]
  },
  {
   "cell_type": "code",
   "execution_count": 44,
   "id": "33298fe9",
   "metadata": {
    "execution": {
     "iopub.execute_input": "2024-05-22T02:50:06.466053Z",
     "iopub.status.busy": "2024-05-22T02:50:06.465410Z",
     "iopub.status.idle": "2024-05-22T02:50:45.636626Z",
     "shell.execute_reply": "2024-05-22T02:50:45.635532Z"
    },
    "papermill": {
     "duration": 39.6913,
     "end_time": "2024-05-22T02:50:45.638640",
     "exception": false,
     "start_time": "2024-05-22T02:50:05.947340",
     "status": "completed"
    },
    "tags": []
   },
   "outputs": [
    {
     "name": "stdout",
     "output_type": "stream",
     "text": [
      "Epoch 1/20\n",
      "638/638 [==============================] - 12s 14ms/step - loss: 0.5195 - accuracy: 0.7516 - val_loss: 0.3694 - val_accuracy: 0.8492\n",
      "Epoch 2/20\n",
      "638/638 [==============================] - 8s 13ms/step - loss: 0.4362 - accuracy: 0.8066 - val_loss: 0.4283 - val_accuracy: 0.8047\n",
      "Epoch 3/20\n",
      "638/638 [==============================] - 8s 13ms/step - loss: 0.3992 - accuracy: 0.8233 - val_loss: 0.5025 - val_accuracy: 0.7623\n",
      "Epoch 4/20\n",
      "638/638 [==============================] - 8s 13ms/step - loss: 0.3663 - accuracy: 0.8386 - val_loss: 0.4876 - val_accuracy: 0.7795\n",
      "Epoch 4: early stopping\n",
      "180/180 [==============================] - 2s 5ms/step\n"
     ]
    }
   ],
   "source": [
    "from tensorflow.keras.layers import LSTM\n",
    "\n",
    "# bidirectional LSTM using Word2Vec embeddings - 1 and 5 star ratings only\n",
    "model = Sequential()\n",
    "model.add(Input(shape=(MAX_SEQUENCE_LENGTH,), dtype='int32'))\n",
    "model.add(embedding_layer_w2v)\n",
    "model.add(Bidirectional(LSTM(\n",
    "            128,\n",
    "            return_sequences=False,\n",
    "            input_shape=(MAX_SEQUENCE_LENGTH, EMBEDDING_DIM))))\n",
    "model.add(Dropout(0.4))\n",
    "model.add(Flatten())\n",
    "model.add(Dense(2, activation='softmax'))\n",
    "\n",
    "model.compile('rmsprop', 'sparse_categorical_crossentropy',  metrics=['accuracy'])\n",
    "\n",
    "with tf.device('/gpu:0'):\n",
    "    model.fit(X_train_subset,\n",
    "              y_train_subset,\n",
    "              epochs=20,\n",
    "              batch_size=32,\n",
    "              validation_split=0.1,\n",
    "              class_weight=class_weights_subset,\n",
    "              callbacks=early_stop_callback)\n",
    "    \n",
    "y_pred = model.predict(X_test_subset)\n",
    "y_pred_label = [np.argmax(y) for y in y_pred]"
   ]
  },
  {
   "cell_type": "code",
   "execution_count": 45,
   "id": "49b25a2d",
   "metadata": {
    "execution": {
     "iopub.execute_input": "2024-05-22T02:50:46.770147Z",
     "iopub.status.busy": "2024-05-22T02:50:46.769771Z",
     "iopub.status.idle": "2024-05-22T02:50:47.023239Z",
     "shell.execute_reply": "2024-05-22T02:50:47.022323Z"
    },
    "papermill": {
     "duration": 0.844485,
     "end_time": "2024-05-22T02:50:47.025121",
     "exception": false,
     "start_time": "2024-05-22T02:50:46.180636",
     "status": "completed"
    },
    "tags": []
   },
   "outputs": [
    {
     "name": "stdout",
     "output_type": "stream",
     "text": [
      "accuracy: 0.7825\n",
      "balanced accuracy: 0.8311\n"
     ]
    },
    {
     "data": {
      "image/png": "[encoded data removed]",
      "text/plain": [
       "<Figure size 600x600 with 2 Axes>"
      ]
     },
     "metadata": {},
     "output_type": "display_data"
    }
   ],
   "source": [
    "# LSTM using Word2Vec embeddings\n",
    "evaluation(y_test_subset, y_pred_label)"
   ]
  },
  {
   "cell_type": "code",
   "execution_count": 46,
   "id": "7c1ea6b5",
   "metadata": {
    "execution": {
     "iopub.execute_input": "2024-05-22T02:50:48.118715Z",
     "iopub.status.busy": "2024-05-22T02:50:48.117903Z",
     "iopub.status.idle": "2024-05-22T02:52:01.748576Z",
     "shell.execute_reply": "2024-05-22T02:52:01.747530Z"
    },
    "papermill": {
     "duration": 74.182487,
     "end_time": "2024-05-22T02:52:01.750846",
     "exception": false,
     "start_time": "2024-05-22T02:50:47.568359",
     "status": "completed"
    },
    "tags": []
   },
   "outputs": [
    {
     "name": "stdout",
     "output_type": "stream",
     "text": [
      "Epoch 1/20\n",
      "638/638 [==============================] - 13s 14ms/step - loss: 0.5397 - accuracy: 0.7339 - val_loss: 0.3792 - val_accuracy: 0.8408\n",
      "Epoch 2/20\n",
      "638/638 [==============================] - 8s 13ms/step - loss: 0.4133 - accuracy: 0.8180 - val_loss: 0.4143 - val_accuracy: 0.8122\n",
      "Epoch 3/20\n",
      "638/638 [==============================] - 8s 13ms/step - loss: 0.3456 - accuracy: 0.8478 - val_loss: 0.4467 - val_accuracy: 0.7928\n",
      "Epoch 4/20\n",
      "638/638 [==============================] - 8s 13ms/step - loss: 0.3026 - accuracy: 0.8707 - val_loss: 0.3661 - val_accuracy: 0.8382\n",
      "Epoch 5/20\n",
      "638/638 [==============================] - 8s 13ms/step - loss: 0.2693 - accuracy: 0.8865 - val_loss: 0.2502 - val_accuracy: 0.8990\n",
      "Epoch 6/20\n",
      "638/638 [==============================] - 8s 13ms/step - loss: 0.2380 - accuracy: 0.9003 - val_loss: 0.2526 - val_accuracy: 0.9012\n",
      "Epoch 7/20\n",
      "638/638 [==============================] - 8s 13ms/step - loss: 0.2088 - accuracy: 0.9117 - val_loss: 0.3133 - val_accuracy: 0.8677\n",
      "Epoch 8/20\n",
      "638/638 [==============================] - 8s 13ms/step - loss: 0.1910 - accuracy: 0.9215 - val_loss: 0.3106 - val_accuracy: 0.8796\n",
      "Epoch 8: early stopping\n",
      "180/180 [==============================] - 2s 5ms/step\n"
     ]
    }
   ],
   "source": [
    "# bidirectional LSTM using GloVe embeddings - 1 and 5 star ratings only\n",
    "model = Sequential()\n",
    "model.add(Input(shape=(MAX_SEQUENCE_LENGTH,), dtype='int32'))\n",
    "model.add(embedding_layer_glove)\n",
    "model.add(Bidirectional(LSTM(\n",
    "            128,\n",
    "            return_sequences=False,\n",
    "            input_shape=(MAX_SEQUENCE_LENGTH, EMBEDDING_DIM))))\n",
    "model.add(Dropout(0.4))\n",
    "model.add(Flatten())\n",
    "model.add(Dense(2, activation='softmax'))\n",
    "\n",
    "model.compile('rmsprop', 'sparse_categorical_crossentropy',  metrics=['accuracy'])\n",
    "\n",
    "with tf.device('/gpu:0'):\n",
    "    model.fit(X_train_subset,\n",
    "              y_train_subset,\n",
    "              epochs=20,\n",
    "              batch_size=32,\n",
    "              validation_split=0.1,\n",
    "              class_weight=class_weights_subset,\n",
    "              callbacks=early_stop_callback)\n",
    "    \n",
    "y_pred = model.predict(X_test_subset)\n",
    "y_pred_label = [np.argmax(y) for y in y_pred]"
   ]
  },
  {
   "cell_type": "code",
   "execution_count": 47,
   "id": "9d5d580f",
   "metadata": {
    "execution": {
     "iopub.execute_input": "2024-05-22T02:52:03.020127Z",
     "iopub.status.busy": "2024-05-22T02:52:03.019194Z",
     "iopub.status.idle": "2024-05-22T02:52:03.283426Z",
     "shell.execute_reply": "2024-05-22T02:52:03.282545Z"
    },
    "papermill": {
     "duration": 0.895756,
     "end_time": "2024-05-22T02:52:03.285345",
     "exception": false,
     "start_time": "2024-05-22T02:52:02.389589",
     "status": "completed"
    },
    "tags": []
   },
   "outputs": [
    {
     "name": "stdout",
     "output_type": "stream",
     "text": [
      "accuracy: 0.8704\n",
      "balanced accuracy: 0.8597\n"
     ]
    },
    {
     "data": {
      "image/png": "[encoded data removed]",
      "text/plain": [
       "<Figure size 600x600 with 2 Axes>"
      ]
     },
     "metadata": {},
     "output_type": "display_data"
    }
   ],
   "source": [
    "# LSTM using GloVe embeddings\n",
    "evaluation(y_test_subset, y_pred_label)"
   ]
  },
  {
   "cell_type": "code",
   "execution_count": 48,
   "id": "0a16bbcc",
   "metadata": {
    "execution": {
     "iopub.execute_input": "2024-05-22T02:52:04.601320Z",
     "iopub.status.busy": "2024-05-22T02:52:04.600950Z",
     "iopub.status.idle": "2024-05-22T02:52:04.725527Z",
     "shell.execute_reply": "2024-05-22T02:52:04.724662Z"
    },
    "papermill": {
     "duration": 0.80836,
     "end_time": "2024-05-22T02:52:04.727550",
     "exception": false,
     "start_time": "2024-05-22T02:52:03.919190",
     "status": "completed"
    },
    "tags": []
   },
   "outputs": [],
   "source": [
    "# LSTM using Word2Vec embeddings - 1 through 5 star ratings\n",
    "sequence_input = Input(shape=(MAX_SEQUENCE_LENGTH,), dtype='int32')\n",
    "embedded_sequences = embedding_layer_w2v(sequence_input)\n",
    "x = Conv1D(128, 5, activation='relu')(embedded_sequences)\n",
    "x = MaxPooling1D(3)(x)\n",
    "x = Dropout(0.2)(x)\n",
    "x = Conv1D(128, 5, activation='relu')(x)\n",
    "x = MaxPooling1D(3)(x)\n",
    "x = Dropout(0.2)(x)\n",
    "x = Conv1D(64, 3, activation='relu')(x)\n",
    "x = MaxPooling1D(3)(x)\n",
    "x = Dropout(0.2)(x)\n",
    "x = GlobalMaxPooling1D()(x)\n",
    "x = Dropout(0.2)(x)\n",
    "x = Flatten()(x)\n",
    "x = Dense(64, activation='relu')(x)\n",
    "preds = Dense(5, activation='softmax')(x)\n",
    "\n",
    "model = Model(sequence_input, preds)\n",
    "opt = tf.keras.optimizers.Adam(learning_rate=1e-3)\n",
    "model.compile(loss='sparse_categorical_crossentropy',\n",
    "              optimizer=opt,\n",
    "              metrics=['accuracy'])"
   ]
  },
  {
   "cell_type": "code",
   "execution_count": 49,
   "id": "cb85a701",
   "metadata": {
    "execution": {
     "iopub.execute_input": "2024-05-22T02:52:05.988831Z",
     "iopub.status.busy": "2024-05-22T02:52:05.988452Z",
     "iopub.status.idle": "2024-05-22T02:52:06.003456Z",
     "shell.execute_reply": "2024-05-22T02:52:06.002716Z"
    },
    "papermill": {
     "duration": 0.648231,
     "end_time": "2024-05-22T02:52:06.005434",
     "exception": false,
     "start_time": "2024-05-22T02:52:05.357203",
     "status": "completed"
    },
    "tags": []
   },
   "outputs": [],
   "source": [
    "classes = [0, 1, 2, 3, 4]\n",
    "class_weights = class_weight.compute_class_weight('balanced', classes=classes, y=y_train)\n",
    "class_weights = dict(enumerate(class_weights))"
   ]
  },
  {
   "cell_type": "code",
   "execution_count": 50,
   "id": "9373defb",
   "metadata": {
    "execution": {
     "iopub.execute_input": "2024-05-22T02:52:07.321035Z",
     "iopub.status.busy": "2024-05-22T02:52:07.320678Z",
     "iopub.status.idle": "2024-05-22T02:53:19.797065Z",
     "shell.execute_reply": "2024-05-22T02:53:19.796266Z"
    },
    "papermill": {
     "duration": 73.108562,
     "end_time": "2024-05-22T02:53:19.799278",
     "exception": false,
     "start_time": "2024-05-22T02:52:06.690716",
     "status": "completed"
    },
    "tags": []
   },
   "outputs": [
    {
     "name": "stdout",
     "output_type": "stream",
     "text": [
      "Epoch 1/20\n",
      "1599/1599 [==============================] - 12s 6ms/step - loss: 1.4791 - accuracy: 0.3165 - val_loss: 1.3240 - val_accuracy: 0.4167\n",
      "Epoch 2/20\n",
      "1599/1599 [==============================] - 8s 5ms/step - loss: 1.3557 - accuracy: 0.3937 - val_loss: 1.2756 - val_accuracy: 0.4269\n",
      "Epoch 3/20\n",
      "1599/1599 [==============================] - 9s 5ms/step - loss: 1.2990 - accuracy: 0.4232 - val_loss: 1.2710 - val_accuracy: 0.4337\n",
      "Epoch 4/20\n",
      "1599/1599 [==============================] - 9s 5ms/step - loss: 1.2640 - accuracy: 0.4383 - val_loss: 1.2425 - val_accuracy: 0.4258\n",
      "Epoch 5/20\n",
      "1599/1599 [==============================] - 8s 5ms/step - loss: 1.2265 - accuracy: 0.4501 - val_loss: 1.2191 - val_accuracy: 0.4408\n",
      "Epoch 6/20\n",
      "1599/1599 [==============================] - 8s 5ms/step - loss: 1.1891 - accuracy: 0.4635 - val_loss: 1.2323 - val_accuracy: 0.4480\n",
      "Epoch 7/20\n",
      "1599/1599 [==============================] - 9s 5ms/step - loss: 1.1587 - accuracy: 0.4780 - val_loss: 1.2433 - val_accuracy: 0.4417\n",
      "Epoch 8/20\n",
      "1599/1599 [==============================] - 8s 5ms/step - loss: 1.1273 - accuracy: 0.4927 - val_loss: 1.2338 - val_accuracy: 0.4522\n",
      "Epoch 8: early stopping\n",
      "444/444 [==============================] - 1s 2ms/step\n"
     ]
    }
   ],
   "source": [
    "model.fit(X_train,\n",
    "          y_train,\n",
    "          epochs=20,\n",
    "          batch_size=32,\n",
    "          validation_split=0.1,\n",
    "          class_weight=class_weights,\n",
    "          callbacks=early_stop_callback)\n",
    "\n",
    "y_pred = model.predict(X_test)\n",
    "y_pred_label = [np.argmax(y) for y in y_pred]"
   ]
  },
  {
   "cell_type": "code",
   "execution_count": 51,
   "id": "9b00e904",
   "metadata": {
    "execution": {
     "iopub.execute_input": "2024-05-22T02:53:21.384376Z",
     "iopub.status.busy": "2024-05-22T02:53:21.383990Z",
     "iopub.status.idle": "2024-05-22T02:53:21.773026Z",
     "shell.execute_reply": "2024-05-22T02:53:21.772096Z"
    },
    "papermill": {
     "duration": 1.132724,
     "end_time": "2024-05-22T02:53:21.775032",
     "exception": false,
     "start_time": "2024-05-22T02:53:20.642308",
     "status": "completed"
    },
    "tags": []
   },
   "outputs": [
    {
     "name": "stdout",
     "output_type": "stream",
     "text": [
      "accuracy: 0.4407\n",
      "balanced accuracy: 0.4161\n"
     ]
    },
    {
     "data": {
      "image/png": "[encoded data removed]",
      "text/plain": [
       "<Figure size 600x600 with 2 Axes>"
      ]
     },
     "metadata": {},
     "output_type": "display_data"
    }
   ],
   "source": [
    "# LSTM using Word2Vec embeddings\n",
    "evaluation(y_test, y_pred_label)"
   ]
  },
  {
   "cell_type": "code",
   "execution_count": 52,
   "id": "cc5496e0",
   "metadata": {
    "execution": {
     "iopub.execute_input": "2024-05-22T02:53:23.309361Z",
     "iopub.status.busy": "2024-05-22T02:53:23.308989Z",
     "iopub.status.idle": "2024-05-22T02:54:18.182269Z",
     "shell.execute_reply": "2024-05-22T02:54:18.181267Z"
    },
    "papermill": {
     "duration": 55.679765,
     "end_time": "2024-05-22T02:54:18.184755",
     "exception": false,
     "start_time": "2024-05-22T02:53:22.504990",
     "status": "completed"
    },
    "tags": []
   },
   "outputs": [
    {
     "name": "stdout",
     "output_type": "stream",
     "text": [
      "Epoch 1/100\n",
      "800/800 [==============================] - 8s 7ms/step - loss: 1.5062 - accuracy: 0.3070 - val_loss: 1.4056 - val_accuracy: 0.3660\n",
      "Epoch 2/100\n",
      "800/800 [==============================] - 5s 6ms/step - loss: 1.3904 - accuracy: 0.3726 - val_loss: 1.3410 - val_accuracy: 0.3982\n",
      "Epoch 3/100\n",
      "800/800 [==============================] - 5s 6ms/step - loss: 1.3326 - accuracy: 0.4067 - val_loss: 1.2749 - val_accuracy: 0.4158\n",
      "Epoch 4/100\n",
      "800/800 [==============================] - 5s 6ms/step - loss: 1.2980 - accuracy: 0.4210 - val_loss: 1.3135 - val_accuracy: 0.4065\n",
      "Epoch 5/100\n",
      "800/800 [==============================] - 5s 7ms/step - loss: 1.2591 - accuracy: 0.4379 - val_loss: 1.2594 - val_accuracy: 0.4413\n",
      "Epoch 6/100\n",
      "800/800 [==============================] - 5s 6ms/step - loss: 1.2318 - accuracy: 0.4497 - val_loss: 1.2555 - val_accuracy: 0.4385\n",
      "Epoch 7/100\n",
      "800/800 [==============================] - 5s 6ms/step - loss: 1.1964 - accuracy: 0.4650 - val_loss: 1.2484 - val_accuracy: 0.4436\n",
      "Epoch 8/100\n",
      "800/800 [==============================] - 5s 6ms/step - loss: 1.1664 - accuracy: 0.4767 - val_loss: 1.2583 - val_accuracy: 0.4362\n",
      "Epoch 9/100\n",
      "800/800 [==============================] - 5s 6ms/step - loss: 1.1368 - accuracy: 0.4888 - val_loss: 1.2700 - val_accuracy: 0.4396\n",
      "Epoch 10/100\n",
      "800/800 [==============================] - 5s 6ms/step - loss: 1.1109 - accuracy: 0.5002 - val_loss: 1.2691 - val_accuracy: 0.4339\n",
      "Epoch 10: early stopping\n",
      "444/444 [==============================] - 1s 2ms/step\n"
     ]
    }
   ],
   "source": [
    "# LSTM using GloVe embeddings - 1 through 5 star ratings\n",
    "sequence_input = Input(shape=(MAX_SEQUENCE_LENGTH,), dtype='int32')\n",
    "embedded_sequences = embedding_layer_glove(sequence_input)\n",
    "x = Conv1D(128, 5, activation='relu')(embedded_sequences)\n",
    "x = MaxPooling1D(3)(x)\n",
    "x = Dropout(0.2)(x)\n",
    "x = Conv1D(128, 5, activation='relu')(x)\n",
    "x = MaxPooling1D(3)(x)\n",
    "x = Dropout(0.2)(x)\n",
    "x = Conv1D(64, 3, activation='relu')(x)\n",
    "x = MaxPooling1D(3)(x)\n",
    "x = Dropout(0.2)(x)\n",
    "x = GlobalMaxPooling1D()(x)\n",
    "x = Dropout(0.2)(x)\n",
    "x = Flatten()(x)\n",
    "x = Dense(64, activation='relu')(x)\n",
    "preds = Dense(5, activation='softmax')(x)\n",
    "\n",
    "model = Model(sequence_input, preds)\n",
    "opt = tf.keras.optimizers.Adam(learning_rate=1e-3)\n",
    "model.compile(loss='sparse_categorical_crossentropy',\n",
    "              optimizer=opt,\n",
    "              metrics=['accuracy'])\n",
    "\n",
    "model.fit(X_train,\n",
    "          y_train,\n",
    "          epochs=100,\n",
    "          batch_size=64,\n",
    "          validation_split=0.1,\n",
    "          class_weight=class_weights,\n",
    "          callbacks=early_stop_callback)\n",
    "\n",
    "y_pred = model.predict(X_test)\n",
    "y_pred_label = [np.argmax(y) for y in y_pred]"
   ]
  },
  {
   "cell_type": "code",
   "execution_count": 53,
   "id": "943e493a",
   "metadata": {
    "execution": {
     "iopub.execute_input": "2024-05-22T02:54:19.881696Z",
     "iopub.status.busy": "2024-05-22T02:54:19.880835Z",
     "iopub.status.idle": "2024-05-22T02:54:20.269268Z",
     "shell.execute_reply": "2024-05-22T02:54:20.268423Z"
    },
    "papermill": {
     "duration": 1.189576,
     "end_time": "2024-05-22T02:54:20.271359",
     "exception": false,
     "start_time": "2024-05-22T02:54:19.081783",
     "status": "completed"
    },
    "tags": []
   },
   "outputs": [
    {
     "name": "stdout",
     "output_type": "stream",
     "text": [
      "accuracy: 0.4292\n",
      "balanced accuracy: 0.4099\n"
     ]
    },
    {
     "data": {
      "image/png": "[encoded data removed]",
      "text/plain": [
       "<Figure size 600x600 with 2 Axes>"
      ]
     },
     "metadata": {},
     "output_type": "display_data"
    }
   ],
   "source": [
    "# LSTM using GloVe embeddings\n",
    "evaluation(y_test, y_pred_label)"
   ]
  },
  {
   "cell_type": "markdown",
   "id": "ace2e8fe",
   "metadata": {
    "papermill": {
     "duration": 0.799767,
     "end_time": "2024-05-22T02:54:21.934837",
     "exception": false,
     "start_time": "2024-05-22T02:54:21.135070",
     "status": "completed"
    },
    "tags": []
   },
   "source": [
    "## Large Language Models (LLMs)\n",
    "Fine tuning refers to the process of updating the parameters of an LLM to perform a specific task by feeding it additional data. Here I use DistilBERT, a smaller version of the popular BERT model, and train it with the internal layers frozen (i.e. adding a dense layer for classification only) and again with updating the internal layers during training. [2] contains a tutorial on how to fine tune LLMs loaded from Hugging Face for classification tasks."
   ]
  },
  {
   "cell_type": "markdown",
   "id": "bd0eaaee",
   "metadata": {
    "papermill": {
     "duration": 0.844551,
     "end_time": "2024-05-22T02:54:23.569911",
     "exception": false,
     "start_time": "2024-05-22T02:54:22.725360",
     "status": "completed"
    },
    "tags": []
   },
   "source": [
    "### DistilBERT"
   ]
  },
  {
   "cell_type": "code",
   "execution_count": 54,
   "id": "9e17b0b6",
   "metadata": {
    "execution": {
     "iopub.execute_input": "2024-05-22T02:54:25.202761Z",
     "iopub.status.busy": "2024-05-22T02:54:25.202005Z",
     "iopub.status.idle": "2024-05-22T02:54:25.239015Z",
     "shell.execute_reply": "2024-05-22T02:54:25.238123Z"
    },
    "papermill": {
     "duration": 0.837551,
     "end_time": "2024-05-22T02:54:25.240991",
     "exception": false,
     "start_time": "2024-05-22T02:54:24.403440",
     "status": "completed"
    },
    "tags": []
   },
   "outputs": [],
   "source": [
    "test_fraction = 0.2\n",
    "X_train, X_test, y_train, y_test = train_test_split(corpus['text'].values,\n",
    "                                                    y,\n",
    "                                                    test_size=test_fraction,\n",
    "                                                    shuffle=True,\n",
    "                                                    random_state=0\n",
    "                                                    )\n",
    "\n",
    "X_train, X_val, y_train, y_val = train_test_split(corpus['text'].values,\n",
    "                                                    y,\n",
    "                                                    test_size=test_fraction/(1-test_fraction),\n",
    "                                                    shuffle=True,\n",
    "                                                    random_state=0\n",
    "                                                    )\n",
    "\n",
    "X_train_subset, y_train_subset = generate_subsets(X_train, y_train)\n",
    "X_val_subset, y_val_subset = generate_subsets(X_val, y_val)\n",
    "X_test_subset, y_test_subset = generate_subsets(X_test, y_test)"
   ]
  },
  {
   "cell_type": "code",
   "execution_count": 55,
   "id": "422a29f4",
   "metadata": {
    "execution": {
     "iopub.execute_input": "2024-05-22T02:54:26.884101Z",
     "iopub.status.busy": "2024-05-22T02:54:26.883756Z",
     "iopub.status.idle": "2024-05-22T02:54:26.890881Z",
     "shell.execute_reply": "2024-05-22T02:54:26.889982Z"
    },
    "papermill": {
     "duration": 0.81083,
     "end_time": "2024-05-22T02:54:26.892608",
     "exception": false,
     "start_time": "2024-05-22T02:54:26.081778",
     "status": "completed"
    },
    "tags": []
   },
   "outputs": [],
   "source": [
    "# Define the maximum number of words to tokenize (DistilBERT can tokenize up to 512)\n",
    "MAX_LENGTH = 128\n",
    "\n",
    "# Define function to encode text data in batches\n",
    "def batch_encode(tokenizer, texts, batch_size=128, max_length=MAX_LENGTH):\n",
    "    input_ids = []\n",
    "    attention_mask = []\n",
    "    \n",
    "    for i in range(0, len(texts), batch_size):\n",
    "        batch = texts[i:i+batch_size]\n",
    "        inputs = tokenizer.batch_encode_plus(batch,\n",
    "                                             max_length=max_length,\n",
    "                                             padding='longest', # implements dynamic padding\n",
    "                                             truncation=True,\n",
    "                                             return_attention_mask=True,\n",
    "                                             return_token_type_ids=False\n",
    "                                             )\n",
    "        input_ids.extend(inputs['input_ids'])\n",
    "        attention_mask.extend(inputs['attention_mask'])\n",
    "    \n",
    "    \n",
    "    return tf.convert_to_tensor(input_ids), tf.convert_to_tensor(attention_mask)"
   ]
  },
  {
   "cell_type": "code",
   "execution_count": 56,
   "id": "082da17b",
   "metadata": {
    "execution": {
     "iopub.execute_input": "2024-05-22T02:54:28.535369Z",
     "iopub.status.busy": "2024-05-22T02:54:28.534458Z",
     "iopub.status.idle": "2024-05-22T02:54:34.858392Z",
     "shell.execute_reply": "2024-05-22T02:54:34.857556Z"
    },
    "papermill": {
     "duration": 7.121957,
     "end_time": "2024-05-22T02:54:34.860331",
     "exception": false,
     "start_time": "2024-05-22T02:54:27.738374",
     "status": "completed"
    },
    "tags": []
   },
   "outputs": [
    {
     "data": {
      "application/vnd.jupyter.widget-view+json": {
       "model_id": "30ab5e5c91744b5ebb328bdce7bc7108",
       "version_major": 2,
       "version_minor": 0
      },
      "text/plain": [
       "Downloading tokenizer_config.json:   0%|          | 0.00/48.0 [00:00<?, ?B/s]"
      ]
     },
     "metadata": {},
     "output_type": "display_data"
    },
    {
     "data": {
      "application/vnd.jupyter.widget-view+json": {
       "model_id": "db2d6ad546ab40d6a4c4590a3793d598",
       "version_major": 2,
       "version_minor": 0
      },
      "text/plain": [
       "Downloading vocab.txt:   0%|          | 0.00/232k [00:00<?, ?B/s]"
      ]
     },
     "metadata": {},
     "output_type": "display_data"
    },
    {
     "data": {
      "application/vnd.jupyter.widget-view+json": {
       "model_id": "c2d7055f6b15443db055deedde290ee0",
       "version_major": 2,
       "version_minor": 0
      },
      "text/plain": [
       "Downloading tokenizer.json:   0%|          | 0.00/466k [00:00<?, ?B/s]"
      ]
     },
     "metadata": {},
     "output_type": "display_data"
    },
    {
     "data": {
      "application/vnd.jupyter.widget-view+json": {
       "model_id": "b2cb6f143c0648599363d4e4a4756810",
       "version_major": 2,
       "version_minor": 0
      },
      "text/plain": [
       "Downloading config.json:   0%|          | 0.00/483 [00:00<?, ?B/s]"
      ]
     },
     "metadata": {},
     "output_type": "display_data"
    },
    {
     "data": {
      "application/vnd.jupyter.widget-view+json": {
       "model_id": "17a1d95743e140188a7fdb1559c6eedd",
       "version_major": 2,
       "version_minor": 0
      },
      "text/plain": [
       "Downloading model.safetensors:   0%|          | 0.00/268M [00:00<?, ?B/s]"
      ]
     },
     "metadata": {},
     "output_type": "display_data"
    },
    {
     "name": "stderr",
     "output_type": "stream",
     "text": [
      "Some weights of the PyTorch model were not used when initializing the TF 2.0 model TFDistilBertModel: ['vocab_layer_norm.weight', 'vocab_transform.bias', 'vocab_projector.bias', 'vocab_layer_norm.bias', 'vocab_transform.weight']\n",
      "- This IS expected if you are initializing TFDistilBertModel from a PyTorch model trained on another task or with another architecture (e.g. initializing a TFBertForSequenceClassification model from a BertForPreTraining model).\n",
      "- This IS NOT expected if you are initializing TFDistilBertModel from a PyTorch model that you expect to be exactly identical (e.g. initializing a TFBertForSequenceClassification model from a BertForSequenceClassification model).\n",
      "All the weights of TFDistilBertModel were initialized from the PyTorch model.\n",
      "If your task is similar to the task the model of the checkpoint was trained on, you can already use TFDistilBertModel for predictions without further training.\n"
     ]
    }
   ],
   "source": [
    "from transformers import DistilBertTokenizerFast, TFDistilBertModel, DistilBertConfig\n",
    "\n",
    "tokenizer_bert = DistilBertTokenizerFast.from_pretrained('distilbert-base-uncased')\n",
    "\n",
    "DROPOUT = 0.2\n",
    "ATT_DROPOUT = 0.2\n",
    " \n",
    "config = DistilBertConfig(dropout=DROPOUT, \n",
    "                          attention_dropout=ATT_DROPOUT, \n",
    "                          output_hidden_states=True)\n",
    "                          \n",
    "distilBERT = TFDistilBertModel.from_pretrained('distilbert-base-uncased', config=config)\n",
    "\n",
    "# use pre-trained weights\n",
    "for layer in distilBERT.layers:\n",
    "    layer.trainable = False"
   ]
  },
  {
   "cell_type": "code",
   "execution_count": 57,
   "id": "765828da",
   "metadata": {
    "execution": {
     "iopub.execute_input": "2024-05-22T02:54:36.512928Z",
     "iopub.status.busy": "2024-05-22T02:54:36.512253Z",
     "iopub.status.idle": "2024-05-22T02:54:44.361942Z",
     "shell.execute_reply": "2024-05-22T02:54:44.360989Z"
    },
    "papermill": {
     "duration": 8.71126,
     "end_time": "2024-05-22T02:54:44.364224",
     "exception": false,
     "start_time": "2024-05-22T02:54:35.652964",
     "status": "completed"
    },
    "tags": []
   },
   "outputs": [],
   "source": [
    "X_train_ids, X_train_attention = batch_encode(tokenizer_bert, X_train_subset.tolist())\n",
    "X_valid_ids, X_valid_attention = batch_encode(tokenizer_bert, X_val_subset.tolist())\n",
    "X_test_ids, X_test_attention = batch_encode(tokenizer_bert, X_test_subset.tolist())"
   ]
  },
  {
   "cell_type": "code",
   "execution_count": 58,
   "id": "8d39102c",
   "metadata": {
    "execution": {
     "iopub.execute_input": "2024-05-22T02:54:45.953910Z",
     "iopub.status.busy": "2024-05-22T02:54:45.953507Z",
     "iopub.status.idle": "2024-05-22T02:54:45.962536Z",
     "shell.execute_reply": "2024-05-22T02:54:45.961682Z"
    },
    "papermill": {
     "duration": 0.805267,
     "end_time": "2024-05-22T02:54:45.964394",
     "exception": false,
     "start_time": "2024-05-22T02:54:45.159127",
     "status": "completed"
    },
    "tags": []
   },
   "outputs": [],
   "source": [
    "MAX_LENGTH = 128\n",
    "LAYER_DROPOUT = 0.3\n",
    "LEARNING_RATE = 5e-4\n",
    "RANDOM_STATE = 0\n",
    "\n",
    "def build_model(transformer, max_length=MAX_LENGTH):\n",
    "    weight_initializer = tf.keras.initializers.GlorotNormal(seed=0) \n",
    "    input_ids_layer = tf.keras.layers.Input(shape=(max_length,), \n",
    "                                            name='input_ids', \n",
    "                                            dtype='int32')\n",
    "    input_attention_layer = tf.keras.layers.Input(shape=(max_length,), \n",
    "                                                  name='input_attention', \n",
    "                                                  dtype='int32')\n",
    "    \n",
    "    last_hidden_state = transformer([input_ids_layer, input_attention_layer])[0]\n",
    "    cls_token = last_hidden_state[:, 0, :]\n",
    "\n",
    "    output = tf.keras.layers.Dense(2, \n",
    "                                   activation='softmax',\n",
    "                                   kernel_initializer=weight_initializer,  \n",
    "                                   kernel_constraint=None,\n",
    "                                   bias_initializer='zeros'\n",
    "                                   )(cls_token)\n",
    "    \n",
    "    model = tf.keras.Model([input_ids_layer, input_attention_layer], output)\n",
    "    \n",
    "    model.compile(tf.keras.optimizers.Adam(lr=LEARNING_RATE), \n",
    "                  loss='sparse_categorical_crossentropy',\n",
    "                  metrics=['accuracy'])\n",
    "    \n",
    "    return model"
   ]
  },
  {
   "cell_type": "code",
   "execution_count": 59,
   "id": "0c631574",
   "metadata": {
    "execution": {
     "iopub.execute_input": "2024-05-22T02:54:47.694148Z",
     "iopub.status.busy": "2024-05-22T02:54:47.693790Z",
     "iopub.status.idle": "2024-05-22T03:39:12.800450Z",
     "shell.execute_reply": "2024-05-22T03:39:12.799445Z"
    },
    "papermill": {
     "duration": 2666.037409,
     "end_time": "2024-05-22T03:39:12.802676",
     "exception": false,
     "start_time": "2024-05-22T02:54:46.765267",
     "status": "completed"
    },
    "tags": []
   },
   "outputs": [
    {
     "name": "stdout",
     "output_type": "stream",
     "text": [
      "Epoch 1/30\n",
      "166/166 - 129s - loss: 0.4439 - accuracy: 0.8013 - val_loss: 0.3562 - val_accuracy: 0.8304 - 129s/epoch - 777ms/step\n",
      "Epoch 2/30\n",
      "166/166 - 119s - loss: 0.3557 - accuracy: 0.8453 - val_loss: 0.3203 - val_accuracy: 0.8647 - 119s/epoch - 719ms/step\n",
      "Epoch 3/30\n",
      "166/166 - 119s - loss: 0.3383 - accuracy: 0.8542 - val_loss: 0.3061 - val_accuracy: 0.8678 - 119s/epoch - 719ms/step\n",
      "Epoch 4/30\n",
      "166/166 - 119s - loss: 0.3268 - accuracy: 0.8588 - val_loss: 0.3009 - val_accuracy: 0.8710 - 119s/epoch - 720ms/step\n",
      "Epoch 5/30\n",
      "166/166 - 119s - loss: 0.3226 - accuracy: 0.8612 - val_loss: 0.2948 - val_accuracy: 0.8738 - 119s/epoch - 719ms/step\n",
      "Epoch 6/30\n",
      "166/166 - 119s - loss: 0.3185 - accuracy: 0.8645 - val_loss: 0.2927 - val_accuracy: 0.8747 - 119s/epoch - 717ms/step\n",
      "Epoch 7/30\n",
      "166/166 - 119s - loss: 0.3145 - accuracy: 0.8660 - val_loss: 0.2890 - val_accuracy: 0.8766 - 119s/epoch - 720ms/step\n",
      "Epoch 8/30\n",
      "166/166 - 120s - loss: 0.3147 - accuracy: 0.8647 - val_loss: 0.2886 - val_accuracy: 0.8757 - 120s/epoch - 721ms/step\n",
      "Epoch 9/30\n",
      "166/166 - 120s - loss: 0.3119 - accuracy: 0.8648 - val_loss: 0.2863 - val_accuracy: 0.8782 - 120s/epoch - 720ms/step\n",
      "Epoch 10/30\n",
      "166/166 - 120s - loss: 0.3100 - accuracy: 0.8688 - val_loss: 0.2850 - val_accuracy: 0.8780 - 120s/epoch - 720ms/step\n",
      "Epoch 11/30\n",
      "166/166 - 120s - loss: 0.3097 - accuracy: 0.8684 - val_loss: 0.2863 - val_accuracy: 0.8775 - 120s/epoch - 720ms/step\n",
      "Epoch 12/30\n",
      "166/166 - 119s - loss: 0.3076 - accuracy: 0.8691 - val_loss: 0.2863 - val_accuracy: 0.8769 - 119s/epoch - 720ms/step\n",
      "Epoch 13/30\n",
      "166/166 - 119s - loss: 0.3048 - accuracy: 0.8704 - val_loss: 0.2835 - val_accuracy: 0.8775 - 119s/epoch - 719ms/step\n",
      "Epoch 14/30\n",
      "166/166 - 119s - loss: 0.3084 - accuracy: 0.8699 - val_loss: 0.2848 - val_accuracy: 0.8785 - 119s/epoch - 718ms/step\n",
      "Epoch 15/30\n",
      "166/166 - 119s - loss: 0.3081 - accuracy: 0.8690 - val_loss: 0.2813 - val_accuracy: 0.8832 - 119s/epoch - 719ms/step\n",
      "Epoch 16/30\n",
      "166/166 - 119s - loss: 0.3060 - accuracy: 0.8713 - val_loss: 0.2806 - val_accuracy: 0.8793 - 119s/epoch - 718ms/step\n",
      "Epoch 17/30\n",
      "166/166 - 119s - loss: 0.3068 - accuracy: 0.8685 - val_loss: 0.2806 - val_accuracy: 0.8855 - 119s/epoch - 718ms/step\n",
      "Epoch 18/30\n",
      "166/166 - 119s - loss: 0.3037 - accuracy: 0.8706 - val_loss: 0.2790 - val_accuracy: 0.8816 - 119s/epoch - 718ms/step\n",
      "Epoch 19/30\n",
      "166/166 - 119s - loss: 0.3045 - accuracy: 0.8716 - val_loss: 0.2778 - val_accuracy: 0.8824 - 119s/epoch - 719ms/step\n",
      "Epoch 20/30\n",
      "166/166 - 119s - loss: 0.3038 - accuracy: 0.8694 - val_loss: 0.2804 - val_accuracy: 0.8852 - 119s/epoch - 718ms/step\n",
      "Epoch 21/30\n",
      "166/166 - 119s - loss: 0.3028 - accuracy: 0.8704 - val_loss: 0.2797 - val_accuracy: 0.8796 - 119s/epoch - 718ms/step\n",
      "Epoch 22/30\n",
      "166/166 - 120s - loss: 0.3014 - accuracy: 0.8726 - val_loss: 0.2794 - val_accuracy: 0.8800 - 120s/epoch - 720ms/step\n",
      "Epoch 22: early stopping\n",
      "180/180 [==============================] - 25s 132ms/step\n"
     ]
    }
   ],
   "source": [
    "EPOCHS = 30\n",
    "BATCH_SIZE = 128\n",
    "NUM_STEPS = len(X_train_subset) // BATCH_SIZE\n",
    "\n",
    "model = build_model(distilBERT, MAX_LENGTH)\n",
    "model.fit(\n",
    "    x = [X_train_ids, X_train_attention],\n",
    "    y = np.array(y_train_subset),\n",
    "    epochs = EPOCHS,\n",
    "    batch_size = BATCH_SIZE,\n",
    "    steps_per_epoch = NUM_STEPS,\n",
    "    validation_data = ([X_valid_ids, X_valid_attention], np.array(y_val_subset)),\n",
    "    verbose=2,\n",
    "    callbacks=early_stop_callback\n",
    ")\n",
    "\n",
    "y_pred = model.predict([X_test_ids, X_test_attention])\n",
    "y_pred_label = [np.argmax(y) for y in y_pred]"
   ]
  },
  {
   "cell_type": "code",
   "execution_count": 60,
   "id": "e30a1edb",
   "metadata": {
    "execution": {
     "iopub.execute_input": "2024-05-22T03:39:14.423642Z",
     "iopub.status.busy": "2024-05-22T03:39:14.422705Z",
     "iopub.status.idle": "2024-05-22T03:39:14.674398Z",
     "shell.execute_reply": "2024-05-22T03:39:14.673504Z"
    },
    "papermill": {
     "duration": 1.063526,
     "end_time": "2024-05-22T03:39:14.676369",
     "exception": false,
     "start_time": "2024-05-22T03:39:13.612843",
     "status": "completed"
    },
    "tags": []
   },
   "outputs": [
    {
     "name": "stdout",
     "output_type": "stream",
     "text": [
      "accuracy: 0.8799\n",
      "balanced accuracy: 0.7678\n"
     ]
    },
    {
     "data": {
      "image/png": "[encoded data removed]",
      "text/plain": [
       "<Figure size 600x600 with 2 Axes>"
      ]
     },
     "metadata": {},
     "output_type": "display_data"
    }
   ],
   "source": [
    "evaluation(y_test_subset, y_pred_label)"
   ]
  },
  {
   "cell_type": "code",
   "execution_count": 61,
   "id": "31d71359",
   "metadata": {
    "execution": {
     "iopub.execute_input": "2024-05-22T03:39:16.354225Z",
     "iopub.status.busy": "2024-05-22T03:39:16.353824Z",
     "iopub.status.idle": "2024-05-22T03:39:16.361458Z",
     "shell.execute_reply": "2024-05-22T03:39:16.360616Z"
    },
    "papermill": {
     "duration": 0.87714,
     "end_time": "2024-05-22T03:39:16.363329",
     "exception": false,
     "start_time": "2024-05-22T03:39:15.486189",
     "status": "completed"
    },
    "tags": []
   },
   "outputs": [],
   "source": [
    "# unfreeze layers to train hidden layers as well\n",
    "for layer in distilBERT.layers:\n",
    "    layer.trainable = True"
   ]
  },
  {
   "cell_type": "code",
   "execution_count": 62,
   "id": "b9d3a4b6",
   "metadata": {
    "execution": {
     "iopub.execute_input": "2024-05-22T03:39:18.038806Z",
     "iopub.status.busy": "2024-05-22T03:39:18.038083Z",
     "iopub.status.idle": "2024-05-22T04:07:06.474327Z",
     "shell.execute_reply": "2024-05-22T04:07:06.473528Z"
    },
    "papermill": {
     "duration": 1669.305244,
     "end_time": "2024-05-22T04:07:06.476474",
     "exception": false,
     "start_time": "2024-05-22T03:39:17.171230",
     "status": "completed"
    },
    "tags": []
   },
   "outputs": [
    {
     "name": "stdout",
     "output_type": "stream",
     "text": [
      "Epoch 1/30\n",
      "332/332 - 294s - loss: 0.5346 - accuracy: 0.7800 - val_loss: 0.5343 - val_accuracy: 0.7865 - 294s/epoch - 886ms/step\n",
      "Epoch 2/30\n",
      "332/332 - 270s - loss: 0.5281 - accuracy: 0.7819 - val_loss: 0.5194 - val_accuracy: 0.7865 - 270s/epoch - 813ms/step\n",
      "Epoch 3/30\n",
      "332/332 - 270s - loss: 0.5278 - accuracy: 0.7822 - val_loss: 0.5188 - val_accuracy: 0.7865 - 270s/epoch - 812ms/step\n",
      "Epoch 4/30\n",
      "332/332 - 269s - loss: 0.5259 - accuracy: 0.7824 - val_loss: 0.5198 - val_accuracy: 0.7865 - 269s/epoch - 812ms/step\n",
      "Epoch 5/30\n",
      "332/332 - 270s - loss: 0.5266 - accuracy: 0.7823 - val_loss: 0.5233 - val_accuracy: 0.7865 - 270s/epoch - 813ms/step\n",
      "Epoch 6/30\n",
      "332/332 - 270s - loss: 0.5266 - accuracy: 0.7819 - val_loss: 0.5192 - val_accuracy: 0.7865 - 270s/epoch - 812ms/step\n",
      "Epoch 6: early stopping\n",
      "180/180 [==============================] - 25s 129ms/step\n"
     ]
    }
   ],
   "source": [
    "EPOCHS = 30\n",
    "BATCH_SIZE = 64\n",
    "NUM_STEPS = len(X_train_subset) // BATCH_SIZE\n",
    "\n",
    "model = build_model(distilBERT, MAX_LENGTH)\n",
    "model.fit(\n",
    "    x = [X_train_ids, X_train_attention],\n",
    "    y = np.array(y_train_subset),\n",
    "    epochs = EPOCHS,\n",
    "    batch_size = BATCH_SIZE,\n",
    "    steps_per_epoch = NUM_STEPS,\n",
    "    validation_data = ([X_valid_ids, X_valid_attention], np.array(y_val_subset)),\n",
    "    verbose=2,\n",
    "    callbacks=early_stop_callback\n",
    ")\n",
    "\n",
    "y_pred = model.predict([X_test_ids, X_test_attention])\n",
    "y_pred_label = [np.argmax(y) for y in y_pred]"
   ]
  },
  {
   "cell_type": "markdown",
   "id": "1d11d614",
   "metadata": {
    "papermill": {
     "duration": 0.885064,
     "end_time": "2024-05-22T04:07:08.219277",
     "exception": false,
     "start_time": "2024-05-22T04:07:07.334213",
     "status": "completed"
    },
    "tags": []
   },
   "source": [
    "[1] Lane, H., Howard, C., Hannes, M. H. (2019). <em>Natural Language Processing in Action.</em> Manning Publications. \\\n",
    "[2] https://towardsdatascience.com/hugging-face-transformers-fine-tuning-distilbert-for-binary-classification-tasks-490f1d192379"
   ]
  }
 ],
 "metadata": {
  "kaggle": {
   "accelerator": "nvidiaTeslaT4",
   "dataSources": [
    {
     "datasetId": 6763,
     "sourceId": 9801,
     "sourceType": "datasetVersion"
    },
    {
     "datasetId": 870709,
     "sourceId": 1483651,
     "sourceType": "datasetVersion"
    },
    {
     "datasetId": 4115877,
     "sourceId": 7133409,
     "sourceType": "datasetVersion"
    },
    {
     "datasetId": 4594509,
     "sourceId": 8454352,
     "sourceType": "datasetVersion"
    },
    {
     "datasetId": 4594477,
     "sourceId": 8454356,
     "sourceType": "datasetVersion"
    },
    {
     "datasetId": 4108635,
     "sourceId": 8454358,
     "sourceType": "datasetVersion"
    }
   ],
   "dockerImageVersionId": 30558,
   "isGpuEnabled": true,
   "isInternetEnabled": true,
   "language": "python",
   "sourceType": "notebook"
  },
  "kernelspec": {
   "display_name": "Python 3",
   "language": "python",
   "name": "python3"
  },
  "language_info": {
   "codemirror_mode": {
    "name": "ipython",
    "version": 3
   },
   "file_extension": ".py",
   "mimetype": "text/x-python",
   "name": "python",
   "nbconvert_exporter": "python",
   "pygments_lexer": "ipython3",
   "version": "3.10.12"
  },
  "papermill": {
   "default_parameters": {},
   "duration": 6618.489111,
   "end_time": "2024-05-22T04:07:11.878575",
   "environment_variables": {},
   "exception": null,
   "input_path": "__notebook__.ipynb",
   "output_path": "__notebook__.ipynb",
   "parameters": {},
   "start_time": "2024-05-22T02:16:53.389464",
   "version": "2.4.0"
  },
  "widgets": {
   "application/vnd.jupyter.widget-state+json": {
    "state": {
     "0ba0e4a61d78429b88a113c4736a7e72": {
      "model_module": "@jupyter-widgets/controls",
      "model_module_version": "1.5.0",
      "model_name": "DescriptionStyleModel",
      "state": {
       "_model_module": "@jupyter-widgets/controls",
       "_model_module_version": "1.5.0",
       "_model_name": "DescriptionStyleModel",
       "_view_count": null,
       "_view_module": "@jupyter-widgets/base",
       "_view_module_version": "1.2.0",
       "_view_name": "StyleView",
       "description_width": ""
      }
     },
     "169e11dd8dd34a50ba1b3969bf0a105d": {
      "model_module": "@jupyter-widgets/controls",
      "model_module_version": "1.5.0",
      "model_name": "ProgressStyleModel",
      "state": {
       "_model_module": "@jupyter-widgets/controls",
       "_model_module_version": "1.5.0",
       "_model_name": "ProgressStyleModel",
       "_view_count": null,
       "_view_module": "@jupyter-widgets/base",
       "_view_module_version": "1.2.0",
       "_view_name": "StyleView",
       "bar_color": null,
       "description_width": ""
      }
     },
     "17a1d95743e140188a7fdb1559c6eedd": {
      "model_module": "@jupyter-widgets/controls",
      "model_module_version": "1.5.0",
      "model_name": "HBoxModel",
      "state": {
       "_dom_classes": [],
       "_model_module": "@jupyter-widgets/controls",
       "_model_module_version": "1.5.0",
       "_model_name": "HBoxModel",
       "_view_count": null,
       "_view_module": "@jupyter-widgets/controls",
       "_view_module_version": "1.5.0",
       "_view_name": "HBoxView",
       "box_style": "",
       "children": [
        "IPY_MODEL_2e9b704f03cf40b8b4f2e3cddef110c2",
        "IPY_MODEL_a963cb7513f64a8faf25f6957708c097",
        "IPY_MODEL_969d65d0e8eb4b0ab4d031585e8ce7f5"
       ],
       "layout": "IPY_MODEL_23cacbaec39142178d93c60bd9859e18"
      }
     },
     "1ea9f956e3cf4f37a0d5d341da3ae90e": {
      "model_module": "@jupyter-widgets/controls",
      "model_module_version": "1.5.0",
      "model_name": "HTMLModel",
      "state": {
       "_dom_classes": [],
       "_model_module": "@jupyter-widgets/controls",
       "_model_module_version": "1.5.0",
       "_model_name": "HTMLModel",
       "_view_count": null,
       "_view_module": "@jupyter-widgets/controls",
       "_view_module_version": "1.5.0",
       "_view_name": "HTMLView",
       "description": "",
       "description_tooltip": null,
       "layout": "IPY_MODEL_4fadbf956c7d4b2e81fe6e4c2da2f733",
       "placeholder": "​",
       "style": "IPY_MODEL_c22e74f47c2545088726ad8007132ea0",
       "value": " 483/483 [00:00&lt;00:00, 44.8kB/s]"
      }
     },
     "1f0ccfae8b6149718b003493228b7742": {
      "model_module": "@jupyter-widgets/base",
      "model_module_version": "1.2.0",
      "model_name": "LayoutModel",
      "state": {
       "_model_module": "@jupyter-widgets/base",
       "_model_module_version": "1.2.0",
       "_model_name": "LayoutModel",
       "_view_count": null,
       "_view_module": "@jupyter-widgets/base",
       "_view_module_version": "1.2.0",
       "_view_name": "LayoutView",
       "align_content": null,
       "align_items": null,
       "align_self": null,
       "border": null,
       "bottom": null,
       "display": null,
       "flex": null,
       "flex_flow": null,
       "grid_area": null,
       "grid_auto_columns": null,
       "grid_auto_flow": null,
       "grid_auto_rows": null,
       "grid_column": null,
       "grid_gap": null,
       "grid_row": null,
       "grid_template_areas": null,
       "grid_template_columns": null,
       "grid_template_rows": null,
       "height": null,
       "justify_content": null,
       "justify_items": null,
       "left": null,
       "margin": null,
       "max_height": null,
       "max_width": null,
       "min_height": null,
       "min_width": null,
       "object_fit": null,
       "object_position": null,
       "order": null,
       "overflow": null,
       "overflow_x": null,
       "overflow_y": null,
       "padding": null,
       "right": null,
       "top": null,
       "visibility": null,
       "width": null
      }
     },
     "23cacbaec39142178d93c60bd9859e18": {
      "model_module": "@jupyter-widgets/base",
      "model_module_version": "1.2.0",
      "model_name": "LayoutModel",
      "state": {
       "_model_module": "@jupyter-widgets/base",
       "_model_module_version": "1.2.0",
       "_model_name": "LayoutModel",
       "_view_count": null,
       "_view_module": "@jupyter-widgets/base",
       "_view_module_version": "1.2.0",
       "_view_name": "LayoutView",
       "align_content": null,
       "align_items": null,
       "align_self": null,
       "border": null,
       "bottom": null,
       "display": null,
       "flex": null,
       "flex_flow": null,
       "grid_area": null,
       "grid_auto_columns": null,
       "grid_auto_flow": null,
       "grid_auto_rows": null,
       "grid_column": null,
       "grid_gap": null,
       "grid_row": null,
       "grid_template_areas": null,
       "grid_template_columns": null,
       "grid_template_rows": null,
       "height": null,
       "justify_content": null,
       "justify_items": null,
       "left": null,
       "margin": null,
       "max_height": null,
       "max_width": null,
       "min_height": null,
       "min_width": null,
       "object_fit": null,
       "object_position": null,
       "order": null,
       "overflow": null,
       "overflow_x": null,
       "overflow_y": null,
       "padding": null,
       "right": null,
       "top": null,
       "visibility": null,
       "width": null
      }
     },
     "2cf12e487fb04195a8cff9050750101a": {
      "model_module": "@jupyter-widgets/base",
      "model_module_version": "1.2.0",
      "model_name": "LayoutModel",
      "state": {
       "_model_module": "@jupyter-widgets/base",
       "_model_module_version": "1.2.0",
       "_model_name": "LayoutModel",
       "_view_count": null,
       "_view_module": "@jupyter-widgets/base",
       "_view_module_version": "1.2.0",
       "_view_name": "LayoutView",
       "align_content": null,
       "align_items": null,
       "align_self": null,
       "border": null,
       "bottom": null,
       "display": null,
       "flex": null,
       "flex_flow": null,
       "grid_area": null,
       "grid_auto_columns": null,
       "grid_auto_flow": null,
       "grid_auto_rows": null,
       "grid_column": null,
       "grid_gap": null,
       "grid_row": null,
       "grid_template_areas": null,
       "grid_template_columns": null,
       "grid_template_rows": null,
       "height": null,
       "justify_content": null,
       "justify_items": null,
       "left": null,
       "margin": null,
       "max_height": null,
       "max_width": null,
       "min_height": null,
       "min_width": null,
       "object_fit": null,
       "object_position": null,
       "order": null,
       "overflow": null,
       "overflow_x": null,
       "overflow_y": null,
       "padding": null,
       "right": null,
       "top": null,
       "visibility": null,
       "width": null
      }
     },
     "2e9b704f03cf40b8b4f2e3cddef110c2": {
      "model_module": "@jupyter-widgets/controls",
      "model_module_version": "1.5.0",
      "model_name": "HTMLModel",
      "state": {
       "_dom_classes": [],
       "_model_module": "@jupyter-widgets/controls",
       "_model_module_version": "1.5.0",
       "_model_name": "HTMLModel",
       "_view_count": null,
       "_view_module": "@jupyter-widgets/controls",
       "_view_module_version": "1.5.0",
       "_view_name": "HTMLView",
       "description": "",
       "description_tooltip": null,
       "layout": "IPY_MODEL_c881f4c7aad84cbf8e4d8ea3927d5421",
       "placeholder": "​",
       "style": "IPY_MODEL_fe4f15f963e94e15a131b9988de2e53c",
       "value": "Downloading model.safetensors: 100%"
      }
     },
     "30ab5e5c91744b5ebb328bdce7bc7108": {
      "model_module": "@jupyter-widgets/controls",
      "model_module_version": "1.5.0",
      "model_name": "HBoxModel",
      "state": {
       "_dom_classes": [],
       "_model_module": "@jupyter-widgets/controls",
       "_model_module_version": "1.5.0",
       "_model_name": "HBoxModel",
       "_view_count": null,
       "_view_module": "@jupyter-widgets/controls",
       "_view_module_version": "1.5.0",
       "_view_name": "HBoxView",
       "box_style": "",
       "children": [
        "IPY_MODEL_c420033e42c34ae688f76111bf61fc26",
        "IPY_MODEL_3dd246237911484884fc1ab07eb7e3eb",
        "IPY_MODEL_55b50d1130a1499f9a10322b458fd472"
       ],
       "layout": "IPY_MODEL_c2b8667000314ca5bb60dffe03dfd3d3"
      }
     },
     "30b033e12ec14b79b0e8827de44271f4": {
      "model_module": "@jupyter-widgets/base",
      "model_module_version": "1.2.0",
      "model_name": "LayoutModel",
      "state": {
       "_model_module": "@jupyter-widgets/base",
       "_model_module_version": "1.2.0",
       "_model_name": "LayoutModel",
       "_view_count": null,
       "_view_module": "@jupyter-widgets/base",
       "_view_module_version": "1.2.0",
       "_view_name": "LayoutView",
       "align_content": null,
       "align_items": null,
       "align_self": null,
       "border": null,
       "bottom": null,
       "display": null,
       "flex": null,
       "flex_flow": null,
       "grid_area": null,
       "grid_auto_columns": null,
       "grid_auto_flow": null,
       "grid_auto_rows": null,
       "grid_column": null,
       "grid_gap": null,
       "grid_row": null,
       "grid_template_areas": null,
       "grid_template_columns": null,
       "grid_template_rows": null,
       "height": null,
       "justify_content": null,
       "justify_items": null,
       "left": null,
       "margin": null,
       "max_height": null,
       "max_width": null,
       "min_height": null,
       "min_width": null,
       "object_fit": null,
       "object_position": null,
       "order": null,
       "overflow": null,
       "overflow_x": null,
       "overflow_y": null,
       "padding": null,
       "right": null,
       "top": null,
       "visibility": null,
       "width": null
      }
     },
     "3314ca482a634b17ae72d56f72fcfbe2": {
      "model_module": "@jupyter-widgets/controls",
      "model_module_version": "1.5.0",
      "model_name": "DescriptionStyleModel",
      "state": {
       "_model_module": "@jupyter-widgets/controls",
       "_model_module_version": "1.5.0",
       "_model_name": "DescriptionStyleModel",
       "_view_count": null,
       "_view_module": "@jupyter-widgets/base",
       "_view_module_version": "1.2.0",
       "_view_name": "StyleView",
       "description_width": ""
      }
     },
     "344f9d71a323420fa0e1b8050b97ffed": {
      "model_module": "@jupyter-widgets/controls",
      "model_module_version": "1.5.0",
      "model_name": "FloatProgressModel",
      "state": {
       "_dom_classes": [],
       "_model_module": "@jupyter-widgets/controls",
       "_model_module_version": "1.5.0",
       "_model_name": "FloatProgressModel",
       "_view_count": null,
       "_view_module": "@jupyter-widgets/controls",
       "_view_module_version": "1.5.0",
       "_view_name": "ProgressView",
       "bar_style": "success",
       "description": "",
       "description_tooltip": null,
       "layout": "IPY_MODEL_9a0ae054643049da83e6ed664491271f",
       "max": 231508.0,
       "min": 0.0,
       "orientation": "horizontal",
       "style": "IPY_MODEL_a7397aadb501426a8f6e84f009670981",
       "value": 231508.0
      }
     },
     "3dd246237911484884fc1ab07eb7e3eb": {
      "model_module": "@jupyter-widgets/controls",
      "model_module_version": "1.5.0",
      "model_name": "FloatProgressModel",
      "state": {
       "_dom_classes": [],
       "_model_module": "@jupyter-widgets/controls",
       "_model_module_version": "1.5.0",
       "_model_name": "FloatProgressModel",
       "_view_count": null,
       "_view_module": "@jupyter-widgets/controls",
       "_view_module_version": "1.5.0",
       "_view_name": "ProgressView",
       "bar_style": "success",
       "description": "",
       "description_tooltip": null,
       "layout": "IPY_MODEL_54460d4ee88042aaa2f1a35dda9be0e9",
       "max": 48.0,
       "min": 0.0,
       "orientation": "horizontal",
       "style": "IPY_MODEL_46ca6b601aec4b06a0c291296f4bc279",
       "value": 48.0
      }
     },
     "434af42e57e143f495e0533ef6d5c444": {
      "model_module": "@jupyter-widgets/controls",
      "model_module_version": "1.5.0",
      "model_name": "FloatProgressModel",
      "state": {
       "_dom_classes": [],
       "_model_module": "@jupyter-widgets/controls",
       "_model_module_version": "1.5.0",
       "_model_name": "FloatProgressModel",
       "_view_count": null,
       "_view_module": "@jupyter-widgets/controls",
       "_view_module_version": "1.5.0",
       "_view_name": "ProgressView",
       "bar_style": "success",
       "description": "",
       "description_tooltip": null,
       "layout": "IPY_MODEL_ff05dc5db8da4a018a5c14a89c8c9ab0",
       "max": 466062.0,
       "min": 0.0,
       "orientation": "horizontal",
       "style": "IPY_MODEL_680aef017fb340c68a4e5de99ce192d8",
       "value": 466062.0
      }
     },
     "46ca6b601aec4b06a0c291296f4bc279": {
      "model_module": "@jupyter-widgets/controls",
      "model_module_version": "1.5.0",
      "model_name": "ProgressStyleModel",
      "state": {
       "_model_module": "@jupyter-widgets/controls",
       "_model_module_version": "1.5.0",
       "_model_name": "ProgressStyleModel",
       "_view_count": null,
       "_view_module": "@jupyter-widgets/base",
       "_view_module_version": "1.2.0",
       "_view_name": "StyleView",
       "bar_color": null,
       "description_width": ""
      }
     },
     "486ec52330644841a0bc85a16a6ad3b1": {
      "model_module": "@jupyter-widgets/controls",
      "model_module_version": "1.5.0",
      "model_name": "DescriptionStyleModel",
      "state": {
       "_model_module": "@jupyter-widgets/controls",
       "_model_module_version": "1.5.0",
       "_model_name": "DescriptionStyleModel",
       "_view_count": null,
       "_view_module": "@jupyter-widgets/base",
       "_view_module_version": "1.2.0",
       "_view_name": "StyleView",
       "description_width": ""
      }
     },
     "4f6112dae9404aa484ca363a8ac26bd0": {
      "model_module": "@jupyter-widgets/controls",
      "model_module_version": "1.5.0",
      "model_name": "HTMLModel",
      "state": {
       "_dom_classes": [],
       "_model_module": "@jupyter-widgets/controls",
       "_model_module_version": "1.5.0",
       "_model_name": "HTMLModel",
       "_view_count": null,
       "_view_module": "@jupyter-widgets/controls",
       "_view_module_version": "1.5.0",
       "_view_name": "HTMLView",
       "description": "",
       "description_tooltip": null,
       "layout": "IPY_MODEL_ec30112aa4564b93887c0c951c810653",
       "placeholder": "​",
       "style": "IPY_MODEL_486ec52330644841a0bc85a16a6ad3b1",
       "value": " 466k/466k [00:00&lt;00:00, 26.1MB/s]"
      }
     },
     "4fadbf956c7d4b2e81fe6e4c2da2f733": {
      "model_module": "@jupyter-widgets/base",
      "model_module_version": "1.2.0",
      "model_name": "LayoutModel",
      "state": {
       "_model_module": "@jupyter-widgets/base",
       "_model_module_version": "1.2.0",
       "_model_name": "LayoutModel",
       "_view_count": null,
       "_view_module": "@jupyter-widgets/base",
       "_view_module_version": "1.2.0",
       "_view_name": "LayoutView",
       "align_content": null,
       "align_items": null,
       "align_self": null,
       "border": null,
       "bottom": null,
       "display": null,
       "flex": null,
       "flex_flow": null,
       "grid_area": null,
       "grid_auto_columns": null,
       "grid_auto_flow": null,
       "grid_auto_rows": null,
       "grid_column": null,
       "grid_gap": null,
       "grid_row": null,
       "grid_template_areas": null,
       "grid_template_columns": null,
       "grid_template_rows": null,
       "height": null,
       "justify_content": null,
       "justify_items": null,
       "left": null,
       "margin": null,
       "max_height": null,
       "max_width": null,
       "min_height": null,
       "min_width": null,
       "object_fit": null,
       "object_position": null,
       "order": null,
       "overflow": null,
       "overflow_x": null,
       "overflow_y": null,
       "padding": null,
       "right": null,
       "top": null,
       "visibility": null,
       "width": null
      }
     },
     "54460d4ee88042aaa2f1a35dda9be0e9": {
      "model_module": "@jupyter-widgets/base",
      "model_module_version": "1.2.0",
      "model_name": "LayoutModel",
      "state": {
       "_model_module": "@jupyter-widgets/base",
       "_model_module_version": "1.2.0",
       "_model_name": "LayoutModel",
       "_view_count": null,
       "_view_module": "@jupyter-widgets/base",
       "_view_module_version": "1.2.0",
       "_view_name": "LayoutView",
       "align_content": null,
       "align_items": null,
       "align_self": null,
       "border": null,
       "bottom": null,
       "display": null,
       "flex": null,
       "flex_flow": null,
       "grid_area": null,
       "grid_auto_columns": null,
       "grid_auto_flow": null,
       "grid_auto_rows": null,
       "grid_column": null,
       "grid_gap": null,
       "grid_row": null,
       "grid_template_areas": null,
       "grid_template_columns": null,
       "grid_template_rows": null,
       "height": null,
       "justify_content": null,
       "justify_items": null,
       "left": null,
       "margin": null,
       "max_height": null,
       "max_width": null,
       "min_height": null,
       "min_width": null,
       "object_fit": null,
       "object_position": null,
       "order": null,
       "overflow": null,
       "overflow_x": null,
       "overflow_y": null,
       "padding": null,
       "right": null,
       "top": null,
       "visibility": null,
       "width": null
      }
     },
     "55b50d1130a1499f9a10322b458fd472": {
      "model_module": "@jupyter-widgets/controls",
      "model_module_version": "1.5.0",
      "model_name": "HTMLModel",
      "state": {
       "_dom_classes": [],
       "_model_module": "@jupyter-widgets/controls",
       "_model_module_version": "1.5.0",
       "_model_name": "HTMLModel",
       "_view_count": null,
       "_view_module": "@jupyter-widgets/controls",
       "_view_module_version": "1.5.0",
       "_view_name": "HTMLView",
       "description": "",
       "description_tooltip": null,
       "layout": "IPY_MODEL_2cf12e487fb04195a8cff9050750101a",
       "placeholder": "​",
       "style": "IPY_MODEL_3314ca482a634b17ae72d56f72fcfbe2",
       "value": " 48.0/48.0 [00:00&lt;00:00, 4.03kB/s]"
      }
     },
     "626f9b7a945044cb8192630dbe90d14a": {
      "model_module": "@jupyter-widgets/base",
      "model_module_version": "1.2.0",
      "model_name": "LayoutModel",
      "state": {
       "_model_module": "@jupyter-widgets/base",
       "_model_module_version": "1.2.0",
       "_model_name": "LayoutModel",
       "_view_count": null,
       "_view_module": "@jupyter-widgets/base",
       "_view_module_version": "1.2.0",
       "_view_name": "LayoutView",
       "align_content": null,
       "align_items": null,
       "align_self": null,
       "border": null,
       "bottom": null,
       "display": null,
       "flex": null,
       "flex_flow": null,
       "grid_area": null,
       "grid_auto_columns": null,
       "grid_auto_flow": null,
       "grid_auto_rows": null,
       "grid_column": null,
       "grid_gap": null,
       "grid_row": null,
       "grid_template_areas": null,
       "grid_template_columns": null,
       "grid_template_rows": null,
       "height": null,
       "justify_content": null,
       "justify_items": null,
       "left": null,
       "margin": null,
       "max_height": null,
       "max_width": null,
       "min_height": null,
       "min_width": null,
       "object_fit": null,
       "object_position": null,
       "order": null,
       "overflow": null,
       "overflow_x": null,
       "overflow_y": null,
       "padding": null,
       "right": null,
       "top": null,
       "visibility": null,
       "width": null
      }
     },
     "65488350a0f64f3bac0c5d15d1d831e8": {
      "model_module": "@jupyter-widgets/base",
      "model_module_version": "1.2.0",
      "model_name": "LayoutModel",
      "state": {
       "_model_module": "@jupyter-widgets/base",
       "_model_module_version": "1.2.0",
       "_model_name": "LayoutModel",
       "_view_count": null,
       "_view_module": "@jupyter-widgets/base",
       "_view_module_version": "1.2.0",
       "_view_name": "LayoutView",
       "align_content": null,
       "align_items": null,
       "align_self": null,
       "border": null,
       "bottom": null,
       "display": null,
       "flex": null,
       "flex_flow": null,
       "grid_area": null,
       "grid_auto_columns": null,
       "grid_auto_flow": null,
       "grid_auto_rows": null,
       "grid_column": null,
       "grid_gap": null,
       "grid_row": null,
       "grid_template_areas": null,
       "grid_template_columns": null,
       "grid_template_rows": null,
       "height": null,
       "justify_content": null,
       "justify_items": null,
       "left": null,
       "margin": null,
       "max_height": null,
       "max_width": null,
       "min_height": null,
       "min_width": null,
       "object_fit": null,
       "object_position": null,
       "order": null,
       "overflow": null,
       "overflow_x": null,
       "overflow_y": null,
       "padding": null,
       "right": null,
       "top": null,
       "visibility": null,
       "width": null
      }
     },
     "680aef017fb340c68a4e5de99ce192d8": {
      "model_module": "@jupyter-widgets/controls",
      "model_module_version": "1.5.0",
      "model_name": "ProgressStyleModel",
      "state": {
       "_model_module": "@jupyter-widgets/controls",
       "_model_module_version": "1.5.0",
       "_model_name": "ProgressStyleModel",
       "_view_count": null,
       "_view_module": "@jupyter-widgets/base",
       "_view_module_version": "1.2.0",
       "_view_name": "StyleView",
       "bar_color": null,
       "description_width": ""
      }
     },
     "7a19650d099e4c5baf9818f97f056bfb": {
      "model_module": "@jupyter-widgets/controls",
      "model_module_version": "1.5.0",
      "model_name": "HTMLModel",
      "state": {
       "_dom_classes": [],
       "_model_module": "@jupyter-widgets/controls",
       "_model_module_version": "1.5.0",
       "_model_name": "HTMLModel",
       "_view_count": null,
       "_view_module": "@jupyter-widgets/controls",
       "_view_module_version": "1.5.0",
       "_view_name": "HTMLView",
       "description": "",
       "description_tooltip": null,
       "layout": "IPY_MODEL_1f0ccfae8b6149718b003493228b7742",
       "placeholder": "​",
       "style": "IPY_MODEL_0ba0e4a61d78429b88a113c4736a7e72",
       "value": "Downloading tokenizer.json: 100%"
      }
     },
     "7fceb6f2dc1f4234b5366071be0cff10": {
      "model_module": "@jupyter-widgets/controls",
      "model_module_version": "1.5.0",
      "model_name": "FloatProgressModel",
      "state": {
       "_dom_classes": [],
       "_model_module": "@jupyter-widgets/controls",
       "_model_module_version": "1.5.0",
       "_model_name": "FloatProgressModel",
       "_view_count": null,
       "_view_module": "@jupyter-widgets/controls",
       "_view_module_version": "1.5.0",
       "_view_name": "ProgressView",
       "bar_style": "success",
       "description": "",
       "description_tooltip": null,
       "layout": "IPY_MODEL_626f9b7a945044cb8192630dbe90d14a",
       "max": 483.0,
       "min": 0.0,
       "orientation": "horizontal",
       "style": "IPY_MODEL_fccf1328fd804384bba76688b836b76e",
       "value": 483.0
      }
     },
     "86f49d632bbc49e795f5309aa5324598": {
      "model_module": "@jupyter-widgets/controls",
      "model_module_version": "1.5.0",
      "model_name": "DescriptionStyleModel",
      "state": {
       "_model_module": "@jupyter-widgets/controls",
       "_model_module_version": "1.5.0",
       "_model_name": "DescriptionStyleModel",
       "_view_count": null,
       "_view_module": "@jupyter-widgets/base",
       "_view_module_version": "1.2.0",
       "_view_name": "StyleView",
       "description_width": ""
      }
     },
     "969d65d0e8eb4b0ab4d031585e8ce7f5": {
      "model_module": "@jupyter-widgets/controls",
      "model_module_version": "1.5.0",
      "model_name": "HTMLModel",
      "state": {
       "_dom_classes": [],
       "_model_module": "@jupyter-widgets/controls",
       "_model_module_version": "1.5.0",
       "_model_name": "HTMLModel",
       "_view_count": null,
       "_view_module": "@jupyter-widgets/controls",
       "_view_module_version": "1.5.0",
       "_view_name": "HTMLView",
       "description": "",
       "description_tooltip": null,
       "layout": "IPY_MODEL_b27d26b68a8145fea13cd474daf10188",
       "placeholder": "​",
       "style": "IPY_MODEL_f341561993b8490d8535feb5d6e29cad",
       "value": " 268M/268M [00:01&lt;00:00, 257MB/s]"
      }
     },
     "9a0ae054643049da83e6ed664491271f": {
      "model_module": "@jupyter-widgets/base",
      "model_module_version": "1.2.0",
      "model_name": "LayoutModel",
      "state": {
       "_model_module": "@jupyter-widgets/base",
       "_model_module_version": "1.2.0",
       "_model_name": "LayoutModel",
       "_view_count": null,
       "_view_module": "@jupyter-widgets/base",
       "_view_module_version": "1.2.0",
       "_view_name": "LayoutView",
       "align_content": null,
       "align_items": null,
       "align_self": null,
       "border": null,
       "bottom": null,
       "display": null,
       "flex": null,
       "flex_flow": null,
       "grid_area": null,
       "grid_auto_columns": null,
       "grid_auto_flow": null,
       "grid_auto_rows": null,
       "grid_column": null,
       "grid_gap": null,
       "grid_row": null,
       "grid_template_areas": null,
       "grid_template_columns": null,
       "grid_template_rows": null,
       "height": null,
       "justify_content": null,
       "justify_items": null,
       "left": null,
       "margin": null,
       "max_height": null,
       "max_width": null,
       "min_height": null,
       "min_width": null,
       "object_fit": null,
       "object_position": null,
       "order": null,
       "overflow": null,
       "overflow_x": null,
       "overflow_y": null,
       "padding": null,
       "right": null,
       "top": null,
       "visibility": null,
       "width": null
      }
     },
     "9ceb6dd8e00d4084a6389d085e77ffd3": {
      "model_module": "@jupyter-widgets/base",
      "model_module_version": "1.2.0",
      "model_name": "LayoutModel",
      "state": {
       "_model_module": "@jupyter-widgets/base",
       "_model_module_version": "1.2.0",
       "_model_name": "LayoutModel",
       "_view_count": null,
       "_view_module": "@jupyter-widgets/base",
       "_view_module_version": "1.2.0",
       "_view_name": "LayoutView",
       "align_content": null,
       "align_items": null,
       "align_self": null,
       "border": null,
       "bottom": null,
       "display": null,
       "flex": null,
       "flex_flow": null,
       "grid_area": null,
       "grid_auto_columns": null,
       "grid_auto_flow": null,
       "grid_auto_rows": null,
       "grid_column": null,
       "grid_gap": null,
       "grid_row": null,
       "grid_template_areas": null,
       "grid_template_columns": null,
       "grid_template_rows": null,
       "height": null,
       "justify_content": null,
       "justify_items": null,
       "left": null,
       "margin": null,
       "max_height": null,
       "max_width": null,
       "min_height": null,
       "min_width": null,
       "object_fit": null,
       "object_position": null,
       "order": null,
       "overflow": null,
       "overflow_x": null,
       "overflow_y": null,
       "padding": null,
       "right": null,
       "top": null,
       "visibility": null,
       "width": null
      }
     },
     "9dd99140080a410f9dfdca672f9cc451": {
      "model_module": "@jupyter-widgets/controls",
      "model_module_version": "1.5.0",
      "model_name": "DescriptionStyleModel",
      "state": {
       "_model_module": "@jupyter-widgets/controls",
       "_model_module_version": "1.5.0",
       "_model_name": "DescriptionStyleModel",
       "_view_count": null,
       "_view_module": "@jupyter-widgets/base",
       "_view_module_version": "1.2.0",
       "_view_name": "StyleView",
       "description_width": ""
      }
     },
     "a2a127e58ba54b57b26f939f8ff53e82": {
      "model_module": "@jupyter-widgets/base",
      "model_module_version": "1.2.0",
      "model_name": "LayoutModel",
      "state": {
       "_model_module": "@jupyter-widgets/base",
       "_model_module_version": "1.2.0",
       "_model_name": "LayoutModel",
       "_view_count": null,
       "_view_module": "@jupyter-widgets/base",
       "_view_module_version": "1.2.0",
       "_view_name": "LayoutView",
       "align_content": null,
       "align_items": null,
       "align_self": null,
       "border": null,
       "bottom": null,
       "display": null,
       "flex": null,
       "flex_flow": null,
       "grid_area": null,
       "grid_auto_columns": null,
       "grid_auto_flow": null,
       "grid_auto_rows": null,
       "grid_column": null,
       "grid_gap": null,
       "grid_row": null,
       "grid_template_areas": null,
       "grid_template_columns": null,
       "grid_template_rows": null,
       "height": null,
       "justify_content": null,
       "justify_items": null,
       "left": null,
       "margin": null,
       "max_height": null,
       "max_width": null,
       "min_height": null,
       "min_width": null,
       "object_fit": null,
       "object_position": null,
       "order": null,
       "overflow": null,
       "overflow_x": null,
       "overflow_y": null,
       "padding": null,
       "right": null,
       "top": null,
       "visibility": null,
       "width": null
      }
     },
     "a6dcc4f4fecc4d2e9577d6d8b8dbdc61": {
      "model_module": "@jupyter-widgets/base",
      "model_module_version": "1.2.0",
      "model_name": "LayoutModel",
      "state": {
       "_model_module": "@jupyter-widgets/base",
       "_model_module_version": "1.2.0",
       "_model_name": "LayoutModel",
       "_view_count": null,
       "_view_module": "@jupyter-widgets/base",
       "_view_module_version": "1.2.0",
       "_view_name": "LayoutView",
       "align_content": null,
       "align_items": null,
       "align_self": null,
       "border": null,
       "bottom": null,
       "display": null,
       "flex": null,
       "flex_flow": null,
       "grid_area": null,
       "grid_auto_columns": null,
       "grid_auto_flow": null,
       "grid_auto_rows": null,
       "grid_column": null,
       "grid_gap": null,
       "grid_row": null,
       "grid_template_areas": null,
       "grid_template_columns": null,
       "grid_template_rows": null,
       "height": null,
       "justify_content": null,
       "justify_items": null,
       "left": null,
       "margin": null,
       "max_height": null,
       "max_width": null,
       "min_height": null,
       "min_width": null,
       "object_fit": null,
       "object_position": null,
       "order": null,
       "overflow": null,
       "overflow_x": null,
       "overflow_y": null,
       "padding": null,
       "right": null,
       "top": null,
       "visibility": null,
       "width": null
      }
     },
     "a7397aadb501426a8f6e84f009670981": {
      "model_module": "@jupyter-widgets/controls",
      "model_module_version": "1.5.0",
      "model_name": "ProgressStyleModel",
      "state": {
       "_model_module": "@jupyter-widgets/controls",
       "_model_module_version": "1.5.0",
       "_model_name": "ProgressStyleModel",
       "_view_count": null,
       "_view_module": "@jupyter-widgets/base",
       "_view_module_version": "1.2.0",
       "_view_name": "StyleView",
       "bar_color": null,
       "description_width": ""
      }
     },
     "a963cb7513f64a8faf25f6957708c097": {
      "model_module": "@jupyter-widgets/controls",
      "model_module_version": "1.5.0",
      "model_name": "FloatProgressModel",
      "state": {
       "_dom_classes": [],
       "_model_module": "@jupyter-widgets/controls",
       "_model_module_version": "1.5.0",
       "_model_name": "FloatProgressModel",
       "_view_count": null,
       "_view_module": "@jupyter-widgets/controls",
       "_view_module_version": "1.5.0",
       "_view_name": "ProgressView",
       "bar_style": "success",
       "description": "",
       "description_tooltip": null,
       "layout": "IPY_MODEL_65488350a0f64f3bac0c5d15d1d831e8",
       "max": 267954768.0,
       "min": 0.0,
       "orientation": "horizontal",
       "style": "IPY_MODEL_169e11dd8dd34a50ba1b3969bf0a105d",
       "value": 267954768.0
      }
     },
     "acc8d8565eae4f7cae62fa057c6afacb": {
      "model_module": "@jupyter-widgets/controls",
      "model_module_version": "1.5.0",
      "model_name": "HTMLModel",
      "state": {
       "_dom_classes": [],
       "_model_module": "@jupyter-widgets/controls",
       "_model_module_version": "1.5.0",
       "_model_name": "HTMLModel",
       "_view_count": null,
       "_view_module": "@jupyter-widgets/controls",
       "_view_module_version": "1.5.0",
       "_view_name": "HTMLView",
       "description": "",
       "description_tooltip": null,
       "layout": "IPY_MODEL_a2a127e58ba54b57b26f939f8ff53e82",
       "placeholder": "​",
       "style": "IPY_MODEL_9dd99140080a410f9dfdca672f9cc451",
       "value": " 232k/232k [00:00&lt;00:00, 4.60MB/s]"
      }
     },
     "b27d26b68a8145fea13cd474daf10188": {
      "model_module": "@jupyter-widgets/base",
      "model_module_version": "1.2.0",
      "model_name": "LayoutModel",
      "state": {
       "_model_module": "@jupyter-widgets/base",
       "_model_module_version": "1.2.0",
       "_model_name": "LayoutModel",
       "_view_count": null,
       "_view_module": "@jupyter-widgets/base",
       "_view_module_version": "1.2.0",
       "_view_name": "LayoutView",
       "align_content": null,
       "align_items": null,
       "align_self": null,
       "border": null,
       "bottom": null,
       "display": null,
       "flex": null,
       "flex_flow": null,
       "grid_area": null,
       "grid_auto_columns": null,
       "grid_auto_flow": null,
       "grid_auto_rows": null,
       "grid_column": null,
       "grid_gap": null,
       "grid_row": null,
       "grid_template_areas": null,
       "grid_template_columns": null,
       "grid_template_rows": null,
       "height": null,
       "justify_content": null,
       "justify_items": null,
       "left": null,
       "margin": null,
       "max_height": null,
       "max_width": null,
       "min_height": null,
       "min_width": null,
       "object_fit": null,
       "object_position": null,
       "order": null,
       "overflow": null,
       "overflow_x": null,
       "overflow_y": null,
       "padding": null,
       "right": null,
       "top": null,
       "visibility": null,
       "width": null
      }
     },
     "b2cb6f143c0648599363d4e4a4756810": {
      "model_module": "@jupyter-widgets/controls",
      "model_module_version": "1.5.0",
      "model_name": "HBoxModel",
      "state": {
       "_dom_classes": [],
       "_model_module": "@jupyter-widgets/controls",
       "_model_module_version": "1.5.0",
       "_model_name": "HBoxModel",
       "_view_count": null,
       "_view_module": "@jupyter-widgets/controls",
       "_view_module_version": "1.5.0",
       "_view_name": "HBoxView",
       "box_style": "",
       "children": [
        "IPY_MODEL_c43c396cb48a4ac580b4de1a1b06c223",
        "IPY_MODEL_7fceb6f2dc1f4234b5366071be0cff10",
        "IPY_MODEL_1ea9f956e3cf4f37a0d5d341da3ae90e"
       ],
       "layout": "IPY_MODEL_9ceb6dd8e00d4084a6389d085e77ffd3"
      }
     },
     "b562b301a5ac4cacb5d222aba9abd983": {
      "model_module": "@jupyter-widgets/base",
      "model_module_version": "1.2.0",
      "model_name": "LayoutModel",
      "state": {
       "_model_module": "@jupyter-widgets/base",
       "_model_module_version": "1.2.0",
       "_model_name": "LayoutModel",
       "_view_count": null,
       "_view_module": "@jupyter-widgets/base",
       "_view_module_version": "1.2.0",
       "_view_name": "LayoutView",
       "align_content": null,
       "align_items": null,
       "align_self": null,
       "border": null,
       "bottom": null,
       "display": null,
       "flex": null,
       "flex_flow": null,
       "grid_area": null,
       "grid_auto_columns": null,
       "grid_auto_flow": null,
       "grid_auto_rows": null,
       "grid_column": null,
       "grid_gap": null,
       "grid_row": null,
       "grid_template_areas": null,
       "grid_template_columns": null,
       "grid_template_rows": null,
       "height": null,
       "justify_content": null,
       "justify_items": null,
       "left": null,
       "margin": null,
       "max_height": null,
       "max_width": null,
       "min_height": null,
       "min_width": null,
       "object_fit": null,
       "object_position": null,
       "order": null,
       "overflow": null,
       "overflow_x": null,
       "overflow_y": null,
       "padding": null,
       "right": null,
       "top": null,
       "visibility": null,
       "width": null
      }
     },
     "c22e74f47c2545088726ad8007132ea0": {
      "model_module": "@jupyter-widgets/controls",
      "model_module_version": "1.5.0",
      "model_name": "DescriptionStyleModel",
      "state": {
       "_model_module": "@jupyter-widgets/controls",
       "_model_module_version": "1.5.0",
       "_model_name": "DescriptionStyleModel",
       "_view_count": null,
       "_view_module": "@jupyter-widgets/base",
       "_view_module_version": "1.2.0",
       "_view_name": "StyleView",
       "description_width": ""
      }
     },
     "c2b8667000314ca5bb60dffe03dfd3d3": {
      "model_module": "@jupyter-widgets/base",
      "model_module_version": "1.2.0",
      "model_name": "LayoutModel",
      "state": {
       "_model_module": "@jupyter-widgets/base",
       "_model_module_version": "1.2.0",
       "_model_name": "LayoutModel",
       "_view_count": null,
       "_view_module": "@jupyter-widgets/base",
       "_view_module_version": "1.2.0",
       "_view_name": "LayoutView",
       "align_content": null,
       "align_items": null,
       "align_self": null,
       "border": null,
       "bottom": null,
       "display": null,
       "flex": null,
       "flex_flow": null,
       "grid_area": null,
       "grid_auto_columns": null,
       "grid_auto_flow": null,
       "grid_auto_rows": null,
       "grid_column": null,
       "grid_gap": null,
       "grid_row": null,
       "grid_template_areas": null,
       "grid_template_columns": null,
       "grid_template_rows": null,
       "height": null,
       "justify_content": null,
       "justify_items": null,
       "left": null,
       "margin": null,
       "max_height": null,
       "max_width": null,
       "min_height": null,
       "min_width": null,
       "object_fit": null,
       "object_position": null,
       "order": null,
       "overflow": null,
       "overflow_x": null,
       "overflow_y": null,
       "padding": null,
       "right": null,
       "top": null,
       "visibility": null,
       "width": null
      }
     },
     "c2d7055f6b15443db055deedde290ee0": {
      "model_module": "@jupyter-widgets/controls",
      "model_module_version": "1.5.0",
      "model_name": "HBoxModel",
      "state": {
       "_dom_classes": [],
       "_model_module": "@jupyter-widgets/controls",
       "_model_module_version": "1.5.0",
       "_model_name": "HBoxModel",
       "_view_count": null,
       "_view_module": "@jupyter-widgets/controls",
       "_view_module_version": "1.5.0",
       "_view_name": "HBoxView",
       "box_style": "",
       "children": [
        "IPY_MODEL_7a19650d099e4c5baf9818f97f056bfb",
        "IPY_MODEL_434af42e57e143f495e0533ef6d5c444",
        "IPY_MODEL_4f6112dae9404aa484ca363a8ac26bd0"
       ],
       "layout": "IPY_MODEL_df65ada2523141a98ac0b5d448d80c4a"
      }
     },
     "c420033e42c34ae688f76111bf61fc26": {
      "model_module": "@jupyter-widgets/controls",
      "model_module_version": "1.5.0",
      "model_name": "HTMLModel",
      "state": {
       "_dom_classes": [],
       "_model_module": "@jupyter-widgets/controls",
       "_model_module_version": "1.5.0",
       "_model_name": "HTMLModel",
       "_view_count": null,
       "_view_module": "@jupyter-widgets/controls",
       "_view_module_version": "1.5.0",
       "_view_name": "HTMLView",
       "description": "",
       "description_tooltip": null,
       "layout": "IPY_MODEL_e04726f9d1a149b4a8c4cbebc750cba8",
       "placeholder": "​",
       "style": "IPY_MODEL_cb90219ad7974bb59078c38b789b0925",
       "value": "Downloading tokenizer_config.json: 100%"
      }
     },
     "c43c396cb48a4ac580b4de1a1b06c223": {
      "model_module": "@jupyter-widgets/controls",
      "model_module_version": "1.5.0",
      "model_name": "HTMLModel",
      "state": {
       "_dom_classes": [],
       "_model_module": "@jupyter-widgets/controls",
       "_model_module_version": "1.5.0",
       "_model_name": "HTMLModel",
       "_view_count": null,
       "_view_module": "@jupyter-widgets/controls",
       "_view_module_version": "1.5.0",
       "_view_name": "HTMLView",
       "description": "",
       "description_tooltip": null,
       "layout": "IPY_MODEL_b562b301a5ac4cacb5d222aba9abd983",
       "placeholder": "​",
       "style": "IPY_MODEL_86f49d632bbc49e795f5309aa5324598",
       "value": "Downloading config.json: 100%"
      }
     },
     "c881f4c7aad84cbf8e4d8ea3927d5421": {
      "model_module": "@jupyter-widgets/base",
      "model_module_version": "1.2.0",
      "model_name": "LayoutModel",
      "state": {
       "_model_module": "@jupyter-widgets/base",
       "_model_module_version": "1.2.0",
       "_model_name": "LayoutModel",
       "_view_count": null,
       "_view_module": "@jupyter-widgets/base",
       "_view_module_version": "1.2.0",
       "_view_name": "LayoutView",
       "align_content": null,
       "align_items": null,
       "align_self": null,
       "border": null,
       "bottom": null,
       "display": null,
       "flex": null,
       "flex_flow": null,
       "grid_area": null,
       "grid_auto_columns": null,
       "grid_auto_flow": null,
       "grid_auto_rows": null,
       "grid_column": null,
       "grid_gap": null,
       "grid_row": null,
       "grid_template_areas": null,
       "grid_template_columns": null,
       "grid_template_rows": null,
       "height": null,
       "justify_content": null,
       "justify_items": null,
       "left": null,
       "margin": null,
       "max_height": null,
       "max_width": null,
       "min_height": null,
       "min_width": null,
       "object_fit": null,
       "object_position": null,
       "order": null,
       "overflow": null,
       "overflow_x": null,
       "overflow_y": null,
       "padding": null,
       "right": null,
       "top": null,
       "visibility": null,
       "width": null
      }
     },
     "cb90219ad7974bb59078c38b789b0925": {
      "model_module": "@jupyter-widgets/controls",
      "model_module_version": "1.5.0",
      "model_name": "DescriptionStyleModel",
      "state": {
       "_model_module": "@jupyter-widgets/controls",
       "_model_module_version": "1.5.0",
       "_model_name": "DescriptionStyleModel",
       "_view_count": null,
       "_view_module": "@jupyter-widgets/base",
       "_view_module_version": "1.2.0",
       "_view_name": "StyleView",
       "description_width": ""
      }
     },
     "cd013ce57cb74916abd043c56d09c399": {
      "model_module": "@jupyter-widgets/controls",
      "model_module_version": "1.5.0",
      "model_name": "DescriptionStyleModel",
      "state": {
       "_model_module": "@jupyter-widgets/controls",
       "_model_module_version": "1.5.0",
       "_model_name": "DescriptionStyleModel",
       "_view_count": null,
       "_view_module": "@jupyter-widgets/base",
       "_view_module_version": "1.2.0",
       "_view_name": "StyleView",
       "description_width": ""
      }
     },
     "db2d6ad546ab40d6a4c4590a3793d598": {
      "model_module": "@jupyter-widgets/controls",
      "model_module_version": "1.5.0",
      "model_name": "HBoxModel",
      "state": {
       "_dom_classes": [],
       "_model_module": "@jupyter-widgets/controls",
       "_model_module_version": "1.5.0",
       "_model_name": "HBoxModel",
       "_view_count": null,
       "_view_module": "@jupyter-widgets/controls",
       "_view_module_version": "1.5.0",
       "_view_name": "HBoxView",
       "box_style": "",
       "children": [
        "IPY_MODEL_f65873ac1eea432cbaf3b673a2621fb0",
        "IPY_MODEL_344f9d71a323420fa0e1b8050b97ffed",
        "IPY_MODEL_acc8d8565eae4f7cae62fa057c6afacb"
       ],
       "layout": "IPY_MODEL_30b033e12ec14b79b0e8827de44271f4"
      }
     },
     "df65ada2523141a98ac0b5d448d80c4a": {
      "model_module": "@jupyter-widgets/base",
      "model_module_version": "1.2.0",
      "model_name": "LayoutModel",
      "state": {
       "_model_module": "@jupyter-widgets/base",
       "_model_module_version": "1.2.0",
       "_model_name": "LayoutModel",
       "_view_count": null,
       "_view_module": "@jupyter-widgets/base",
       "_view_module_version": "1.2.0",
       "_view_name": "LayoutView",
       "align_content": null,
       "align_items": null,
       "align_self": null,
       "border": null,
       "bottom": null,
       "display": null,
       "flex": null,
       "flex_flow": null,
       "grid_area": null,
       "grid_auto_columns": null,
       "grid_auto_flow": null,
       "grid_auto_rows": null,
       "grid_column": null,
       "grid_gap": null,
       "grid_row": null,
       "grid_template_areas": null,
       "grid_template_columns": null,
       "grid_template_rows": null,
       "height": null,
       "justify_content": null,
       "justify_items": null,
       "left": null,
       "margin": null,
       "max_height": null,
       "max_width": null,
       "min_height": null,
       "min_width": null,
       "object_fit": null,
       "object_position": null,
       "order": null,
       "overflow": null,
       "overflow_x": null,
       "overflow_y": null,
       "padding": null,
       "right": null,
       "top": null,
       "visibility": null,
       "width": null
      }
     },
     "e04726f9d1a149b4a8c4cbebc750cba8": {
      "model_module": "@jupyter-widgets/base",
      "model_module_version": "1.2.0",
      "model_name": "LayoutModel",
      "state": {
       "_model_module": "@jupyter-widgets/base",
       "_model_module_version": "1.2.0",
       "_model_name": "LayoutModel",
       "_view_count": null,
       "_view_module": "@jupyter-widgets/base",
       "_view_module_version": "1.2.0",
       "_view_name": "LayoutView",
       "align_content": null,
       "align_items": null,
       "align_self": null,
       "border": null,
       "bottom": null,
       "display": null,
       "flex": null,
       "flex_flow": null,
       "grid_area": null,
       "grid_auto_columns": null,
       "grid_auto_flow": null,
       "grid_auto_rows": null,
       "grid_column": null,
       "grid_gap": null,
       "grid_row": null,
       "grid_template_areas": null,
       "grid_template_columns": null,
       "grid_template_rows": null,
       "height": null,
       "justify_content": null,
       "justify_items": null,
       "left": null,
       "margin": null,
       "max_height": null,
       "max_width": null,
       "min_height": null,
       "min_width": null,
       "object_fit": null,
       "object_position": null,
       "order": null,
       "overflow": null,
       "overflow_x": null,
       "overflow_y": null,
       "padding": null,
       "right": null,
       "top": null,
       "visibility": null,
       "width": null
      }
     },
     "ec30112aa4564b93887c0c951c810653": {
      "model_module": "@jupyter-widgets/base",
      "model_module_version": "1.2.0",
      "model_name": "LayoutModel",
      "state": {
       "_model_module": "@jupyter-widgets/base",
       "_model_module_version": "1.2.0",
       "_model_name": "LayoutModel",
       "_view_count": null,
       "_view_module": "@jupyter-widgets/base",
       "_view_module_version": "1.2.0",
       "_view_name": "LayoutView",
       "align_content": null,
       "align_items": null,
       "align_self": null,
       "border": null,
       "bottom": null,
       "display": null,
       "flex": null,
       "flex_flow": null,
       "grid_area": null,
       "grid_auto_columns": null,
       "grid_auto_flow": null,
       "grid_auto_rows": null,
       "grid_column": null,
       "grid_gap": null,
       "grid_row": null,
       "grid_template_areas": null,
       "grid_template_columns": null,
       "grid_template_rows": null,
       "height": null,
       "justify_content": null,
       "justify_items": null,
       "left": null,
       "margin": null,
       "max_height": null,
       "max_width": null,
       "min_height": null,
       "min_width": null,
       "object_fit": null,
       "object_position": null,
       "order": null,
       "overflow": null,
       "overflow_x": null,
       "overflow_y": null,
       "padding": null,
       "right": null,
       "top": null,
       "visibility": null,
       "width": null
      }
     },
     "f341561993b8490d8535feb5d6e29cad": {
      "model_module": "@jupyter-widgets/controls",
      "model_module_version": "1.5.0",
      "model_name": "DescriptionStyleModel",
      "state": {
       "_model_module": "@jupyter-widgets/controls",
       "_model_module_version": "1.5.0",
       "_model_name": "DescriptionStyleModel",
       "_view_count": null,
       "_view_module": "@jupyter-widgets/base",
       "_view_module_version": "1.2.0",
       "_view_name": "StyleView",
       "description_width": ""
      }
     },
     "f65873ac1eea432cbaf3b673a2621fb0": {
      "model_module": "@jupyter-widgets/controls",
      "model_module_version": "1.5.0",
      "model_name": "HTMLModel",
      "state": {
       "_dom_classes": [],
       "_model_module": "@jupyter-widgets/controls",
       "_model_module_version": "1.5.0",
       "_model_name": "HTMLModel",
       "_view_count": null,
       "_view_module": "@jupyter-widgets/controls",
       "_view_module_version": "1.5.0",
       "_view_name": "HTMLView",
       "description": "",
       "description_tooltip": null,
       "layout": "IPY_MODEL_a6dcc4f4fecc4d2e9577d6d8b8dbdc61",
       "placeholder": "​",
       "style": "IPY_MODEL_cd013ce57cb74916abd043c56d09c399",
       "value": "Downloading vocab.txt: 100%"
      }
     },
     "fccf1328fd804384bba76688b836b76e": {
      "model_module": "@jupyter-widgets/controls",
      "model_module_version": "1.5.0",
      "model_name": "ProgressStyleModel",
      "state": {
       "_model_module": "@jupyter-widgets/controls",
       "_model_module_version": "1.5.0",
       "_model_name": "ProgressStyleModel",
       "_view_count": null,
       "_view_module": "@jupyter-widgets/base",
       "_view_module_version": "1.2.0",
       "_view_name": "StyleView",
       "bar_color": null,
       "description_width": ""
      }
     },
     "fe4f15f963e94e15a131b9988de2e53c": {
      "model_module": "@jupyter-widgets/controls",
      "model_module_version": "1.5.0",
      "model_name": "DescriptionStyleModel",
      "state": {
       "_model_module": "@jupyter-widgets/controls",
       "_model_module_version": "1.5.0",
       "_model_name": "DescriptionStyleModel",
       "_view_count": null,
       "_view_module": "@jupyter-widgets/base",
       "_view_module_version": "1.2.0",
       "_view_name": "StyleView",
       "description_width": ""
      }
     },
     "ff05dc5db8da4a018a5c14a89c8c9ab0": {
      "model_module": "@jupyter-widgets/base",
      "model_module_version": "1.2.0",
      "model_name": "LayoutModel",
      "state": {
       "_model_module": "@jupyter-widgets/base",
       "_model_module_version": "1.2.0",
       "_model_name": "LayoutModel",
       "_view_count": null,
       "_view_module": "@jupyter-widgets/base",
       "_view_module_version": "1.2.0",
       "_view_name": "LayoutView",
       "align_content": null,
       "align_items": null,
       "align_self": null,
       "border": null,
       "bottom": null,
       "display": null,
       "flex": null,
       "flex_flow": null,
       "grid_area": null,
       "grid_auto_columns": null,
       "grid_auto_flow": null,
       "grid_auto_rows": null,
       "grid_column": null,
       "grid_gap": null,
       "grid_row": null,
       "grid_template_areas": null,
       "grid_template_columns": null,
       "grid_template_rows": null,
       "height": null,
       "justify_content": null,
       "justify_items": null,
       "left": null,
       "margin": null,
       "max_height": null,
       "max_width": null,
       "min_height": null,
       "min_width": null,
       "object_fit": null,
       "object_position": null,
       "order": null,
       "overflow": null,
       "overflow_x": null,
       "overflow_y": null,
       "padding": null,
       "right": null,
       "top": null,
       "visibility": null,
       "width": null
      }
     }
    },
    "version_major": 2,
    "version_minor": 0
   }
  }
 },
 "nbformat": 4,
 "nbformat_minor": 5
}
