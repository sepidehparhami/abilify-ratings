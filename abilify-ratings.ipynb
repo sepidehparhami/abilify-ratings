{
 "cells": [
  {
   "cell_type": "code",
   "execution_count": 1,
   "id": "ad1d2213",
   "metadata": {
    "execution": {
     "iopub.execute_input": "2023-10-15T17:26:01.180108Z",
     "iopub.status.busy": "2023-10-15T17:26:01.179786Z",
     "iopub.status.idle": "2023-10-15T17:26:01.184166Z",
     "shell.execute_reply": "2023-10-15T17:26:01.183364Z"
    },
    "papermill": {
     "duration": 0.011563,
     "end_time": "2023-10-15T17:26:01.185756",
     "exception": false,
     "start_time": "2023-10-15T17:26:01.174193",
     "status": "completed"
    },
    "tags": []
   },
   "outputs": [],
   "source": [
    "# https://www.kaggle.com/datasets/joyshil0599/abilify-oral-reviews-dataset"
   ]
  },
  {
   "cell_type": "code",
   "execution_count": 2,
   "id": "7babf281",
   "metadata": {
    "_cell_guid": "b1076dfc-b9ad-4769-8c92-a6c4dae69d19",
    "_uuid": "8f2839f25d086af736a60e9eeb907d3b93b6e0e5",
    "execution": {
     "iopub.execute_input": "2023-10-15T17:26:01.195140Z",
     "iopub.status.busy": "2023-10-15T17:26:01.194360Z",
     "iopub.status.idle": "2023-10-15T17:26:22.563692Z",
     "shell.execute_reply": "2023-10-15T17:26:22.562844Z"
    },
    "papermill": {
     "duration": 21.376165,
     "end_time": "2023-10-15T17:26:22.565993",
     "exception": false,
     "start_time": "2023-10-15T17:26:01.189828",
     "status": "completed"
    },
    "tags": []
   },
   "outputs": [
    {
     "name": "stderr",
     "output_type": "stream",
     "text": [
      "/opt/conda/lib/python3.10/site-packages/scipy/__init__.py:146: UserWarning: A NumPy version >=1.16.5 and <1.23.0 is required for this version of SciPy (detected version 1.23.5\n",
      "  warnings.warn(f\"A NumPy version >={np_minversion} and <{np_maxversion}\"\n"
     ]
    }
   ],
   "source": [
    "import numpy as np\n",
    "import pandas as pd\n",
    "import matplotlib.pyplot as plt\n",
    "import seaborn as sns\n",
    "import nltk\n",
    "import tensorflow as tf\n",
    "import gensim"
   ]
  },
  {
   "cell_type": "code",
   "execution_count": 3,
   "id": "a1e44c9f",
   "metadata": {
    "execution": {
     "iopub.execute_input": "2023-10-15T17:26:22.575586Z",
     "iopub.status.busy": "2023-10-15T17:26:22.575107Z",
     "iopub.status.idle": "2023-10-15T17:26:24.206995Z",
     "shell.execute_reply": "2023-10-15T17:26:24.205829Z"
    },
    "papermill": {
     "duration": 1.638713,
     "end_time": "2023-10-15T17:26:24.208946",
     "exception": false,
     "start_time": "2023-10-15T17:26:22.570233",
     "status": "completed"
    },
    "tags": []
   },
   "outputs": [
    {
     "name": "stdout",
     "output_type": "stream",
     "text": [
      "[nltk_data] Downloading package wordnet to /usr/share/nltk_data...\n",
      "[nltk_data]   Package wordnet is already up-to-date!\n",
      "Archive:  /usr/share/nltk_data/corpora/wordnet.zip\r\n",
      "   creating: /usr/share/nltk_data/corpora/wordnet/\r\n",
      "  inflating: /usr/share/nltk_data/corpora/wordnet/lexnames  \r\n",
      "  inflating: /usr/share/nltk_data/corpora/wordnet/data.verb  \r\n",
      "  inflating: /usr/share/nltk_data/corpora/wordnet/index.adv  \r\n",
      "  inflating: /usr/share/nltk_data/corpora/wordnet/adv.exc  \r\n",
      "  inflating: /usr/share/nltk_data/corpora/wordnet/index.verb  \r\n",
      "  inflating: /usr/share/nltk_data/corpora/wordnet/cntlist.rev  \r\n",
      "  inflating: /usr/share/nltk_data/corpora/wordnet/data.adj  \r\n",
      "  inflating: /usr/share/nltk_data/corpora/wordnet/index.adj  \r\n",
      "  inflating: /usr/share/nltk_data/corpora/wordnet/LICENSE  \r\n",
      "  inflating: /usr/share/nltk_data/corpora/wordnet/citation.bib  \r\n",
      "  inflating: /usr/share/nltk_data/corpora/wordnet/noun.exc  \r\n",
      "  inflating: /usr/share/nltk_data/corpora/wordnet/verb.exc  \r\n",
      "  inflating: /usr/share/nltk_data/corpora/wordnet/README  \r\n",
      "  inflating: /usr/share/nltk_data/corpora/wordnet/index.sense  \r\n",
      "  inflating: /usr/share/nltk_data/corpora/wordnet/data.noun  \r\n",
      "  inflating: /usr/share/nltk_data/corpora/wordnet/data.adv  \r\n",
      "  inflating: /usr/share/nltk_data/corpora/wordnet/index.noun  \r\n",
      "  inflating: /usr/share/nltk_data/corpora/wordnet/adj.exc  \r\n"
     ]
    }
   ],
   "source": [
    "nltk.download('wordnet')\n",
    "!unzip /usr/share/nltk_data/corpora/wordnet.zip -d /usr/share/nltk_data/corpora/"
   ]
  },
  {
   "cell_type": "code",
   "execution_count": 4,
   "id": "7da42f39",
   "metadata": {
    "execution": {
     "iopub.execute_input": "2023-10-15T17:26:24.219179Z",
     "iopub.status.busy": "2023-10-15T17:26:24.218702Z",
     "iopub.status.idle": "2023-10-15T17:26:24.274783Z",
     "shell.execute_reply": "2023-10-15T17:26:24.273866Z"
    },
    "papermill": {
     "duration": 0.06331,
     "end_time": "2023-10-15T17:26:24.276638",
     "exception": false,
     "start_time": "2023-10-15T17:26:24.213328",
     "status": "completed"
    },
    "tags": []
   },
   "outputs": [
    {
     "data": {
      "text/html": [
       "<div>\n",
       "<style scoped>\n",
       "    .dataframe tbody tr th:only-of-type {\n",
       "        vertical-align: middle;\n",
       "    }\n",
       "\n",
       "    .dataframe tbody tr th {\n",
       "        vertical-align: top;\n",
       "    }\n",
       "\n",
       "    .dataframe thead th {\n",
       "        text-align: right;\n",
       "    }\n",
       "</style>\n",
       "<table border=\"1\" class=\"dataframe\">\n",
       "  <thead>\n",
       "    <tr style=\"text-align: right;\">\n",
       "      <th></th>\n",
       "      <th>Time of Meditation</th>\n",
       "      <th>Suspect name</th>\n",
       "      <th>Age</th>\n",
       "      <th>Gender</th>\n",
       "      <th>Suspect Status</th>\n",
       "      <th>Date</th>\n",
       "      <th>Condition</th>\n",
       "      <th>overall-rating</th>\n",
       "      <th>description-text</th>\n",
       "    </tr>\n",
       "  </thead>\n",
       "  <tbody>\n",
       "    <tr>\n",
       "      <th>0</th>\n",
       "      <td>2 to less than 5 years</td>\n",
       "      <td>Barbara</td>\n",
       "      <td>65-74</td>\n",
       "      <td>Female</td>\n",
       "      <td>Patient</td>\n",
       "      <td>2/13/2023</td>\n",
       "      <td>Bipolar Disorder in Remission</td>\n",
       "      <td>5.0</td>\n",
       "      <td>I've taken Abilify to augment bupropion for Bi...</td>\n",
       "    </tr>\n",
       "    <tr>\n",
       "      <th>1</th>\n",
       "      <td>1 to 6 months</td>\n",
       "      <td>Matt</td>\n",
       "      <td>35-44</td>\n",
       "      <td>Male</td>\n",
       "      <td>Patient</td>\n",
       "      <td>2/9/2023</td>\n",
       "      <td>Schizophrenia</td>\n",
       "      <td>2.0</td>\n",
       "      <td>Worked for 3 months. Waste of time. You think ...</td>\n",
       "    </tr>\n",
       "    <tr>\n",
       "      <th>2</th>\n",
       "      <td>1 to 6 months</td>\n",
       "      <td>Alex Adams</td>\n",
       "      <td>25-34</td>\n",
       "      <td>Male</td>\n",
       "      <td>Patient</td>\n",
       "      <td>1/5/2023</td>\n",
       "      <td>Schizophrenia</td>\n",
       "      <td>2.3</td>\n",
       "      <td>Worked really well for like 2 months then I go...</td>\n",
       "    </tr>\n",
       "    <tr>\n",
       "      <th>3</th>\n",
       "      <td>1 to less than 2 years</td>\n",
       "      <td>Jill</td>\n",
       "      <td>35-44</td>\n",
       "      <td>Female</td>\n",
       "      <td>Patient</td>\n",
       "      <td>12/28/2022</td>\n",
       "      <td>Additional Medications to Treat Depression</td>\n",
       "      <td>1.0</td>\n",
       "      <td>This is the worst drug on the market. It cause...</td>\n",
       "    </tr>\n",
       "    <tr>\n",
       "      <th>4</th>\n",
       "      <td>1 to 6 months</td>\n",
       "      <td>Anonymous</td>\n",
       "      <td>45-54</td>\n",
       "      <td>Female</td>\n",
       "      <td>Patient</td>\n",
       "      <td>12/7/2022</td>\n",
       "      <td>Additional Medications to Treat Depression</td>\n",
       "      <td>2.0</td>\n",
       "      <td>I was prescribed as a child at 15 years old. I...</td>\n",
       "    </tr>\n",
       "  </tbody>\n",
       "</table>\n",
       "</div>"
      ],
      "text/plain": [
       "                 Time of Meditation     Suspect name        Age       Gender  \\\n",
       "0       2 to less than 5 years          Barbara       65-74      Female        \n",
       "1                1 to 6 months             Matt       35-44        Male        \n",
       "2                1 to 6 months       Alex Adams       25-34        Male        \n",
       "3       1 to less than 2 years            Jill        35-44      Female        \n",
       "4                1 to 6 months        Anonymous       45-54      Female        \n",
       "\n",
       "  Suspect Status        Date                                        Condition  \\\n",
       "0        Patient   2/13/2023                    Bipolar Disorder in Remission   \n",
       "1        Patient    2/9/2023                                    Schizophrenia   \n",
       "2        Patient    1/5/2023                                    Schizophrenia   \n",
       "3        Patient  12/28/2022       Additional Medications to Treat Depression   \n",
       "4        Patient   12/7/2022       Additional Medications to Treat Depression   \n",
       "\n",
       "   overall-rating                                   description-text  \n",
       "0             5.0  I've taken Abilify to augment bupropion for Bi...  \n",
       "1             2.0  Worked for 3 months. Waste of time. You think ...  \n",
       "2             2.3  Worked really well for like 2 months then I go...  \n",
       "3             1.0  This is the worst drug on the market. It cause...  \n",
       "4             2.0  I was prescribed as a child at 15 years old. I...  "
      ]
     },
     "execution_count": 4,
     "metadata": {},
     "output_type": "execute_result"
    }
   ],
   "source": [
    "corpus = pd.read_csv('/kaggle/input/abilify-oral-reviews-dataset/abilify_ora_effected_peple_reviewl.csv', encoding_errors='replace') # use replacement character for characters not in UTF-8\n",
    "corpus.head(5)"
   ]
  },
  {
   "cell_type": "code",
   "execution_count": 5,
   "id": "bdeaf40d",
   "metadata": {
    "execution": {
     "iopub.execute_input": "2023-10-15T17:26:24.287139Z",
     "iopub.status.busy": "2023-10-15T17:26:24.286896Z",
     "iopub.status.idle": "2023-10-15T17:26:24.303575Z",
     "shell.execute_reply": "2023-10-15T17:26:24.302695Z"
    },
    "papermill": {
     "duration": 0.024066,
     "end_time": "2023-10-15T17:26:24.305296",
     "exception": false,
     "start_time": "2023-10-15T17:26:24.281230",
     "status": "completed"
    },
    "tags": []
   },
   "outputs": [
    {
     "name": "stdout",
     "output_type": "stream",
     "text": [
      "1835\n"
     ]
    },
    {
     "data": {
      "text/html": [
       "<div>\n",
       "<style scoped>\n",
       "    .dataframe tbody tr th:only-of-type {\n",
       "        vertical-align: middle;\n",
       "    }\n",
       "\n",
       "    .dataframe tbody tr th {\n",
       "        vertical-align: top;\n",
       "    }\n",
       "\n",
       "    .dataframe thead th {\n",
       "        text-align: right;\n",
       "    }\n",
       "</style>\n",
       "<table border=\"1\" class=\"dataframe\">\n",
       "  <thead>\n",
       "    <tr style=\"text-align: right;\">\n",
       "      <th></th>\n",
       "      <th>overall-rating</th>\n",
       "      <th>description-text</th>\n",
       "    </tr>\n",
       "  </thead>\n",
       "  <tbody>\n",
       "    <tr>\n",
       "      <th>0</th>\n",
       "      <td>5.0</td>\n",
       "      <td>I've taken Abilify to augment bupropion for Bi...</td>\n",
       "    </tr>\n",
       "    <tr>\n",
       "      <th>1</th>\n",
       "      <td>2.0</td>\n",
       "      <td>Worked for 3 months. Waste of time. You think ...</td>\n",
       "    </tr>\n",
       "    <tr>\n",
       "      <th>2</th>\n",
       "      <td>2.3</td>\n",
       "      <td>Worked really well for like 2 months then I go...</td>\n",
       "    </tr>\n",
       "    <tr>\n",
       "      <th>3</th>\n",
       "      <td>1.0</td>\n",
       "      <td>This is the worst drug on the market. It cause...</td>\n",
       "    </tr>\n",
       "    <tr>\n",
       "      <th>4</th>\n",
       "      <td>2.0</td>\n",
       "      <td>I was prescribed as a child at 15 years old. I...</td>\n",
       "    </tr>\n",
       "  </tbody>\n",
       "</table>\n",
       "</div>"
      ],
      "text/plain": [
       "   overall-rating                                   description-text\n",
       "0             5.0  I've taken Abilify to augment bupropion for Bi...\n",
       "1             2.0  Worked for 3 months. Waste of time. You think ...\n",
       "2             2.3  Worked really well for like 2 months then I go...\n",
       "3             1.0  This is the worst drug on the market. It cause...\n",
       "4             2.0  I was prescribed as a child at 15 years old. I..."
      ]
     },
     "execution_count": 5,
     "metadata": {},
     "output_type": "execute_result"
    }
   ],
   "source": [
    "corpus = corpus[['overall-rating', 'description-text']]\n",
    "print(len(corpus))\n",
    "corpus.head(5)"
   ]
  },
  {
   "cell_type": "code",
   "execution_count": 6,
   "id": "355431e3",
   "metadata": {
    "execution": {
     "iopub.execute_input": "2023-10-15T17:26:24.316044Z",
     "iopub.status.busy": "2023-10-15T17:26:24.315480Z",
     "iopub.status.idle": "2023-10-15T17:26:24.321430Z",
     "shell.execute_reply": "2023-10-15T17:26:24.320613Z"
    },
    "papermill": {
     "duration": 0.01322,
     "end_time": "2023-10-15T17:26:24.323251",
     "exception": false,
     "start_time": "2023-10-15T17:26:24.310031",
     "status": "completed"
    },
    "tags": []
   },
   "outputs": [
    {
     "name": "stdout",
     "output_type": "stream",
     "text": [
      "1540\n"
     ]
    }
   ],
   "source": [
    "corpus = corpus.dropna(axis=0)\n",
    "print(len(corpus))"
   ]
  },
  {
   "cell_type": "code",
   "execution_count": 7,
   "id": "64312bd0",
   "metadata": {
    "execution": {
     "iopub.execute_input": "2023-10-15T17:26:24.334048Z",
     "iopub.status.busy": "2023-10-15T17:26:24.333362Z",
     "iopub.status.idle": "2023-10-15T17:26:24.754482Z",
     "shell.execute_reply": "2023-10-15T17:26:24.753597Z"
    },
    "papermill": {
     "duration": 0.428336,
     "end_time": "2023-10-15T17:26:24.756484",
     "exception": false,
     "start_time": "2023-10-15T17:26:24.328148",
     "status": "completed"
    },
    "tags": []
   },
   "outputs": [
    {
     "name": "stderr",
     "output_type": "stream",
     "text": [
      "/opt/conda/lib/python3.10/site-packages/seaborn/axisgrid.py:118: UserWarning: The figure layout has changed to tight\n",
      "  self._figure.tight_layout(*args, **kwargs)\n"
     ]
    },
    {
     "data": {
      "text/plain": [
       "<seaborn.axisgrid.FacetGrid at 0x7e6683512200>"
      ]
     },
     "execution_count": 7,
     "metadata": {},
     "output_type": "execute_result"
    },
    {
     "data": {
      "image/png": "[encoded data removed]",
      "text/plain": [
       "<Figure size 500x500 with 1 Axes>"
      ]
     },
     "metadata": {},
     "output_type": "display_data"
    }
   ],
   "source": [
    "# fix histogram ticks\n",
    "sns.displot(corpus, x='overall-rating', bins=15)"
   ]
  },
  {
   "cell_type": "code",
   "execution_count": 8,
   "id": "c1c0d22f",
   "metadata": {
    "execution": {
     "iopub.execute_input": "2023-10-15T17:26:24.768124Z",
     "iopub.status.busy": "2023-10-15T17:26:24.767865Z",
     "iopub.status.idle": "2023-10-15T17:26:25.000753Z",
     "shell.execute_reply": "2023-10-15T17:26:24.999518Z"
    },
    "papermill": {
     "duration": 0.242079,
     "end_time": "2023-10-15T17:26:25.003954",
     "exception": false,
     "start_time": "2023-10-15T17:26:24.761875",
     "status": "completed"
    },
    "tags": []
   },
   "outputs": [
    {
     "data": {
      "text/plain": [
       "<Axes: xlabel='rating_rounded', ylabel='count'>"
      ]
     },
     "execution_count": 8,
     "metadata": {},
     "output_type": "execute_result"
    },
    {
     "data": {
      "image/png": "[encoded data removed]",
      "text/plain": [
       "<Figure size 640x480 with 1 Axes>"
      ]
     },
     "metadata": {},
     "output_type": "display_data"
    }
   ],
   "source": [
    "corpus['rating_rounded'] = corpus['overall-rating'].round().astype(int)\n",
    "sns.countplot(corpus, x='rating_rounded')"
   ]
  },
  {
   "cell_type": "code",
   "execution_count": 9,
   "id": "4228a368",
   "metadata": {
    "execution": {
     "iopub.execute_input": "2023-10-15T17:26:25.028406Z",
     "iopub.status.busy": "2023-10-15T17:26:25.027970Z",
     "iopub.status.idle": "2023-10-15T17:26:25.032202Z",
     "shell.execute_reply": "2023-10-15T17:26:25.031319Z"
    },
    "papermill": {
     "duration": 0.020996,
     "end_time": "2023-10-15T17:26:25.033852",
     "exception": false,
     "start_time": "2023-10-15T17:26:25.012856",
     "status": "completed"
    },
    "tags": []
   },
   "outputs": [],
   "source": [
    "# https://geeksforgeeks.org/python-word-embedding-using-word2vec/\n",
    "# https://spotintelligence.com/2022/12/21/nltk-preprocessing-pipeline/"
   ]
  },
  {
   "cell_type": "code",
   "execution_count": 10,
   "id": "6673293d",
   "metadata": {
    "execution": {
     "iopub.execute_input": "2023-10-15T17:26:25.045771Z",
     "iopub.status.busy": "2023-10-15T17:26:25.045509Z",
     "iopub.status.idle": "2023-10-15T17:26:25.057088Z",
     "shell.execute_reply": "2023-10-15T17:26:25.056302Z"
    },
    "papermill": {
     "duration": 0.01965,
     "end_time": "2023-10-15T17:26:25.058737",
     "exception": false,
     "start_time": "2023-10-15T17:26:25.039087",
     "status": "completed"
    },
    "tags": []
   },
   "outputs": [],
   "source": [
    "# make into sklearn pipeline\n",
    "\n",
    "from nltk.tokenize import word_tokenize\n",
    "from nltk.stem import WordNetLemmatizer\n",
    "import string\n",
    "\n",
    "stopwords = nltk.corpus.stopwords.words('english')\n",
    "lemmatizer = WordNetLemmatizer()\n",
    "\n",
    "# add spell checking\n",
    "def preprocess_text(text):\n",
    "    tokens = word_tokenize(text)\n",
    "    tokens_lower = [token.lower() for token in tokens]\n",
    "    tokens_no_punct = [token for token in tokens_lower if token not in string.punctuation]\n",
    "    tokens_no_stopwords = [token for token in tokens_no_punct if token not in stopwords]\n",
    "    tokens_lemmatized = [lemmatizer.lemmatize(token) for token in tokens_no_stopwords]\n",
    "    sentence = ' '.join(tokens_lemmatized)\n",
    "    return sentence"
   ]
  },
  {
   "cell_type": "code",
   "execution_count": 11,
   "id": "80f57275",
   "metadata": {
    "execution": {
     "iopub.execute_input": "2023-10-15T17:26:25.070334Z",
     "iopub.status.busy": "2023-10-15T17:26:25.070094Z",
     "iopub.status.idle": "2023-10-15T17:26:27.025009Z",
     "shell.execute_reply": "2023-10-15T17:26:27.024053Z"
    },
    "papermill": {
     "duration": 1.963103,
     "end_time": "2023-10-15T17:26:27.027037",
     "exception": false,
     "start_time": "2023-10-15T17:26:25.063934",
     "status": "completed"
    },
    "tags": []
   },
   "outputs": [
    {
     "data": {
      "text/plain": [
       "0    've taken abilify augment bupropion bipolar di...\n",
       "1    worked 3 month waste time think better 's like...\n",
       "2    worked really well like 2 month got restlessne...\n",
       "3    worst drug market caused gain 50 pound develop...\n",
       "4    prescribed child 15 year old caused muscle spa...\n",
       "Name: text_preprocessed, dtype: object"
      ]
     },
     "execution_count": 11,
     "metadata": {},
     "output_type": "execute_result"
    }
   ],
   "source": [
    "corpus['text_preprocessed'] = corpus['description-text'].apply(preprocess_text)\n",
    "corpus['text_preprocessed'].head(5)"
   ]
  },
  {
   "cell_type": "code",
   "execution_count": 12,
   "id": "b772b612",
   "metadata": {
    "execution": {
     "iopub.execute_input": "2023-10-15T17:26:27.038966Z",
     "iopub.status.busy": "2023-10-15T17:26:27.038690Z",
     "iopub.status.idle": "2023-10-15T17:26:27.100176Z",
     "shell.execute_reply": "2023-10-15T17:26:27.099378Z"
    },
    "papermill": {
     "duration": 0.069394,
     "end_time": "2023-10-15T17:26:27.101909",
     "exception": false,
     "start_time": "2023-10-15T17:26:27.032515",
     "status": "completed"
    },
    "tags": []
   },
   "outputs": [],
   "source": [
    "from tensorflow.keras.preprocessing.text import Tokenizer\n",
    "from tensorflow.keras.preprocessing.sequence import pad_sequences\n",
    "\n",
    "VOCAB_SIZE = 3000\n",
    "MAX_SEQUENCE_LENGTH = 200\n",
    "\n",
    "tokenizer = Tokenizer(oov_token='<OOV>', num_words=VOCAB_SIZE)\n",
    "\n",
    "sentences = corpus['text_preprocessed']\n",
    "\n",
    "# generate word indexes\n",
    "tokenizer.fit_on_texts(sentences)\n",
    "\n",
    "# generate sequences and apply padding\n",
    "sequences = tokenizer.texts_to_sequences(sentences)\n",
    "sequences_padded = pad_sequences(sequences, maxlen=MAX_SEQUENCE_LENGTH, padding='post')"
   ]
  },
  {
   "cell_type": "code",
   "execution_count": 13,
   "id": "42879c9f",
   "metadata": {
    "execution": {
     "iopub.execute_input": "2023-10-15T17:26:27.113787Z",
     "iopub.status.busy": "2023-10-15T17:26:27.113550Z",
     "iopub.status.idle": "2023-10-15T17:26:27.121116Z",
     "shell.execute_reply": "2023-10-15T17:26:27.120162Z"
    },
    "papermill": {
     "duration": 0.015288,
     "end_time": "2023-10-15T17:26:27.122811",
     "exception": false,
     "start_time": "2023-10-15T17:26:27.107523",
     "status": "completed"
    },
    "tags": []
   },
   "outputs": [],
   "source": [
    "words = [x.split() for x in sentences]"
   ]
  },
  {
   "cell_type": "code",
   "execution_count": 14,
   "id": "f38b1846",
   "metadata": {
    "execution": {
     "iopub.execute_input": "2023-10-15T17:26:27.134771Z",
     "iopub.status.busy": "2023-10-15T17:26:27.134281Z",
     "iopub.status.idle": "2023-10-15T17:27:15.850747Z",
     "shell.execute_reply": "2023-10-15T17:27:15.849853Z"
    },
    "papermill": {
     "duration": 48.724652,
     "end_time": "2023-10-15T17:27:15.852913",
     "exception": false,
     "start_time": "2023-10-15T17:26:27.128261",
     "status": "completed"
    },
    "tags": []
   },
   "outputs": [],
   "source": [
    "EMBEDDING_DIM = 300\n",
    "\n",
    "w2v_file = '/kaggle/input/googlenewsvectorsnegative300/GoogleNews-vectors-negative300.bin'\n",
    "w2v_model = gensim.models.KeyedVectors.load_word2vec_format(w2v_file, binary=True)"
   ]
  },
  {
   "cell_type": "code",
   "execution_count": 15,
   "id": "91fbf0b1",
   "metadata": {
    "execution": {
     "iopub.execute_input": "2023-10-15T17:27:15.865869Z",
     "iopub.status.busy": "2023-10-15T17:27:15.865015Z",
     "iopub.status.idle": "2023-10-15T17:27:15.869295Z",
     "shell.execute_reply": "2023-10-15T17:27:15.868495Z"
    },
    "papermill": {
     "duration": 0.012186,
     "end_time": "2023-10-15T17:27:15.871052",
     "exception": false,
     "start_time": "2023-10-15T17:27:15.858866",
     "status": "completed"
    },
    "tags": []
   },
   "outputs": [],
   "source": [
    "# https://blog.keras.io/using-pre-trained-word-embeddings-in-a-keras-model.html"
   ]
  },
  {
   "cell_type": "code",
   "execution_count": 16,
   "id": "396ee3c6",
   "metadata": {
    "execution": {
     "iopub.execute_input": "2023-10-15T17:27:15.882712Z",
     "iopub.status.busy": "2023-10-15T17:27:15.882481Z",
     "iopub.status.idle": "2023-10-15T17:27:15.988246Z",
     "shell.execute_reply": "2023-10-15T17:27:15.987359Z"
    },
    "papermill": {
     "duration": 0.113622,
     "end_time": "2023-10-15T17:27:15.990112",
     "exception": false,
     "start_time": "2023-10-15T17:27:15.876490",
     "status": "completed"
    },
    "tags": []
   },
   "outputs": [],
   "source": [
    "word_index = tokenizer.word_index\n",
    "word_list = sorted(word_index.items(), key=lambda x:x[1])\n",
    "word_list = [x[0] for x in word_list]\n",
    "\n",
    "embedding_matrix = np.vstack([np.zeros([1, EMBEDDING_DIM]),\n",
    "                             np.array([w2v_model[word] if word in w2v_model else np.zeros(EMBEDDING_DIM) for word in word_list])])"
   ]
  },
  {
   "cell_type": "code",
   "execution_count": 17,
   "id": "85f7df89",
   "metadata": {
    "execution": {
     "iopub.execute_input": "2023-10-15T17:27:16.002230Z",
     "iopub.status.busy": "2023-10-15T17:27:16.001967Z",
     "iopub.status.idle": "2023-10-15T17:27:16.017471Z",
     "shell.execute_reply": "2023-10-15T17:27:16.016645Z"
    },
    "papermill": {
     "duration": 0.023377,
     "end_time": "2023-10-15T17:27:16.019145",
     "exception": false,
     "start_time": "2023-10-15T17:27:15.995768",
     "status": "completed"
    },
    "tags": []
   },
   "outputs": [],
   "source": [
    "from tensorflow.keras.layers import Embedding\n",
    "\n",
    "embedding_layer = Embedding(len(word_index)+1,\n",
    "                            EMBEDDING_DIM,\n",
    "                            weights=[embedding_matrix],\n",
    "                            input_length=MAX_SEQUENCE_LENGTH,\n",
    "                            trainable=False)"
   ]
  },
  {
   "cell_type": "code",
   "execution_count": 18,
   "id": "de886fd5",
   "metadata": {
    "execution": {
     "iopub.execute_input": "2023-10-15T17:27:16.031930Z",
     "iopub.status.busy": "2023-10-15T17:27:16.031412Z",
     "iopub.status.idle": "2023-10-15T17:27:21.161718Z",
     "shell.execute_reply": "2023-10-15T17:27:21.160586Z"
    },
    "papermill": {
     "duration": 5.139463,
     "end_time": "2023-10-15T17:27:21.163914",
     "exception": false,
     "start_time": "2023-10-15T17:27:16.024451",
     "status": "completed"
    },
    "tags": []
   },
   "outputs": [],
   "source": [
    "from tensorflow.keras.layers import Input, Conv1D, MaxPooling1D, Flatten, Dense, Dropout\n",
    "from tensorflow.keras import Model\n",
    "\n",
    "sequence_input = Input(shape=(MAX_SEQUENCE_LENGTH,), dtype='int32')\n",
    "embedded_sequences = embedding_layer(sequence_input)\n",
    "x = Conv1D(64, 3, activation='relu')(embedded_sequences)\n",
    "x = MaxPooling1D(3)(x)\n",
    "x = Dropout(0.2)(x)\n",
    "x = Conv1D(64, 3, activation='relu')(x)\n",
    "x = MaxPooling1D(3)(x)\n",
    "x = Dropout(0.2)(x)\n",
    "x = Conv1D(64, 3, activation='relu')(x)\n",
    "x = MaxPooling1D(3)(x)\n",
    "x = Dropout(0.2)(x)\n",
    "x = Flatten()(x)\n",
    "x = Dense(32, activation='relu')(x)\n",
    "preds = Dense(2, activation='softmax')(x)\n",
    "\n",
    "model = Model(sequence_input, preds)\n",
    "opt = tf.keras.optimizers.Adam(learning_rate=1e-3)\n",
    "model.compile(loss='sparse_categorical_crossentropy',\n",
    "              optimizer=opt,\n",
    "              metrics=['acc'])"
   ]
  },
  {
   "cell_type": "code",
   "execution_count": 19,
   "id": "9703f351",
   "metadata": {
    "execution": {
     "iopub.execute_input": "2023-10-15T17:27:21.178484Z",
     "iopub.status.busy": "2023-10-15T17:27:21.177811Z",
     "iopub.status.idle": "2023-10-15T17:27:21.183463Z",
     "shell.execute_reply": "2023-10-15T17:27:21.182601Z"
    },
    "papermill": {
     "duration": 0.014408,
     "end_time": "2023-10-15T17:27:21.185192",
     "exception": false,
     "start_time": "2023-10-15T17:27:21.170784",
     "status": "completed"
    },
    "tags": []
   },
   "outputs": [],
   "source": [
    "X_train = sequences_padded[:1400]\n",
    "X_test = sequences_padded[1400:]\n",
    "\n",
    "y_train = corpus['rating_rounded'][:1400] - 1\n",
    "y_test = corpus['rating_rounded'][1400:] - 1"
   ]
  },
  {
   "cell_type": "code",
   "execution_count": 20,
   "id": "d7583cd1",
   "metadata": {
    "execution": {
     "iopub.execute_input": "2023-10-15T17:27:21.196710Z",
     "iopub.status.busy": "2023-10-15T17:27:21.196435Z",
     "iopub.status.idle": "2023-10-15T17:27:21.203627Z",
     "shell.execute_reply": "2023-10-15T17:27:21.202735Z"
    },
    "papermill": {
     "duration": 0.014953,
     "end_time": "2023-10-15T17:27:21.205372",
     "exception": false,
     "start_time": "2023-10-15T17:27:21.190419",
     "status": "completed"
    },
    "tags": []
   },
   "outputs": [],
   "source": [
    "keep_train = (y_train == 0) | (y_train == 4)\n",
    "keep_test = (y_test == 0) | (y_test == 4)\n",
    "\n",
    "X_train = X_train[keep_train]\n",
    "y_train = y_train[keep_train]\n",
    "y_train = np.array([y if y==0 else 1 for y in y_train])\n",
    "\n",
    "X_test = X_test[keep_test]\n",
    "y_test = y_test[keep_test]\n",
    "y_test = np.array([y if y==0 else 1 for y in y_test])"
   ]
  },
  {
   "cell_type": "code",
   "execution_count": 21,
   "id": "0d9ae8d9",
   "metadata": {
    "execution": {
     "iopub.execute_input": "2023-10-15T17:27:21.217503Z",
     "iopub.status.busy": "2023-10-15T17:27:21.216814Z",
     "iopub.status.idle": "2023-10-15T17:27:42.815277Z",
     "shell.execute_reply": "2023-10-15T17:27:42.814237Z"
    },
    "papermill": {
     "duration": 21.606394,
     "end_time": "2023-10-15T17:27:42.817157",
     "exception": false,
     "start_time": "2023-10-15T17:27:21.210763",
     "status": "completed"
    },
    "tags": []
   },
   "outputs": [
    {
     "name": "stdout",
     "output_type": "stream",
     "text": [
      "Epoch 1/50\n",
      "9/9 [==============================] - 11s 36ms/step - loss: 0.7031 - acc: 0.7038\n",
      "Epoch 2/50\n",
      "9/9 [==============================] - 0s 5ms/step - loss: 0.6917 - acc: 0.5799\n",
      "Epoch 3/50\n",
      "9/9 [==============================] - 0s 5ms/step - loss: 0.6900 - acc: 0.4381\n",
      "Epoch 4/50\n",
      "9/9 [==============================] - 0s 5ms/step - loss: 0.6831 - acc: 0.6409\n",
      "Epoch 5/50\n",
      "9/9 [==============================] - 0s 5ms/step - loss: 0.6748 - acc: 0.6625\n",
      "Epoch 6/50\n",
      "9/9 [==============================] - 0s 5ms/step - loss: 0.6547 - acc: 0.6822\n",
      "Epoch 7/50\n",
      "9/9 [==============================] - 0s 5ms/step - loss: 0.6186 - acc: 0.7181\n",
      "Epoch 8/50\n",
      "9/9 [==============================] - 0s 5ms/step - loss: 0.5918 - acc: 0.6535\n",
      "Epoch 9/50\n",
      "9/9 [==============================] - 0s 5ms/step - loss: 0.5250 - acc: 0.7540\n",
      "Epoch 10/50\n",
      "9/9 [==============================] - 0s 5ms/step - loss: 0.4385 - acc: 0.7756\n",
      "Epoch 11/50\n",
      "9/9 [==============================] - 0s 5ms/step - loss: 0.3707 - acc: 0.8456\n",
      "Epoch 12/50\n",
      "9/9 [==============================] - 0s 5ms/step - loss: 0.3069 - acc: 0.8600\n",
      "Epoch 13/50\n",
      "9/9 [==============================] - 0s 5ms/step - loss: 0.2539 - acc: 0.8941\n",
      "Epoch 14/50\n",
      "9/9 [==============================] - 0s 5ms/step - loss: 0.2511 - acc: 0.9084\n",
      "Epoch 15/50\n",
      "9/9 [==============================] - 0s 5ms/step - loss: 0.1810 - acc: 0.9408\n",
      "Epoch 16/50\n",
      "9/9 [==============================] - 0s 5ms/step - loss: 0.1934 - acc: 0.9372\n",
      "Epoch 17/50\n",
      "9/9 [==============================] - 0s 5ms/step - loss: 0.2609 - acc: 0.8995\n",
      "Epoch 18/50\n",
      "9/9 [==============================] - 0s 5ms/step - loss: 0.1935 - acc: 0.9318\n",
      "Epoch 19/50\n",
      "9/9 [==============================] - 0s 5ms/step - loss: 0.1779 - acc: 0.9425\n",
      "Epoch 20/50\n",
      "9/9 [==============================] - 0s 5ms/step - loss: 0.1420 - acc: 0.9515\n",
      "Epoch 21/50\n",
      "9/9 [==============================] - 0s 5ms/step - loss: 0.1894 - acc: 0.9300\n",
      "Epoch 22/50\n",
      "9/9 [==============================] - 0s 5ms/step - loss: 0.1791 - acc: 0.9551\n",
      "Epoch 23/50\n",
      "9/9 [==============================] - 0s 5ms/step - loss: 0.1460 - acc: 0.9479\n",
      "Epoch 24/50\n",
      "9/9 [==============================] - 0s 5ms/step - loss: 0.1687 - acc: 0.9461\n",
      "Epoch 25/50\n",
      "9/9 [==============================] - 0s 5ms/step - loss: 0.1473 - acc: 0.9425\n",
      "Epoch 26/50\n",
      "9/9 [==============================] - 0s 5ms/step - loss: 0.1307 - acc: 0.9551\n",
      "Epoch 27/50\n",
      "9/9 [==============================] - 0s 5ms/step - loss: 0.1203 - acc: 0.9569\n",
      "Epoch 28/50\n",
      "9/9 [==============================] - 0s 5ms/step - loss: 0.1144 - acc: 0.9515\n",
      "Epoch 29/50\n",
      "9/9 [==============================] - 0s 5ms/step - loss: 0.1081 - acc: 0.9605\n",
      "Epoch 30/50\n",
      "9/9 [==============================] - 0s 5ms/step - loss: 0.1338 - acc: 0.9461\n",
      "Epoch 31/50\n",
      "9/9 [==============================] - 0s 5ms/step - loss: 0.1321 - acc: 0.9461\n",
      "Epoch 32/50\n",
      "9/9 [==============================] - 0s 5ms/step - loss: 0.1186 - acc: 0.9479\n",
      "Epoch 33/50\n",
      "9/9 [==============================] - 0s 5ms/step - loss: 0.1152 - acc: 0.9587\n",
      "Epoch 34/50\n",
      "9/9 [==============================] - 0s 5ms/step - loss: 0.1230 - acc: 0.9479\n",
      "Epoch 35/50\n",
      "9/9 [==============================] - 0s 5ms/step - loss: 0.1199 - acc: 0.9479\n",
      "Epoch 36/50\n",
      "9/9 [==============================] - 0s 5ms/step - loss: 0.1162 - acc: 0.9551\n",
      "Epoch 37/50\n",
      "9/9 [==============================] - 0s 5ms/step - loss: 0.0999 - acc: 0.9533\n",
      "Epoch 38/50\n",
      "9/9 [==============================] - 0s 5ms/step - loss: 0.1089 - acc: 0.9443\n",
      "Epoch 39/50\n",
      "9/9 [==============================] - 0s 5ms/step - loss: 0.1230 - acc: 0.9372\n",
      "Epoch 40/50\n",
      "9/9 [==============================] - 0s 5ms/step - loss: 0.1193 - acc: 0.9533\n",
      "Epoch 41/50\n",
      "9/9 [==============================] - 0s 5ms/step - loss: 0.1044 - acc: 0.9569\n",
      "Epoch 42/50\n",
      "9/9 [==============================] - 0s 5ms/step - loss: 0.1088 - acc: 0.9497\n",
      "Epoch 43/50\n",
      "9/9 [==============================] - 0s 5ms/step - loss: 0.1100 - acc: 0.9497\n",
      "Epoch 44/50\n",
      "9/9 [==============================] - 0s 5ms/step - loss: 0.1310 - acc: 0.9569\n",
      "Epoch 45/50\n",
      "9/9 [==============================] - 0s 6ms/step - loss: 0.1191 - acc: 0.9461\n",
      "Epoch 46/50\n",
      "9/9 [==============================] - 0s 5ms/step - loss: 0.1120 - acc: 0.9551\n",
      "Epoch 47/50\n",
      "9/9 [==============================] - 0s 5ms/step - loss: 0.0943 - acc: 0.9533\n",
      "Epoch 48/50\n",
      "9/9 [==============================] - 0s 5ms/step - loss: 0.0919 - acc: 0.9605\n",
      "Epoch 49/50\n",
      "9/9 [==============================] - 0s 10ms/step - loss: 0.1014 - acc: 0.9479\n",
      "Epoch 50/50\n",
      "9/9 [==============================] - 0s 5ms/step - loss: 0.1038 - acc: 0.9497\n"
     ]
    },
    {
     "data": {
      "text/plain": [
       "<keras.callbacks.History at 0x7e6596dd9f00>"
      ]
     },
     "execution_count": 21,
     "metadata": {},
     "output_type": "execute_result"
    }
   ],
   "source": [
    "from sklearn.utils import class_weight\n",
    "\n",
    "# classes = [0, 1, 2, 3, 4]\n",
    "classes = [0, 1]\n",
    "class_weights = class_weight.compute_class_weight('balanced', classes=classes, y=y_train)\n",
    "class_weights = dict(enumerate(class_weights))\n",
    "\n",
    "model.fit(X_train, y_train, epochs=50, batch_size=64, class_weight=class_weights)"
   ]
  },
  {
   "cell_type": "code",
   "execution_count": 22,
   "id": "4728553a",
   "metadata": {
    "execution": {
     "iopub.execute_input": "2023-10-15T17:27:42.843073Z",
     "iopub.status.busy": "2023-10-15T17:27:42.842762Z",
     "iopub.status.idle": "2023-10-15T17:27:43.273090Z",
     "shell.execute_reply": "2023-10-15T17:27:43.272152Z"
    },
    "papermill": {
     "duration": 0.444878,
     "end_time": "2023-10-15T17:27:43.275120",
     "exception": false,
     "start_time": "2023-10-15T17:27:42.830242",
     "status": "completed"
    },
    "tags": []
   },
   "outputs": [
    {
     "name": "stdout",
     "output_type": "stream",
     "text": [
      "2/2 [==============================] - 0s 112ms/step\n"
     ]
    }
   ],
   "source": [
    "y_pred = model.predict(X_test)\n",
    "y_pred_label = [np.argmax(y) for y in y_pred]"
   ]
  },
  {
   "cell_type": "code",
   "execution_count": 23,
   "id": "6b32cffd",
   "metadata": {
    "execution": {
     "iopub.execute_input": "2023-10-15T17:27:43.301461Z",
     "iopub.status.busy": "2023-10-15T17:27:43.301190Z",
     "iopub.status.idle": "2023-10-15T17:27:43.582856Z",
     "shell.execute_reply": "2023-10-15T17:27:43.581949Z"
    },
    "papermill": {
     "duration": 0.296073,
     "end_time": "2023-10-15T17:27:43.584724",
     "exception": false,
     "start_time": "2023-10-15T17:27:43.288651",
     "status": "completed"
    },
    "tags": []
   },
   "outputs": [
    {
     "data": {
      "image/png": "[encoded data removed]",
      "text/plain": [
       "<Figure size 600x600 with 2 Axes>"
      ]
     },
     "metadata": {},
     "output_type": "display_data"
    }
   ],
   "source": [
    "from sklearn.metrics import ConfusionMatrixDisplay, confusion_matrix\n",
    "\n",
    "fig, ax = plt.subplots(1, 1, figsize=(6, 6))\n",
    "cm = confusion_matrix(y_test, y_pred_label)\n",
    "cm_plot = ConfusionMatrixDisplay(cm, display_labels=[0, 1])\n",
    "cm_plot.plot(cmap='Blues', ax=ax)\n",
    "im = cm_plot.im_\n",
    "im.colorbar.remove()\n",
    "plt.colorbar(im, orientation='horizontal', pad=0.2, label='Number of samples')\n",
    "\n",
    "plt.title('');"
   ]
  },
  {
   "cell_type": "code",
   "execution_count": null,
   "id": "70aab702",
   "metadata": {
    "papermill": {
     "duration": 0.011748,
     "end_time": "2023-10-15T17:27:43.608572",
     "exception": false,
     "start_time": "2023-10-15T17:27:43.596824",
     "status": "completed"
    },
    "tags": []
   },
   "outputs": [],
   "source": []
  }
 ],
 "metadata": {
  "kernelspec": {
   "display_name": "Python 3",
   "language": "python",
   "name": "python3"
  },
  "language_info": {
   "codemirror_mode": {
    "name": "ipython",
    "version": 3
   },
   "file_extension": ".py",
   "mimetype": "text/x-python",
   "name": "python",
   "nbconvert_exporter": "python",
   "pygments_lexer": "ipython3",
   "version": "3.10.12"
  },
  "papermill": {
   "default_parameters": {},
   "duration": 109.542652,
   "end_time": "2023-10-15T17:27:47.624368",
   "environment_variables": {},
   "exception": null,
   "input_path": "__notebook__.ipynb",
   "output_path": "__notebook__.ipynb",
   "parameters": {},
   "start_time": "2023-10-15T17:25:58.081716",
   "version": "2.4.0"
  }
 },
 "nbformat": 4,
 "nbformat_minor": 5
}
